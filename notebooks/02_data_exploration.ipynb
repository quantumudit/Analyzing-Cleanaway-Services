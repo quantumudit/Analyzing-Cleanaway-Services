{
 "cells": [
  {
   "cell_type": "markdown",
   "metadata": {},
   "source": [
    "# Data Transformation"
   ]
  },
  {
   "cell_type": "markdown",
   "metadata": {},
   "source": [
    "## Setup"
   ]
  },
  {
   "cell_type": "code",
   "execution_count": 1,
   "metadata": {},
   "outputs": [
    {
     "name": "stdout",
     "output_type": "stream",
     "text": [
      "Current working directory: notebooks\n",
      "Current working directory (Changed): Analyzing-Cleanway-Services\n"
     ]
    }
   ],
   "source": [
    "# Setting up execution path\n",
    "import os\n",
    "\n",
    "print(f\"Current working directory: {os.path.basename(os.getcwd())}\")\n",
    "\n",
    "# Change to root directory\n",
    "os.chdir(\"../\")\n",
    "print(f\"Current working directory (Changed): {os.path.basename(os.getcwd())}\")"
   ]
  },
  {
   "cell_type": "code",
   "execution_count": 2,
   "metadata": {},
   "outputs": [],
   "source": [
    "from rich import print"
   ]
  },
  {
   "cell_type": "code",
   "execution_count": 3,
   "metadata": {},
   "outputs": [],
   "source": [
    "from src.constants import CONFIGS\n",
    "from src.utils.basic_utils import read_yaml"
   ]
  },
  {
   "cell_type": "code",
   "execution_count": 4,
   "metadata": {},
   "outputs": [
    {
     "name": "stdout",
     "output_type": "stream",
     "text": [
      "[2024-03-13 10:51:25 PM]:ProjectLogger INFO:basic_utils 40 - yaml file: conf\\configs.yaml loaded successfully\n"
     ]
    },
    {
     "data": {
      "text/html": [
       "<pre style=\"white-space:pre;overflow-x:auto;line-height:normal;font-family:Menlo,'DejaVu Sans Mono',consolas,'Courier New',monospace\"><span style=\"font-weight: bold\">{</span><span style=\"color: #008000; text-decoration-color: #008000\">'scraped_data_path'</span>: <span style=\"color: #008000; text-decoration-color: #008000\">'data/external/scraped_services.csv'</span>, <span style=\"color: #008000; text-decoration-color: #008000\">'processed_data_path'</span>: <span style=\"color: #008000; text-decoration-color: #008000\">'data/processed/products.csv'</span><span style=\"font-weight: bold\">}</span>\n",
       "</pre>\n"
      ],
      "text/plain": [
       "\u001b[1m{\u001b[0m\u001b[32m'scraped_data_path'\u001b[0m: \u001b[32m'data/external/scraped_services.csv'\u001b[0m, \u001b[32m'processed_data_path'\u001b[0m: \u001b[32m'data/processed/products.csv'\u001b[0m\u001b[1m}\u001b[0m\n"
      ]
     },
     "metadata": {},
     "output_type": "display_data"
    }
   ],
   "source": [
    "configs = read_yaml(CONFIGS).data_preprocessor\n",
    "print(configs.to_dict())"
   ]
  },
  {
   "cell_type": "code",
   "execution_count": 5,
   "metadata": {},
   "outputs": [],
   "source": [
    "#imports\n",
    "import numpy as np\n",
    "import pandas as pd\n",
    "import matplotlib.pyplot as plt\n",
    "import seaborn as sns\n",
    "import warnings\n",
    "\n",
    "# module setup\n",
    "%matplotlib inline\n",
    "pd.options.display.precision = 5\n",
    "warnings.filterwarnings(\"ignore\")"
   ]
  },
  {
   "cell_type": "code",
   "execution_count": 6,
   "metadata": {},
   "outputs": [
    {
     "data": {
      "text/html": [
       "<div>\n",
       "<style scoped>\n",
       "    .dataframe tbody tr th:only-of-type {\n",
       "        vertical-align: middle;\n",
       "    }\n",
       "\n",
       "    .dataframe tbody tr th {\n",
       "        vertical-align: top;\n",
       "    }\n",
       "\n",
       "    .dataframe thead th {\n",
       "        text-align: right;\n",
       "    }\n",
       "</style>\n",
       "<table border=\"1\" class=\"dataframe\">\n",
       "  <thead>\n",
       "    <tr style=\"text-align: right;\">\n",
       "      <th></th>\n",
       "      <th>service_name</th>\n",
       "      <th>address</th>\n",
       "      <th>latitude</th>\n",
       "      <th>longitude</th>\n",
       "      <th>services_offered</th>\n",
       "      <th>details_url</th>\n",
       "      <th>scrape_ts</th>\n",
       "    </tr>\n",
       "  </thead>\n",
       "  <tbody>\n",
       "    <tr>\n",
       "      <th>0</th>\n",
       "      <td>Bromelton Energy &amp; Resource Centre</td>\n",
       "      <td>Lot 1 Beaudesert-Boonah Road, Bromelton QLD</td>\n",
       "      <td>-27.975059190727386</td>\n",
       "      <td>152.92509</td>\n",
       "      <td>Miscellaneous</td>\n",
       "      <td>https://www.cleanaway.com.au/location/bromelto...</td>\n",
       "      <td>2024-03-10 23:51:34</td>\n",
       "    </tr>\n",
       "    <tr>\n",
       "      <th>1</th>\n",
       "      <td>Albany Transfer Station &amp; MRF</td>\n",
       "      <td>2-16 Cuming Road &amp; 37 Maxwell Street, Albany, ...</td>\n",
       "      <td>-35.01078332713777</td>\n",
       "      <td>117.86332</td>\n",
       "      <td>Solid waste services, Office</td>\n",
       "      <td>https://www.cleanaway.com.au/location/albany/</td>\n",
       "      <td>2024-03-10 23:51:38</td>\n",
       "    </tr>\n",
       "    <tr>\n",
       "      <th>2</th>\n",
       "      <td>Albury-Wodonga Solid Waste Services</td>\n",
       "      <td>26 Reiff St, Lavington, NSW, 2641</td>\n",
       "      <td>-36.037913</td>\n",
       "      <td>146.96458</td>\n",
       "      <td>Solid waste services</td>\n",
       "      <td>https://www.cleanaway.com.au/location/lavington/</td>\n",
       "      <td>2024-03-10 23:51:44</td>\n",
       "    </tr>\n",
       "    <tr>\n",
       "      <th>3</th>\n",
       "      <td>Alexandra Solid Waste Services</td>\n",
       "      <td>4-8 Station Street, Alexandra, VIC, 3714</td>\n",
       "      <td>-37.183192</td>\n",
       "      <td>145.71203</td>\n",
       "      <td>Solid waste services</td>\n",
       "      <td>https://www.cleanaway.com.au/location/alexandra/</td>\n",
       "      <td>2024-03-10 23:51:52</td>\n",
       "    </tr>\n",
       "    <tr>\n",
       "      <th>4</th>\n",
       "      <td>Cleanaway Alice Springs Solid Waste Depot</td>\n",
       "      <td>6 Wilkinson Street, Ciccone, NT, 0870</td>\n",
       "      <td>-23.700021</td>\n",
       "      <td>133.87134</td>\n",
       "      <td>Solid waste services</td>\n",
       "      <td>https://www.cleanaway.com.au/location/alice-sp...</td>\n",
       "      <td>2024-03-10 23:52:00</td>\n",
       "    </tr>\n",
       "  </tbody>\n",
       "</table>\n",
       "</div>"
      ],
      "text/plain": [
       "                                service_name  \\\n",
       "0         Bromelton Energy & Resource Centre   \n",
       "1              Albany Transfer Station & MRF   \n",
       "2        Albury-Wodonga Solid Waste Services   \n",
       "3             Alexandra Solid Waste Services   \n",
       "4  Cleanaway Alice Springs Solid Waste Depot   \n",
       "\n",
       "                                             address             latitude  \\\n",
       "0        Lot 1 Beaudesert-Boonah Road, Bromelton QLD  -27.975059190727386   \n",
       "1  2-16 Cuming Road & 37 Maxwell Street, Albany, ...   -35.01078332713777   \n",
       "2                  26 Reiff St, Lavington, NSW, 2641           -36.037913   \n",
       "3           4-8 Station Street, Alexandra, VIC, 3714           -37.183192   \n",
       "4              6 Wilkinson Street, Ciccone, NT, 0870           -23.700021   \n",
       "\n",
       "   longitude              services_offered  \\\n",
       "0  152.92509                 Miscellaneous   \n",
       "1  117.86332  Solid waste services, Office   \n",
       "2  146.96458          Solid waste services   \n",
       "3  145.71203          Solid waste services   \n",
       "4  133.87134          Solid waste services   \n",
       "\n",
       "                                         details_url            scrape_ts  \n",
       "0  https://www.cleanaway.com.au/location/bromelto...  2024-03-10 23:51:34  \n",
       "1      https://www.cleanaway.com.au/location/albany/  2024-03-10 23:51:38  \n",
       "2   https://www.cleanaway.com.au/location/lavington/  2024-03-10 23:51:44  \n",
       "3   https://www.cleanaway.com.au/location/alexandra/  2024-03-10 23:51:52  \n",
       "4  https://www.cleanaway.com.au/location/alice-sp...  2024-03-10 23:52:00  "
      ]
     },
     "execution_count": 6,
     "metadata": {},
     "output_type": "execute_result"
    }
   ],
   "source": [
    "# Get the CSV filepath from configs\n",
    "scraped_data_path = configs.scraped_data_path\n",
    "\n",
    "# Read the CSV data\n",
    "df_main = pd.read_csv(scraped_data_path, index_col=False)\n",
    "\n",
    "# create a copy of it for working\n",
    "df = df_main.copy(deep=True)\n",
    "\n",
    "# View a glimpse of the data\n",
    "df.head()"
   ]
  },
  {
   "cell_type": "code",
   "execution_count": 7,
   "metadata": {},
   "outputs": [
    {
     "name": "stdout",
     "output_type": "stream",
     "text": [
      "<class 'pandas.core.frame.DataFrame'>\n",
      "RangeIndex: 215 entries, 0 to 214\n",
      "Data columns (total 7 columns):\n",
      " #   Column            Non-Null Count  Dtype  \n",
      "---  ------            --------------  -----  \n",
      " 0   service_name      215 non-null    object \n",
      " 1   address           215 non-null    object \n",
      " 2   latitude          215 non-null    object \n",
      " 3   longitude         214 non-null    float64\n",
      " 4   services_offered  214 non-null    object \n",
      " 5   details_url       215 non-null    object \n",
      " 6   scrape_ts         215 non-null    object \n",
      "dtypes: float64(1), object(6)\n",
      "memory usage: 11.9+ KB\n"
     ]
    }
   ],
   "source": [
    "df.info()"
   ]
  },
  {
   "cell_type": "code",
   "execution_count": 8,
   "metadata": {},
   "outputs": [
    {
     "data": {
      "text/html": [
       "<div>\n",
       "<style scoped>\n",
       "    .dataframe tbody tr th:only-of-type {\n",
       "        vertical-align: middle;\n",
       "    }\n",
       "\n",
       "    .dataframe tbody tr th {\n",
       "        vertical-align: top;\n",
       "    }\n",
       "\n",
       "    .dataframe thead th {\n",
       "        text-align: right;\n",
       "    }\n",
       "</style>\n",
       "<table border=\"1\" class=\"dataframe\">\n",
       "  <thead>\n",
       "    <tr style=\"text-align: right;\">\n",
       "      <th></th>\n",
       "      <th>service_name</th>\n",
       "      <th>address</th>\n",
       "      <th>latitude</th>\n",
       "      <th>longitude</th>\n",
       "      <th>services_offered</th>\n",
       "      <th>details_url</th>\n",
       "      <th>scrape_ts</th>\n",
       "    </tr>\n",
       "  </thead>\n",
       "  <tbody>\n",
       "    <tr>\n",
       "      <th>135</th>\n",
       "      <td>Cleanaway Narangba Vacuum Truck Liquid Waste S...</td>\n",
       "      <td>109 Potassium Street, Narangba, QLD, 4504</td>\n",
       "      <td>-27.206933789931885</td>\n",
       "      <td>NaN</td>\n",
       "      <td>NaN</td>\n",
       "      <td>https://www.cleanaway.com.au/location/narangba/</td>\n",
       "      <td>2024-03-11 00:04:18</td>\n",
       "    </tr>\n",
       "  </tbody>\n",
       "</table>\n",
       "</div>"
      ],
      "text/plain": [
       "                                          service_name  \\\n",
       "135  Cleanaway Narangba Vacuum Truck Liquid Waste S...   \n",
       "\n",
       "                                       address             latitude  \\\n",
       "135  109 Potassium Street, Narangba, QLD, 4504  -27.206933789931885   \n",
       "\n",
       "     longitude services_offered  \\\n",
       "135        NaN              NaN   \n",
       "\n",
       "                                         details_url            scrape_ts  \n",
       "135  https://www.cleanaway.com.au/location/narangba/  2024-03-11 00:04:18  "
      ]
     },
     "execution_count": 8,
     "metadata": {},
     "output_type": "execute_result"
    }
   ],
   "source": [
    "df[df[\"longitude\"].isna()]"
   ]
  },
  {
   "cell_type": "code",
   "execution_count": 9,
   "metadata": {},
   "outputs": [],
   "source": [
    "import httpx"
   ]
  },
  {
   "cell_type": "code",
   "execution_count": 10,
   "metadata": {},
   "outputs": [],
   "source": [
    "def get_lat_long(address):\n",
    "    url = f\"https://nominatim.openstreetmap.org/?q={address}&format=json\"\n",
    "    response = httpx.get(url)\n",
    "    if response.status_code == 200:\n",
    "        data = response.json()\n",
    "        return {\"lat\": float(data[0][\"lat\"]), \"long\": float(data[0][\"lon\"])}\n",
    "    else:\n",
    "        return \"Error: Unable to retrieve location information\""
   ]
  },
  {
   "cell_type": "code",
   "execution_count": 11,
   "metadata": {},
   "outputs": [
    {
     "name": "stdout",
     "output_type": "stream",
     "text": [
      "[2024-03-13 10:51:28 PM]:httpx INFO:_client 1026 - HTTP Request: GET https://nominatim.openstreetmap.org/?q=109%20Potassium%20Street,%20Narangba,%20QLD,%204504&format=json \"HTTP/1.1 200 OK\"\n"
     ]
    },
    {
     "data": {
      "text/plain": [
       "{'lat': -27.2005386, 'long': 152.9885253}"
      ]
     },
     "execution_count": 11,
     "metadata": {},
     "output_type": "execute_result"
    }
   ],
   "source": [
    "get_location_name(\"109 Potassium Street, Narangba, QLD, 4504\")"
   ]
  },
  {
   "cell_type": "code",
   "execution_count": 12,
   "metadata": {},
   "outputs": [],
   "source": [
    "def apply_function(row):\n",
    "    if pd.isnull(row[\"latitude\"]) or pd.isnull(row[\"longitude\"]):\n",
    "        coordinates = get_location_name(row[\"address\"])\n",
    "        latitude, longitude = coordinates[\"lat\"], coordinates[\"long\"]\n",
    "        return latitude, longitude\n",
    "    else:\n",
    "        return row[\"latitude\"], row[\"longitude\"]"
   ]
  },
  {
   "cell_type": "code",
   "execution_count": 13,
   "metadata": {},
   "outputs": [
    {
     "name": "stdout",
     "output_type": "stream",
     "text": [
      "[2024-03-13 10:51:29 PM]:httpx INFO:_client 1026 - HTTP Request: GET https://nominatim.openstreetmap.org/?q=109%20Potassium%20Street,%20Narangba,%20QLD,%204504&format=json \"HTTP/1.1 200 OK\"\n"
     ]
    }
   ],
   "source": [
    "df[\"latitude\"], df[\"longitude\"] = zip(*df.apply(apply_function, axis=1))"
   ]
  },
  {
   "cell_type": "code",
   "execution_count": 14,
   "metadata": {},
   "outputs": [
    {
     "data": {
      "text/html": [
       "<div>\n",
       "<style scoped>\n",
       "    .dataframe tbody tr th:only-of-type {\n",
       "        vertical-align: middle;\n",
       "    }\n",
       "\n",
       "    .dataframe tbody tr th {\n",
       "        vertical-align: top;\n",
       "    }\n",
       "\n",
       "    .dataframe thead th {\n",
       "        text-align: right;\n",
       "    }\n",
       "</style>\n",
       "<table border=\"1\" class=\"dataframe\">\n",
       "  <thead>\n",
       "    <tr style=\"text-align: right;\">\n",
       "      <th></th>\n",
       "      <th>service_name</th>\n",
       "      <th>address</th>\n",
       "      <th>latitude</th>\n",
       "      <th>longitude</th>\n",
       "      <th>services_offered</th>\n",
       "      <th>details_url</th>\n",
       "      <th>scrape_ts</th>\n",
       "    </tr>\n",
       "  </thead>\n",
       "  <tbody>\n",
       "    <tr>\n",
       "      <th>135</th>\n",
       "      <td>Cleanaway Narangba Vacuum Truck Liquid Waste S...</td>\n",
       "      <td>109 Potassium Street, Narangba, QLD, 4504</td>\n",
       "      <td>-27.20054</td>\n",
       "      <td>152.98853</td>\n",
       "      <td>NaN</td>\n",
       "      <td>https://www.cleanaway.com.au/location/narangba/</td>\n",
       "      <td>2024-03-11 00:04:18</td>\n",
       "    </tr>\n",
       "  </tbody>\n",
       "</table>\n",
       "</div>"
      ],
      "text/plain": [
       "                                          service_name  \\\n",
       "135  Cleanaway Narangba Vacuum Truck Liquid Waste S...   \n",
       "\n",
       "                                       address  latitude  longitude  \\\n",
       "135  109 Potassium Street, Narangba, QLD, 4504 -27.20054  152.98853   \n",
       "\n",
       "    services_offered                                      details_url  \\\n",
       "135              NaN  https://www.cleanaway.com.au/location/narangba/   \n",
       "\n",
       "               scrape_ts  \n",
       "135  2024-03-11 00:04:18  "
      ]
     },
     "execution_count": 14,
     "metadata": {},
     "output_type": "execute_result"
    }
   ],
   "source": [
    "df[df[\"services_offered\"].isna()]"
   ]
  },
  {
   "cell_type": "code",
   "execution_count": 15,
   "metadata": {},
   "outputs": [
    {
     "data": {
      "text/html": [
       "<div>\n",
       "<style scoped>\n",
       "    .dataframe tbody tr th:only-of-type {\n",
       "        vertical-align: middle;\n",
       "    }\n",
       "\n",
       "    .dataframe tbody tr th {\n",
       "        vertical-align: top;\n",
       "    }\n",
       "\n",
       "    .dataframe thead th {\n",
       "        text-align: right;\n",
       "    }\n",
       "</style>\n",
       "<table border=\"1\" class=\"dataframe\">\n",
       "  <thead>\n",
       "    <tr style=\"text-align: right;\">\n",
       "      <th></th>\n",
       "      <th>service_name</th>\n",
       "      <th>address</th>\n",
       "      <th>latitude</th>\n",
       "      <th>longitude</th>\n",
       "      <th>services_offered</th>\n",
       "      <th>details_url</th>\n",
       "      <th>scrape_ts</th>\n",
       "    </tr>\n",
       "  </thead>\n",
       "  <tbody>\n",
       "  </tbody>\n",
       "</table>\n",
       "</div>"
      ],
      "text/plain": [
       "Empty DataFrame\n",
       "Columns: [service_name, address, latitude, longitude, services_offered, details_url, scrape_ts]\n",
       "Index: []"
      ]
     },
     "execution_count": 15,
     "metadata": {},
     "output_type": "execute_result"
    }
   ],
   "source": [
    "df[df[\"longitude\"].isna()]"
   ]
  },
  {
   "cell_type": "code",
   "execution_count": 16,
   "metadata": {},
   "outputs": [
    {
     "data": {
      "text/plain": [
       "0            Lot 1 Beaudesert-Boonah Road, Bromelton QLD\n",
       "1      2-16 Cuming Road & 37 Maxwell Street, Albany, ...\n",
       "2                      26 Reiff St, Lavington, NSW, 2641\n",
       "3               4-8 Station Street, Alexandra, VIC, 3714\n",
       "4                  6 Wilkinson Street, Ciccone, NT, 0870\n",
       "                             ...                        \n",
       "210                1 Amsterdam Circuit, Wyong, NSW, 2259\n",
       "211                      29 Binary St, Yatala, QLD, 4207\n",
       "212                20 Chillingworks Rd, Young, NSW, 2594\n",
       "213                510 Summerhill Road, Wollert VIC 3750\n",
       "214        Old Power Station Site, Wallerawang, NSW 2845\n",
       "Name: address, Length: 215, dtype: object"
      ]
     },
     "execution_count": 16,
     "metadata": {},
     "output_type": "execute_result"
    }
   ],
   "source": [
    "df[\"address\"]"
   ]
  },
  {
   "cell_type": "code",
   "execution_count": 28,
   "metadata": {},
   "outputs": [],
   "source": [
    "def get_location_name(latitude, longitude):\n",
    "    url = f\"https://nominatim.openstreetmap.org/reverse?lat={latitude}&lon={longitude}&format=json\"\n",
    "    response = httpx.get(url)\n",
    "    if response.status_code == 200:\n",
    "        data_address = response.json()[\"address\"]\n",
    "        return data_address\n",
    "        # return (data_address.get(\"state\"), data_address.get(\"postcode\"))\n",
    "    else:\n",
    "        return \"Error: Unable to retrieve location information\""
   ]
  },
  {
   "cell_type": "code",
   "execution_count": 18,
   "metadata": {},
   "outputs": [
    {
     "name": "stdout",
     "output_type": "stream",
     "text": [
      "<class 'pandas.core.frame.DataFrame'>\n",
      "RangeIndex: 215 entries, 0 to 214\n",
      "Data columns (total 7 columns):\n",
      " #   Column            Non-Null Count  Dtype  \n",
      "---  ------            --------------  -----  \n",
      " 0   service_name      215 non-null    object \n",
      " 1   address           215 non-null    object \n",
      " 2   latitude          215 non-null    object \n",
      " 3   longitude         215 non-null    float64\n",
      " 4   services_offered  214 non-null    object \n",
      " 5   details_url       215 non-null    object \n",
      " 6   scrape_ts         215 non-null    object \n",
      "dtypes: float64(1), object(6)\n",
      "memory usage: 11.9+ KB\n"
     ]
    }
   ],
   "source": [
    "df.info()"
   ]
  },
  {
   "cell_type": "code",
   "execution_count": 19,
   "metadata": {},
   "outputs": [
    {
     "data": {
      "text/html": [
       "<div>\n",
       "<style scoped>\n",
       "    .dataframe tbody tr th:only-of-type {\n",
       "        vertical-align: middle;\n",
       "    }\n",
       "\n",
       "    .dataframe tbody tr th {\n",
       "        vertical-align: top;\n",
       "    }\n",
       "\n",
       "    .dataframe thead th {\n",
       "        text-align: right;\n",
       "    }\n",
       "</style>\n",
       "<table border=\"1\" class=\"dataframe\">\n",
       "  <thead>\n",
       "    <tr style=\"text-align: right;\">\n",
       "      <th></th>\n",
       "      <th>service_name</th>\n",
       "      <th>address</th>\n",
       "      <th>latitude</th>\n",
       "      <th>longitude</th>\n",
       "      <th>services_offered</th>\n",
       "      <th>details_url</th>\n",
       "      <th>scrape_ts</th>\n",
       "    </tr>\n",
       "  </thead>\n",
       "  <tbody>\n",
       "    <tr>\n",
       "      <th>0</th>\n",
       "      <td>Bromelton Energy &amp; Resource Centre</td>\n",
       "      <td>Lot 1 Beaudesert-Boonah Road, Bromelton QLD</td>\n",
       "      <td>-27.975059190727386</td>\n",
       "      <td>152.92509</td>\n",
       "      <td>Miscellaneous</td>\n",
       "      <td>https://www.cleanaway.com.au/location/bromelto...</td>\n",
       "      <td>2024-03-10 23:51:34</td>\n",
       "    </tr>\n",
       "    <tr>\n",
       "      <th>1</th>\n",
       "      <td>Albany Transfer Station &amp; MRF</td>\n",
       "      <td>2-16 Cuming Road &amp; 37 Maxwell Street, Albany, ...</td>\n",
       "      <td>-35.01078332713777</td>\n",
       "      <td>117.86332</td>\n",
       "      <td>Solid waste services, Office</td>\n",
       "      <td>https://www.cleanaway.com.au/location/albany/</td>\n",
       "      <td>2024-03-10 23:51:38</td>\n",
       "    </tr>\n",
       "    <tr>\n",
       "      <th>2</th>\n",
       "      <td>Albury-Wodonga Solid Waste Services</td>\n",
       "      <td>26 Reiff St, Lavington, NSW, 2641</td>\n",
       "      <td>-36.037913</td>\n",
       "      <td>146.96458</td>\n",
       "      <td>Solid waste services</td>\n",
       "      <td>https://www.cleanaway.com.au/location/lavington/</td>\n",
       "      <td>2024-03-10 23:51:44</td>\n",
       "    </tr>\n",
       "    <tr>\n",
       "      <th>3</th>\n",
       "      <td>Alexandra Solid Waste Services</td>\n",
       "      <td>4-8 Station Street, Alexandra, VIC, 3714</td>\n",
       "      <td>-37.183192</td>\n",
       "      <td>145.71203</td>\n",
       "      <td>Solid waste services</td>\n",
       "      <td>https://www.cleanaway.com.au/location/alexandra/</td>\n",
       "      <td>2024-03-10 23:51:52</td>\n",
       "    </tr>\n",
       "    <tr>\n",
       "      <th>4</th>\n",
       "      <td>Cleanaway Alice Springs Solid Waste Depot</td>\n",
       "      <td>6 Wilkinson Street, Ciccone, NT, 0870</td>\n",
       "      <td>-23.700021</td>\n",
       "      <td>133.87134</td>\n",
       "      <td>Solid waste services</td>\n",
       "      <td>https://www.cleanaway.com.au/location/alice-sp...</td>\n",
       "      <td>2024-03-10 23:52:00</td>\n",
       "    </tr>\n",
       "  </tbody>\n",
       "</table>\n",
       "</div>"
      ],
      "text/plain": [
       "                                service_name  \\\n",
       "0         Bromelton Energy & Resource Centre   \n",
       "1              Albany Transfer Station & MRF   \n",
       "2        Albury-Wodonga Solid Waste Services   \n",
       "3             Alexandra Solid Waste Services   \n",
       "4  Cleanaway Alice Springs Solid Waste Depot   \n",
       "\n",
       "                                             address             latitude  \\\n",
       "0        Lot 1 Beaudesert-Boonah Road, Bromelton QLD  -27.975059190727386   \n",
       "1  2-16 Cuming Road & 37 Maxwell Street, Albany, ...   -35.01078332713777   \n",
       "2                  26 Reiff St, Lavington, NSW, 2641           -36.037913   \n",
       "3           4-8 Station Street, Alexandra, VIC, 3714           -37.183192   \n",
       "4              6 Wilkinson Street, Ciccone, NT, 0870           -23.700021   \n",
       "\n",
       "   longitude              services_offered  \\\n",
       "0  152.92509                 Miscellaneous   \n",
       "1  117.86332  Solid waste services, Office   \n",
       "2  146.96458          Solid waste services   \n",
       "3  145.71203          Solid waste services   \n",
       "4  133.87134          Solid waste services   \n",
       "\n",
       "                                         details_url            scrape_ts  \n",
       "0  https://www.cleanaway.com.au/location/bromelto...  2024-03-10 23:51:34  \n",
       "1      https://www.cleanaway.com.au/location/albany/  2024-03-10 23:51:38  \n",
       "2   https://www.cleanaway.com.au/location/lavington/  2024-03-10 23:51:44  \n",
       "3   https://www.cleanaway.com.au/location/alexandra/  2024-03-10 23:51:52  \n",
       "4  https://www.cleanaway.com.au/location/alice-sp...  2024-03-10 23:52:00  "
      ]
     },
     "execution_count": 19,
     "metadata": {},
     "output_type": "execute_result"
    }
   ],
   "source": [
    "df.head()"
   ]
  },
  {
   "cell_type": "code",
   "execution_count": 20,
   "metadata": {},
   "outputs": [],
   "source": [
    "df[\"state\"] = df[\"address\"].str.extract(\n",
    "    r\".+?((?:[A-Z]{2,3}|Victoria|Vic|Western Australia))\", expand=False\n",
    ")\n",
    "df[\"postcode\"] = df[\"address\"].str.extract(r\".* (\\d{4})\", expand=False)"
   ]
  },
  {
   "cell_type": "code",
   "execution_count": 21,
   "metadata": {},
   "outputs": [
    {
     "name": "stdout",
     "output_type": "stream",
     "text": [
      "<class 'pandas.core.frame.DataFrame'>\n",
      "RangeIndex: 215 entries, 0 to 214\n",
      "Data columns (total 9 columns):\n",
      " #   Column            Non-Null Count  Dtype  \n",
      "---  ------            --------------  -----  \n",
      " 0   service_name      215 non-null    object \n",
      " 1   address           215 non-null    object \n",
      " 2   latitude          215 non-null    object \n",
      " 3   longitude         215 non-null    float64\n",
      " 4   services_offered  214 non-null    object \n",
      " 5   details_url       215 non-null    object \n",
      " 6   scrape_ts         215 non-null    object \n",
      " 7   state             215 non-null    object \n",
      " 8   postcode          214 non-null    object \n",
      "dtypes: float64(1), object(8)\n",
      "memory usage: 15.2+ KB\n"
     ]
    }
   ],
   "source": [
    "df.info()"
   ]
  },
  {
   "cell_type": "code",
   "execution_count": 22,
   "metadata": {},
   "outputs": [
    {
     "data": {
      "text/html": [
       "<pre style=\"white-space:pre;overflow-x:auto;line-height:normal;font-family:Menlo,'DejaVu Sans Mono',consolas,'Courier New',monospace\"><span style=\"font-weight: bold\">[]</span>\n",
       "</pre>\n"
      ],
      "text/plain": [
       "\u001b[1m[\u001b[0m\u001b[1m]\u001b[0m\n"
      ]
     },
     "metadata": {},
     "output_type": "display_data"
    }
   ],
   "source": [
    "print(df[df[\"state\"].isna()][\"address\"].tolist())"
   ]
  },
  {
   "cell_type": "code",
   "execution_count": 23,
   "metadata": {},
   "outputs": [
    {
     "data": {
      "text/plain": [
       "array(['QLD', 'WA', 'NSW', 'VIC', 'NT', 'Vic', 'Victoria', 'ACT', 'SA',\n",
       "       'TAS', 'Western Australia'], dtype=object)"
      ]
     },
     "execution_count": 23,
     "metadata": {},
     "output_type": "execute_result"
    }
   ],
   "source": [
    "df[\"state\"].unique()"
   ]
  },
  {
   "cell_type": "code",
   "execution_count": 24,
   "metadata": {},
   "outputs": [],
   "source": [
    "df[\"state\"] = (\n",
    "    df[\"state\"]\n",
    "    .str.replace(r\"Vic(?:toria)?\", \"VIC\", regex=True)\n",
    "    .str.replace(\"Western Australia\", \"WA\")\n",
    ")"
   ]
  },
  {
   "cell_type": "code",
   "execution_count": 25,
   "metadata": {},
   "outputs": [
    {
     "data": {
      "text/plain": [
       "array(['QLD', 'WA', 'NSW', 'VIC', 'NT', 'ACT', 'SA', 'TAS'], dtype=object)"
      ]
     },
     "execution_count": 25,
     "metadata": {},
     "output_type": "execute_result"
    }
   ],
   "source": [
    "df[\"state\"].unique()"
   ]
  },
  {
   "cell_type": "code",
   "execution_count": 26,
   "metadata": {},
   "outputs": [
    {
     "data": {
      "text/html": [
       "<div>\n",
       "<style scoped>\n",
       "    .dataframe tbody tr th:only-of-type {\n",
       "        vertical-align: middle;\n",
       "    }\n",
       "\n",
       "    .dataframe tbody tr th {\n",
       "        vertical-align: top;\n",
       "    }\n",
       "\n",
       "    .dataframe thead th {\n",
       "        text-align: right;\n",
       "    }\n",
       "</style>\n",
       "<table border=\"1\" class=\"dataframe\">\n",
       "  <thead>\n",
       "    <tr style=\"text-align: right;\">\n",
       "      <th></th>\n",
       "      <th>service_name</th>\n",
       "      <th>address</th>\n",
       "      <th>latitude</th>\n",
       "      <th>longitude</th>\n",
       "      <th>services_offered</th>\n",
       "      <th>details_url</th>\n",
       "      <th>scrape_ts</th>\n",
       "      <th>state</th>\n",
       "      <th>postcode</th>\n",
       "    </tr>\n",
       "  </thead>\n",
       "  <tbody>\n",
       "    <tr>\n",
       "      <th>0</th>\n",
       "      <td>Bromelton Energy &amp; Resource Centre</td>\n",
       "      <td>Lot 1 Beaudesert-Boonah Road, Bromelton QLD</td>\n",
       "      <td>-27.975059190727386</td>\n",
       "      <td>152.92509</td>\n",
       "      <td>Miscellaneous</td>\n",
       "      <td>https://www.cleanaway.com.au/location/bromelto...</td>\n",
       "      <td>2024-03-10 23:51:34</td>\n",
       "      <td>QLD</td>\n",
       "      <td>NaN</td>\n",
       "    </tr>\n",
       "    <tr>\n",
       "      <th>1</th>\n",
       "      <td>Albany Transfer Station &amp; MRF</td>\n",
       "      <td>2-16 Cuming Road &amp; 37 Maxwell Street, Albany, ...</td>\n",
       "      <td>-35.01078332713777</td>\n",
       "      <td>117.86332</td>\n",
       "      <td>Solid waste services, Office</td>\n",
       "      <td>https://www.cleanaway.com.au/location/albany/</td>\n",
       "      <td>2024-03-10 23:51:38</td>\n",
       "      <td>WA</td>\n",
       "      <td>6330</td>\n",
       "    </tr>\n",
       "    <tr>\n",
       "      <th>2</th>\n",
       "      <td>Albury-Wodonga Solid Waste Services</td>\n",
       "      <td>26 Reiff St, Lavington, NSW, 2641</td>\n",
       "      <td>-36.037913</td>\n",
       "      <td>146.96458</td>\n",
       "      <td>Solid waste services</td>\n",
       "      <td>https://www.cleanaway.com.au/location/lavington/</td>\n",
       "      <td>2024-03-10 23:51:44</td>\n",
       "      <td>NSW</td>\n",
       "      <td>2641</td>\n",
       "    </tr>\n",
       "    <tr>\n",
       "      <th>3</th>\n",
       "      <td>Alexandra Solid Waste Services</td>\n",
       "      <td>4-8 Station Street, Alexandra, VIC, 3714</td>\n",
       "      <td>-37.183192</td>\n",
       "      <td>145.71203</td>\n",
       "      <td>Solid waste services</td>\n",
       "      <td>https://www.cleanaway.com.au/location/alexandra/</td>\n",
       "      <td>2024-03-10 23:51:52</td>\n",
       "      <td>VIC</td>\n",
       "      <td>3714</td>\n",
       "    </tr>\n",
       "    <tr>\n",
       "      <th>4</th>\n",
       "      <td>Cleanaway Alice Springs Solid Waste Depot</td>\n",
       "      <td>6 Wilkinson Street, Ciccone, NT, 0870</td>\n",
       "      <td>-23.700021</td>\n",
       "      <td>133.87134</td>\n",
       "      <td>Solid waste services</td>\n",
       "      <td>https://www.cleanaway.com.au/location/alice-sp...</td>\n",
       "      <td>2024-03-10 23:52:00</td>\n",
       "      <td>NT</td>\n",
       "      <td>0870</td>\n",
       "    </tr>\n",
       "  </tbody>\n",
       "</table>\n",
       "</div>"
      ],
      "text/plain": [
       "                                service_name  \\\n",
       "0         Bromelton Energy & Resource Centre   \n",
       "1              Albany Transfer Station & MRF   \n",
       "2        Albury-Wodonga Solid Waste Services   \n",
       "3             Alexandra Solid Waste Services   \n",
       "4  Cleanaway Alice Springs Solid Waste Depot   \n",
       "\n",
       "                                             address             latitude  \\\n",
       "0        Lot 1 Beaudesert-Boonah Road, Bromelton QLD  -27.975059190727386   \n",
       "1  2-16 Cuming Road & 37 Maxwell Street, Albany, ...   -35.01078332713777   \n",
       "2                  26 Reiff St, Lavington, NSW, 2641           -36.037913   \n",
       "3           4-8 Station Street, Alexandra, VIC, 3714           -37.183192   \n",
       "4              6 Wilkinson Street, Ciccone, NT, 0870           -23.700021   \n",
       "\n",
       "   longitude              services_offered  \\\n",
       "0  152.92509                 Miscellaneous   \n",
       "1  117.86332  Solid waste services, Office   \n",
       "2  146.96458          Solid waste services   \n",
       "3  145.71203          Solid waste services   \n",
       "4  133.87134          Solid waste services   \n",
       "\n",
       "                                         details_url            scrape_ts  \\\n",
       "0  https://www.cleanaway.com.au/location/bromelto...  2024-03-10 23:51:34   \n",
       "1      https://www.cleanaway.com.au/location/albany/  2024-03-10 23:51:38   \n",
       "2   https://www.cleanaway.com.au/location/lavington/  2024-03-10 23:51:44   \n",
       "3   https://www.cleanaway.com.au/location/alexandra/  2024-03-10 23:51:52   \n",
       "4  https://www.cleanaway.com.au/location/alice-sp...  2024-03-10 23:52:00   \n",
       "\n",
       "  state postcode  \n",
       "0   QLD      NaN  \n",
       "1    WA     6330  \n",
       "2   NSW     2641  \n",
       "3   VIC     3714  \n",
       "4    NT     0870  "
      ]
     },
     "execution_count": 26,
     "metadata": {},
     "output_type": "execute_result"
    }
   ],
   "source": [
    "df.head()"
   ]
  },
  {
   "cell_type": "code",
   "execution_count": 31,
   "metadata": {},
   "outputs": [],
   "source": [
    "adrs = \"Lot 1 Beaudesert-Boonah Road, Bromelton QLD\""
   ]
  },
  {
   "cell_type": "code",
   "execution_count": 29,
   "metadata": {},
   "outputs": [
    {
     "name": "stdout",
     "output_type": "stream",
     "text": [
      "[2024-03-14 12:39:58 AM]:httpx INFO:_client 1026 - HTTP Request: GET https://nominatim.openstreetmap.org/reverse?lat=-27.975059190727386&lon=152.92509&format=json \"HTTP/1.1 200 OK\"\n"
     ]
    },
    {
     "data": {
      "text/plain": [
       "{'road': 'Beaudesert Boonah Road',\n",
       " 'city_district': 'Bromelton',\n",
       " 'municipality': 'Scenic Rim Regional',\n",
       " 'state': 'Queensland',\n",
       " 'ISO3166-2-lvl4': 'AU-QLD',\n",
       " 'country': 'Australia',\n",
       " 'country_code': 'au'}"
      ]
     },
     "execution_count": 29,
     "metadata": {},
     "output_type": "execute_result"
    }
   ],
   "source": [
    "get_location_name(-27.975059190727386, 152.92509)"
   ]
  },
  {
   "cell_type": "code",
   "execution_count": 45,
   "metadata": {},
   "outputs": [],
   "source": [
    "def get_postcode(address):\n",
    "    postcode_pattern = r\".* (\\d{4})\"\n",
    "    url = f\"https://nominatim.openstreetmap.org/?q={address}&format=json\"\n",
    "    response = httpx.get(url)\n",
    "    if response.status_code == 200:\n",
    "        data = response.json()\n",
    "        for loc in data:\n",
    "            loc_name = loc[\"display_name\"]\n",
    "            if re.findall(postcode_pattern, loc_name):\n",
    "                return re.findall(postcode_pattern, loc_name)\n",
    "    else:\n",
    "        return \"Error: Unable to retrieve location information\""
   ]
  },
  {
   "cell_type": "code",
   "execution_count": 39,
   "metadata": {},
   "outputs": [
    {
     "name": "stdout",
     "output_type": "stream",
     "text": [
      "[2024-03-14 12:55:53 AM]:httpx INFO:_client 1026 - HTTP Request: GET https://nominatim.openstreetmap.org/?q=Lot%201%20Beaudesert-Boonah%20Road,%20Bromelton%20QLD&format=json \"HTTP/1.1 200 OK\"\n"
     ]
    }
   ],
   "source": [
    "dt = [loc[\"display_name\"] for loc in get_location_name2(adrs)]"
   ]
  },
  {
   "cell_type": "code",
   "execution_count": 40,
   "metadata": {},
   "outputs": [],
   "source": [
    "import re\n",
    "\n",
    "pattern = r\".* (\\d{4})\""
   ]
  },
  {
   "cell_type": "code",
   "execution_count": 44,
   "metadata": {},
   "outputs": [
    {
     "data": {
      "text/html": [
       "<pre style=\"white-space:pre;overflow-x:auto;line-height:normal;font-family:Menlo,'DejaVu Sans Mono',consolas,'Courier New',monospace\"><span style=\"font-weight: bold\">[</span><span style=\"color: #008000; text-decoration-color: #008000\">'4285'</span><span style=\"font-weight: bold\">]</span>\n",
       "</pre>\n"
      ],
      "text/plain": [
       "\u001b[1m[\u001b[0m\u001b[32m'4285'\u001b[0m\u001b[1m]\u001b[0m\n"
      ]
     },
     "metadata": {},
     "output_type": "display_data"
    }
   ],
   "source": [
    "for item in dt:\n",
    "    if re.findall(pattern, item):\n",
    "        print(re.findall(pattern, item))\n",
    "        break"
   ]
  },
  {
   "cell_type": "code",
   "execution_count": null,
   "metadata": {},
   "outputs": [],
   "source": []
  }
 ],
 "metadata": {
  "kernelspec": {
   "display_name": ".venv",
   "language": "python",
   "name": "python3"
  },
  "language_info": {
   "codemirror_mode": {
    "name": "ipython",
    "version": 3
   },
   "file_extension": ".py",
   "mimetype": "text/x-python",
   "name": "python",
   "nbconvert_exporter": "python",
   "pygments_lexer": "ipython3",
   "version": "3.10.11"
  }
 },
 "nbformat": 4,
 "nbformat_minor": 2
}
