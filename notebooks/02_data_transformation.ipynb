{
 "cells": [
  {
   "cell_type": "markdown",
   "metadata": {},
   "source": [
    "# Data Transformation"
   ]
  },
  {
   "cell_type": "markdown",
   "metadata": {},
   "source": [
    "## Setup"
   ]
  },
  {
   "cell_type": "code",
   "execution_count": 1,
   "metadata": {},
   "outputs": [
    {
     "name": "stdout",
     "output_type": "stream",
     "text": [
      "Current working directory: notebooks\n",
      "Current working directory (Changed): Analyzing-Cleanway-Services\n"
     ]
    }
   ],
   "source": [
    "# Setting up execution path\n",
    "import os\n",
    "\n",
    "print(f\"Current working directory: {os.path.basename(os.getcwd())}\")\n",
    "\n",
    "# Change to root directory\n",
    "os.chdir(\"../\")\n",
    "print(f\"Current working directory (Changed): {os.path.basename(os.getcwd())}\")"
   ]
  },
  {
   "cell_type": "code",
   "execution_count": 2,
   "metadata": {},
   "outputs": [],
   "source": [
    "from rich import print"
   ]
  },
  {
   "cell_type": "code",
   "execution_count": 3,
   "metadata": {},
   "outputs": [],
   "source": [
    "from src.constants import CONFIGS\n",
    "from src.utils.basic_utils import read_yaml"
   ]
  },
  {
   "cell_type": "code",
   "execution_count": 4,
   "metadata": {},
   "outputs": [
    {
     "name": "stdout",
     "output_type": "stream",
     "text": [
      "[2024-03-11 08:19:57 PM]:ProjectLogger INFO:basic_utils 40 - yaml file: conf\\configs.yaml loaded successfully\n"
     ]
    },
    {
     "data": {
      "text/html": [
       "<pre style=\"white-space:pre;overflow-x:auto;line-height:normal;font-family:Menlo,'DejaVu Sans Mono',consolas,'Courier New',monospace\"><span style=\"font-weight: bold\">{</span><span style=\"color: #008000; text-decoration-color: #008000\">'scraped_data_path'</span>: <span style=\"color: #008000; text-decoration-color: #008000\">'data/external/scraped_services.csv'</span>, <span style=\"color: #008000; text-decoration-color: #008000\">'processed_data_path'</span>: <span style=\"color: #008000; text-decoration-color: #008000\">'data/processed/products.csv'</span><span style=\"font-weight: bold\">}</span>\n",
       "</pre>\n"
      ],
      "text/plain": [
       "\u001b[1m{\u001b[0m\u001b[32m'scraped_data_path'\u001b[0m: \u001b[32m'data/external/scraped_services.csv'\u001b[0m, \u001b[32m'processed_data_path'\u001b[0m: \u001b[32m'data/processed/products.csv'\u001b[0m\u001b[1m}\u001b[0m\n"
      ]
     },
     "metadata": {},
     "output_type": "display_data"
    }
   ],
   "source": [
    "configs = read_yaml(CONFIGS).data_preprocessor\n",
    "print(configs.to_dict())"
   ]
  },
  {
   "cell_type": "code",
   "execution_count": 5,
   "metadata": {},
   "outputs": [],
   "source": [
    "#imports\n",
    "import numpy as np\n",
    "import pandas as pd\n",
    "import matplotlib.pyplot as plt\n",
    "import seaborn as sns\n",
    "import warnings\n",
    "\n",
    "# module setup\n",
    "%matplotlib inline\n",
    "pd.options.display.precision = 5\n",
    "warnings.filterwarnings(\"ignore\")"
   ]
  },
  {
   "cell_type": "code",
   "execution_count": 6,
   "metadata": {},
   "outputs": [
    {
     "data": {
      "text/html": [
       "<div>\n",
       "<style scoped>\n",
       "    .dataframe tbody tr th:only-of-type {\n",
       "        vertical-align: middle;\n",
       "    }\n",
       "\n",
       "    .dataframe tbody tr th {\n",
       "        vertical-align: top;\n",
       "    }\n",
       "\n",
       "    .dataframe thead th {\n",
       "        text-align: right;\n",
       "    }\n",
       "</style>\n",
       "<table border=\"1\" class=\"dataframe\">\n",
       "  <thead>\n",
       "    <tr style=\"text-align: right;\">\n",
       "      <th></th>\n",
       "      <th>service_name</th>\n",
       "      <th>address</th>\n",
       "      <th>latitude</th>\n",
       "      <th>longitude</th>\n",
       "      <th>services_offered</th>\n",
       "      <th>details_url</th>\n",
       "      <th>scrape_ts</th>\n",
       "    </tr>\n",
       "  </thead>\n",
       "  <tbody>\n",
       "    <tr>\n",
       "      <th>0</th>\n",
       "      <td>Bromelton Energy &amp; Resource Centre</td>\n",
       "      <td>Lot 1 Beaudesert-Boonah Road, Bromelton QLD</td>\n",
       "      <td>-27.975059190727386</td>\n",
       "      <td>152.92509</td>\n",
       "      <td>Miscellaneous</td>\n",
       "      <td>https://www.cleanaway.com.au/location/bromelto...</td>\n",
       "      <td>2024-03-10 23:51:34</td>\n",
       "    </tr>\n",
       "    <tr>\n",
       "      <th>1</th>\n",
       "      <td>Albany Transfer Station &amp; MRF</td>\n",
       "      <td>2-16 Cuming Road &amp; 37 Maxwell Street, Albany, ...</td>\n",
       "      <td>-35.01078332713777</td>\n",
       "      <td>117.86332</td>\n",
       "      <td>Solid waste services, Office</td>\n",
       "      <td>https://www.cleanaway.com.au/location/albany/</td>\n",
       "      <td>2024-03-10 23:51:38</td>\n",
       "    </tr>\n",
       "    <tr>\n",
       "      <th>2</th>\n",
       "      <td>Albury-Wodonga Solid Waste Services</td>\n",
       "      <td>26 Reiff St, Lavington, NSW, 2641</td>\n",
       "      <td>-36.037913</td>\n",
       "      <td>146.96458</td>\n",
       "      <td>Solid waste services</td>\n",
       "      <td>https://www.cleanaway.com.au/location/lavington/</td>\n",
       "      <td>2024-03-10 23:51:44</td>\n",
       "    </tr>\n",
       "    <tr>\n",
       "      <th>3</th>\n",
       "      <td>Alexandra Solid Waste Services</td>\n",
       "      <td>4-8 Station Street, Alexandra, VIC, 3714</td>\n",
       "      <td>-37.183192</td>\n",
       "      <td>145.71203</td>\n",
       "      <td>Solid waste services</td>\n",
       "      <td>https://www.cleanaway.com.au/location/alexandra/</td>\n",
       "      <td>2024-03-10 23:51:52</td>\n",
       "    </tr>\n",
       "    <tr>\n",
       "      <th>4</th>\n",
       "      <td>Cleanaway Alice Springs Solid Waste Depot</td>\n",
       "      <td>6 Wilkinson Street, Ciccone, NT, 0870</td>\n",
       "      <td>-23.700021</td>\n",
       "      <td>133.87134</td>\n",
       "      <td>Solid waste services</td>\n",
       "      <td>https://www.cleanaway.com.au/location/alice-sp...</td>\n",
       "      <td>2024-03-10 23:52:00</td>\n",
       "    </tr>\n",
       "  </tbody>\n",
       "</table>\n",
       "</div>"
      ],
      "text/plain": [
       "                                service_name  \\\n",
       "0         Bromelton Energy & Resource Centre   \n",
       "1              Albany Transfer Station & MRF   \n",
       "2        Albury-Wodonga Solid Waste Services   \n",
       "3             Alexandra Solid Waste Services   \n",
       "4  Cleanaway Alice Springs Solid Waste Depot   \n",
       "\n",
       "                                             address             latitude  \\\n",
       "0        Lot 1 Beaudesert-Boonah Road, Bromelton QLD  -27.975059190727386   \n",
       "1  2-16 Cuming Road & 37 Maxwell Street, Albany, ...   -35.01078332713777   \n",
       "2                  26 Reiff St, Lavington, NSW, 2641           -36.037913   \n",
       "3           4-8 Station Street, Alexandra, VIC, 3714           -37.183192   \n",
       "4              6 Wilkinson Street, Ciccone, NT, 0870           -23.700021   \n",
       "\n",
       "   longitude              services_offered  \\\n",
       "0  152.92509                 Miscellaneous   \n",
       "1  117.86332  Solid waste services, Office   \n",
       "2  146.96458          Solid waste services   \n",
       "3  145.71203          Solid waste services   \n",
       "4  133.87134          Solid waste services   \n",
       "\n",
       "                                         details_url            scrape_ts  \n",
       "0  https://www.cleanaway.com.au/location/bromelto...  2024-03-10 23:51:34  \n",
       "1      https://www.cleanaway.com.au/location/albany/  2024-03-10 23:51:38  \n",
       "2   https://www.cleanaway.com.au/location/lavington/  2024-03-10 23:51:44  \n",
       "3   https://www.cleanaway.com.au/location/alexandra/  2024-03-10 23:51:52  \n",
       "4  https://www.cleanaway.com.au/location/alice-sp...  2024-03-10 23:52:00  "
      ]
     },
     "execution_count": 6,
     "metadata": {},
     "output_type": "execute_result"
    }
   ],
   "source": [
    "# Get the CSV filepath from configs\n",
    "scraped_data_path = configs.scraped_data_path\n",
    "\n",
    "# Read the CSV data\n",
    "df_main = pd.read_csv(scraped_data_path, index_col=False)\n",
    "\n",
    "# create a copy of it for working\n",
    "df = df_main.copy(deep=True)\n",
    "\n",
    "# View a glimpse of the data\n",
    "df.head()"
   ]
  },
  {
   "cell_type": "code",
   "execution_count": 7,
   "metadata": {},
   "outputs": [
    {
     "name": "stdout",
     "output_type": "stream",
     "text": [
      "<class 'pandas.core.frame.DataFrame'>\n",
      "RangeIndex: 215 entries, 0 to 214\n",
      "Data columns (total 7 columns):\n",
      " #   Column            Non-Null Count  Dtype  \n",
      "---  ------            --------------  -----  \n",
      " 0   service_name      215 non-null    object \n",
      " 1   address           215 non-null    object \n",
      " 2   latitude          215 non-null    object \n",
      " 3   longitude         214 non-null    float64\n",
      " 4   services_offered  214 non-null    object \n",
      " 5   details_url       215 non-null    object \n",
      " 6   scrape_ts         215 non-null    object \n",
      "dtypes: float64(1), object(6)\n",
      "memory usage: 11.9+ KB\n"
     ]
    }
   ],
   "source": [
    "df.info()"
   ]
  },
  {
   "cell_type": "code",
   "execution_count": 8,
   "metadata": {},
   "outputs": [
    {
     "data": {
      "text/html": [
       "<div>\n",
       "<style scoped>\n",
       "    .dataframe tbody tr th:only-of-type {\n",
       "        vertical-align: middle;\n",
       "    }\n",
       "\n",
       "    .dataframe tbody tr th {\n",
       "        vertical-align: top;\n",
       "    }\n",
       "\n",
       "    .dataframe thead th {\n",
       "        text-align: right;\n",
       "    }\n",
       "</style>\n",
       "<table border=\"1\" class=\"dataframe\">\n",
       "  <thead>\n",
       "    <tr style=\"text-align: right;\">\n",
       "      <th></th>\n",
       "      <th>service_name</th>\n",
       "      <th>address</th>\n",
       "      <th>latitude</th>\n",
       "      <th>longitude</th>\n",
       "      <th>services_offered</th>\n",
       "      <th>details_url</th>\n",
       "      <th>scrape_ts</th>\n",
       "    </tr>\n",
       "  </thead>\n",
       "  <tbody>\n",
       "    <tr>\n",
       "      <th>135</th>\n",
       "      <td>Cleanaway Narangba Vacuum Truck Liquid Waste S...</td>\n",
       "      <td>109 Potassium Street, Narangba, QLD, 4504</td>\n",
       "      <td>-27.206933789931885</td>\n",
       "      <td>NaN</td>\n",
       "      <td>NaN</td>\n",
       "      <td>https://www.cleanaway.com.au/location/narangba/</td>\n",
       "      <td>2024-03-11 00:04:18</td>\n",
       "    </tr>\n",
       "  </tbody>\n",
       "</table>\n",
       "</div>"
      ],
      "text/plain": [
       "                                          service_name  \\\n",
       "135  Cleanaway Narangba Vacuum Truck Liquid Waste S...   \n",
       "\n",
       "                                       address             latitude  \\\n",
       "135  109 Potassium Street, Narangba, QLD, 4504  -27.206933789931885   \n",
       "\n",
       "     longitude services_offered  \\\n",
       "135        NaN              NaN   \n",
       "\n",
       "                                         details_url            scrape_ts  \n",
       "135  https://www.cleanaway.com.au/location/narangba/  2024-03-11 00:04:18  "
      ]
     },
     "execution_count": 8,
     "metadata": {},
     "output_type": "execute_result"
    }
   ],
   "source": [
    "df[df[\"longitude\"].isna()]"
   ]
  },
  {
   "cell_type": "code",
   "execution_count": 9,
   "metadata": {},
   "outputs": [],
   "source": [
    "import httpx"
   ]
  },
  {
   "cell_type": "code",
   "execution_count": 10,
   "metadata": {},
   "outputs": [],
   "source": [
    "def get_location_name(address):\n",
    "    url = f\"https://nominatim.openstreetmap.org/?q={address}&format=json\"\n",
    "    response = httpx.get(url)\n",
    "    if response.status_code == 200:\n",
    "        data = response.json()\n",
    "        return {\"lat\": float(data[0][\"lat\"]), \"long\": float(data[0][\"lon\"])}\n",
    "    else:\n",
    "        return \"Error: Unable to retrieve location information\""
   ]
  },
  {
   "cell_type": "code",
   "execution_count": 11,
   "metadata": {},
   "outputs": [
    {
     "name": "stdout",
     "output_type": "stream",
     "text": [
      "[2024-03-11 08:20:01 PM]:httpx INFO:_client 1026 - HTTP Request: GET https://nominatim.openstreetmap.org/?q=109%20Potassium%20Street,%20Narangba,%20QLD,%204504&format=json \"HTTP/1.1 200 OK\"\n"
     ]
    },
    {
     "data": {
      "text/plain": [
       "{'lat': -27.2005386, 'long': 152.9885253}"
      ]
     },
     "execution_count": 11,
     "metadata": {},
     "output_type": "execute_result"
    }
   ],
   "source": [
    "get_location_name(\"109 Potassium Street, Narangba, QLD, 4504\")"
   ]
  },
  {
   "cell_type": "code",
   "execution_count": 12,
   "metadata": {},
   "outputs": [],
   "source": [
    "def apply_function(row):\n",
    "    if pd.isnull(row[\"latitude\"]) or pd.isnull(row[\"longitude\"]):\n",
    "        coordinates = get_location_name(row[\"address\"])\n",
    "        latitude, longitude = coordinates[\"lat\"], coordinates[\"long\"]\n",
    "        return latitude, longitude\n",
    "    else:\n",
    "        return row[\"latitude\"], row[\"longitude\"]"
   ]
  },
  {
   "cell_type": "code",
   "execution_count": 13,
   "metadata": {},
   "outputs": [
    {
     "name": "stdout",
     "output_type": "stream",
     "text": [
      "[2024-03-11 08:20:02 PM]:httpx INFO:_client 1026 - HTTP Request: GET https://nominatim.openstreetmap.org/?q=109%20Potassium%20Street,%20Narangba,%20QLD,%204504&format=json \"HTTP/1.1 200 OK\"\n"
     ]
    }
   ],
   "source": [
    "df[\"latitude\"], df[\"longitude\"] = zip(*df.apply(apply_function, axis=1))"
   ]
  },
  {
   "cell_type": "code",
   "execution_count": 14,
   "metadata": {},
   "outputs": [
    {
     "data": {
      "text/html": [
       "<div>\n",
       "<style scoped>\n",
       "    .dataframe tbody tr th:only-of-type {\n",
       "        vertical-align: middle;\n",
       "    }\n",
       "\n",
       "    .dataframe tbody tr th {\n",
       "        vertical-align: top;\n",
       "    }\n",
       "\n",
       "    .dataframe thead th {\n",
       "        text-align: right;\n",
       "    }\n",
       "</style>\n",
       "<table border=\"1\" class=\"dataframe\">\n",
       "  <thead>\n",
       "    <tr style=\"text-align: right;\">\n",
       "      <th></th>\n",
       "      <th>service_name</th>\n",
       "      <th>address</th>\n",
       "      <th>latitude</th>\n",
       "      <th>longitude</th>\n",
       "      <th>services_offered</th>\n",
       "      <th>details_url</th>\n",
       "      <th>scrape_ts</th>\n",
       "    </tr>\n",
       "  </thead>\n",
       "  <tbody>\n",
       "    <tr>\n",
       "      <th>135</th>\n",
       "      <td>Cleanaway Narangba Vacuum Truck Liquid Waste S...</td>\n",
       "      <td>109 Potassium Street, Narangba, QLD, 4504</td>\n",
       "      <td>-27.20054</td>\n",
       "      <td>152.98853</td>\n",
       "      <td>NaN</td>\n",
       "      <td>https://www.cleanaway.com.au/location/narangba/</td>\n",
       "      <td>2024-03-11 00:04:18</td>\n",
       "    </tr>\n",
       "  </tbody>\n",
       "</table>\n",
       "</div>"
      ],
      "text/plain": [
       "                                          service_name  \\\n",
       "135  Cleanaway Narangba Vacuum Truck Liquid Waste S...   \n",
       "\n",
       "                                       address  latitude  longitude  \\\n",
       "135  109 Potassium Street, Narangba, QLD, 4504 -27.20054  152.98853   \n",
       "\n",
       "    services_offered                                      details_url  \\\n",
       "135              NaN  https://www.cleanaway.com.au/location/narangba/   \n",
       "\n",
       "               scrape_ts  \n",
       "135  2024-03-11 00:04:18  "
      ]
     },
     "execution_count": 14,
     "metadata": {},
     "output_type": "execute_result"
    }
   ],
   "source": [
    "df[df[\"services_offered\"].isna()]"
   ]
  },
  {
   "cell_type": "code",
   "execution_count": 15,
   "metadata": {},
   "outputs": [
    {
     "data": {
      "text/html": [
       "<div>\n",
       "<style scoped>\n",
       "    .dataframe tbody tr th:only-of-type {\n",
       "        vertical-align: middle;\n",
       "    }\n",
       "\n",
       "    .dataframe tbody tr th {\n",
       "        vertical-align: top;\n",
       "    }\n",
       "\n",
       "    .dataframe thead th {\n",
       "        text-align: right;\n",
       "    }\n",
       "</style>\n",
       "<table border=\"1\" class=\"dataframe\">\n",
       "  <thead>\n",
       "    <tr style=\"text-align: right;\">\n",
       "      <th></th>\n",
       "      <th>service_name</th>\n",
       "      <th>address</th>\n",
       "      <th>latitude</th>\n",
       "      <th>longitude</th>\n",
       "      <th>services_offered</th>\n",
       "      <th>details_url</th>\n",
       "      <th>scrape_ts</th>\n",
       "    </tr>\n",
       "  </thead>\n",
       "  <tbody>\n",
       "  </tbody>\n",
       "</table>\n",
       "</div>"
      ],
      "text/plain": [
       "Empty DataFrame\n",
       "Columns: [service_name, address, latitude, longitude, services_offered, details_url, scrape_ts]\n",
       "Index: []"
      ]
     },
     "execution_count": 15,
     "metadata": {},
     "output_type": "execute_result"
    }
   ],
   "source": [
    "df[df[\"longitude\"].isna()]"
   ]
  },
  {
   "cell_type": "code",
   "execution_count": 18,
   "metadata": {},
   "outputs": [
    {
     "data": {
      "text/plain": [
       "0            Lot 1 Beaudesert-Boonah Road, Bromelton QLD\n",
       "1      2-16 Cuming Road & 37 Maxwell Street, Albany, ...\n",
       "2                      26 Reiff St, Lavington, NSW, 2641\n",
       "3               4-8 Station Street, Alexandra, VIC, 3714\n",
       "4                  6 Wilkinson Street, Ciccone, NT, 0870\n",
       "                             ...                        \n",
       "210                1 Amsterdam Circuit, Wyong, NSW, 2259\n",
       "211                      29 Binary St, Yatala, QLD, 4207\n",
       "212                20 Chillingworks Rd, Young, NSW, 2594\n",
       "213                510 Summerhill Road, Wollert VIC 3750\n",
       "214        Old Power Station Site, Wallerawang, NSW 2845\n",
       "Name: address, Length: 215, dtype: object"
      ]
     },
     "execution_count": 18,
     "metadata": {},
     "output_type": "execute_result"
    }
   ],
   "source": [
    "df[\"address\"]"
   ]
  },
  {
   "cell_type": "code",
   "execution_count": 27,
   "metadata": {},
   "outputs": [],
   "source": [
    "def get_location_name(latitude, longitude):\n",
    "    url = f\"https://nominatim.openstreetmap.org/reverse?lat={latitude}&lon={longitude}&format=json\"\n",
    "    response = httpx.get(url)\n",
    "    if response.status_code == 200:\n",
    "        data_address = response.json()[\"address\"]\n",
    "        return (data_address.get(\"state\"), data_address.get(\"postcode\"))\n",
    "    else:\n",
    "        return \"Error: Unable to retrieve location information\""
   ]
  },
  {
   "cell_type": "code",
   "execution_count": 28,
   "metadata": {},
   "outputs": [
    {
     "name": "stdout",
     "output_type": "stream",
     "text": [
      "[2024-03-11 08:49:54 PM]:httpx INFO:_client 1026 - HTTP Request: GET https://nominatim.openstreetmap.org/reverse?lat=-27.975059190727386&lon=152.92509487274305&format=json \"HTTP/1.1 200 OK\"\n",
      "[2024-03-11 08:49:55 PM]:httpx INFO:_client 1026 - HTTP Request: GET https://nominatim.openstreetmap.org/reverse?lat=-35.01078332713777&lon=117.8633163813148&format=json \"HTTP/1.1 200 OK\"\n",
      "[2024-03-11 08:49:56 PM]:httpx INFO:_client 1026 - HTTP Request: GET https://nominatim.openstreetmap.org/reverse?lat=-36.037913&lon=146.964581&format=json \"HTTP/1.1 200 OK\"\n",
      "[2024-03-11 08:49:57 PM]:httpx INFO:_client 1026 - HTTP Request: GET https://nominatim.openstreetmap.org/reverse?lat=-37.183192&lon=145.712031&format=json \"HTTP/1.1 200 OK\"\n",
      "[2024-03-11 08:49:57 PM]:httpx INFO:_client 1026 - HTTP Request: GET https://nominatim.openstreetmap.org/reverse?lat=-23.700021&lon=133.871345&format=json \"HTTP/1.1 200 OK\"\n",
      "[2024-03-11 08:49:58 PM]:httpx INFO:_client 1026 - HTTP Request: GET https://nominatim.openstreetmap.org/reverse?lat=-35.019758&lon=117.842441&format=json \"HTTP/1.1 200 OK\"\n",
      "[2024-03-11 08:49:59 PM]:httpx INFO:_client 1026 - HTTP Request: GET https://nominatim.openstreetmap.org/reverse?lat=-37.850366199805535&lon=144.78138768865674&format=json \"HTTP/1.1 200 OK\"\n",
      "[2024-03-11 08:50:00 PM]:httpx INFO:_client 1026 - HTTP Request: GET https://nominatim.openstreetmap.org/reverse?lat=-30.51527835194161&lon=151.64309622948613&format=json \"HTTP/1.1 200 OK\"\n",
      "[2024-03-11 08:50:00 PM]:httpx INFO:_client 1026 - HTTP Request: GET https://nominatim.openstreetmap.org/reverse?lat=-33.81941739932726&lon=151.18695141885684&format=json \"HTTP/1.1 200 OK\"\n",
      "[2024-03-11 08:50:01 PM]:httpx INFO:_client 1026 - HTTP Request: GET https://nominatim.openstreetmap.org/reverse?lat=-27.9851011151081&lon=153.36123030773044&format=json \"HTTP/1.1 200 OK\"\n",
      "[2024-03-11 08:50:02 PM]:httpx INFO:_client 1026 - HTTP Request: GET https://nominatim.openstreetmap.org/reverse?lat=-33.84398343886091&lon=151.05823444596416&format=json \"HTTP/1.1 200 OK\"\n",
      "[2024-03-11 08:50:03 PM]:httpx INFO:_client 1026 - HTTP Request: GET https://nominatim.openstreetmap.org/reverse?lat=-19.56460801156244&lon=147.38776649026067&format=json \"HTTP/1.1 200 OK\"\n",
      "[2024-03-11 08:50:04 PM]:httpx INFO:_client 1026 - HTTP Request: GET https://nominatim.openstreetmap.org/reverse?lat=-37.83739425485061&lon=147.61053899247509&format=json \"HTTP/1.1 200 OK\"\n",
      "[2024-03-11 08:50:04 PM]:httpx INFO:_client 1026 - HTTP Request: GET https://nominatim.openstreetmap.org/reverse?lat=-35.720454277209235&lon=150.1697287150359&format=json \"HTTP/1.1 200 OK\"\n",
      "[2024-03-11 08:50:05 PM]:httpx INFO:_client 1026 - HTTP Request: GET https://nominatim.openstreetmap.org/reverse?lat=-33.426071238905635&lon=149.58947343947082&format=json \"HTTP/1.1 200 OK\"\n",
      "[2024-03-11 08:50:06 PM]:httpx INFO:_client 1026 - HTTP Request: GET https://nominatim.openstreetmap.org/reverse?lat=-36.71134645576057&lon=149.8483112523715&format=json \"HTTP/1.1 200 OK\"\n",
      "[2024-03-11 08:50:07 PM]:httpx INFO:_client 1026 - HTTP Request: GET https://nominatim.openstreetmap.org/reverse?lat=-33.71595868590502&lon=151.2117178321567&format=json \"HTTP/1.1 200 OK\"\n",
      "[2024-03-11 08:50:08 PM]:httpx INFO:_client 1026 - HTTP Request: GET https://nominatim.openstreetmap.org/reverse?lat=-36.5432780&lon=146.01411&format=json \"HTTP/1.1 200 OK\"\n",
      "[2024-03-11 08:50:09 PM]:httpx INFO:_client 1026 - HTTP Request: GET https://nominatim.openstreetmap.org/reverse?lat=-32.79962745880024&lon=151.63135034262902&format=json \"HTTP/1.1 200 OK\"\n",
      "[2024-03-11 08:50:10 PM]:httpx INFO:_client 1026 - HTTP Request: GET https://nominatim.openstreetmap.org/reverse?lat=-32.80884244561758&lon=151.63143037534653&format=json \"HTTP/1.1 200 OK\"\n",
      "[2024-03-11 08:50:10 PM]:httpx INFO:_client 1026 - HTTP Request: GET https://nominatim.openstreetmap.org/reverse?lat=-32.808760&lon=151.631418&format=json \"HTTP/1.1 200 OK\"\n",
      "[2024-03-11 08:50:11 PM]:httpx INFO:_client 1026 - HTTP Request: GET https://nominatim.openstreetmap.org/reverse?lat=-19.254033568829474&lon=146.71310062471952&format=json \"HTTP/1.1 200 OK\"\n",
      "[2024-03-11 08:50:12 PM]:httpx INFO:_client 1026 - HTTP Request: GET https://nominatim.openstreetmap.org/reverse?lat=-19.254777104275867&lon=146.71348655131737&format=json \"HTTP/1.1 200 OK\"\n",
      "[2024-03-11 08:50:13 PM]:httpx INFO:_client 1026 - HTTP Request: GET https://nominatim.openstreetmap.org/reverse?lat=-20.011933975163764&lon=148.23199791201196&format=json \"HTTP/1.1 200 OK\"\n",
      "[2024-03-11 08:50:14 PM]:httpx INFO:_client 1026 - HTTP Request: GET https://nominatim.openstreetmap.org/reverse?lat=-37.81864883651084&lon=144.82808276413695&format=json \"HTTP/1.1 200 OK\"\n",
      "[2024-03-11 08:50:15 PM]:httpx INFO:_client 1026 - HTTP Request: GET https://nominatim.openstreetmap.org/reverse?lat=-17.981996102562615&lon=122.20599838161814&format=json \"HTTP/1.1 200 OK\"\n",
      "[2024-03-11 08:50:15 PM]:httpx INFO:_client 1026 - HTTP Request: GET https://nominatim.openstreetmap.org/reverse?lat=-38.16508975539242&lon=144.42933521027365&format=json \"HTTP/1.1 200 OK\"\n",
      "[2024-03-11 08:50:16 PM]:httpx INFO:_client 1026 - HTTP Request: GET https://nominatim.openstreetmap.org/reverse?lat=-24.864322017617887&lon=152.37487465319953&format=json \"HTTP/1.1 200 OK\"\n",
      "[2024-03-11 08:50:17 PM]:httpx INFO:_client 1026 - HTTP Request: GET https://nominatim.openstreetmap.org/reverse?lat=-24.898466154218628&lon=152.30921473282476&format=json \"HTTP/1.1 200 OK\"\n",
      "[2024-03-11 08:50:18 PM]:httpx INFO:_client 1026 - HTTP Request: GET https://nominatim.openstreetmap.org/reverse?lat=-28.104142115144693&lon=153.4085124092492&format=json \"HTTP/1.1 200 OK\"\n",
      "[2024-03-11 08:50:19 PM]:httpx INFO:_client 1026 - HTTP Request: GET https://nominatim.openstreetmap.org/reverse?lat=-16.957918274408513&lon=145.75211073879282&format=json \"HTTP/1.1 200 OK\"\n",
      "[2024-03-11 08:50:20 PM]:httpx INFO:_client 1026 - HTTP Request: GET https://nominatim.openstreetmap.org/reverse?lat=-16.8695734&lon=145.7404056&format=json \"HTTP/1.1 200 OK\"\n",
      "[2024-03-11 08:50:20 PM]:httpx INFO:_client 1026 - HTTP Request: GET https://nominatim.openstreetmap.org/reverse?lat=-37.66724202087309&lon=144.96513168371325&format=json \"HTTP/1.1 200 OK\"\n",
      "[2024-03-11 08:50:21 PM]:httpx INFO:_client 1026 - HTTP Request: GET https://nominatim.openstreetmap.org/reverse?lat=-37.66724293021068&lon=144.96512690776305&format=json \"HTTP/1.1 200 OK\"\n",
      "[2024-03-11 08:50:22 PM]:httpx INFO:_client 1026 - HTTP Request: GET https://nominatim.openstreetmap.org/reverse?lat=-33.83934506120301&lon=121.8962367468948&format=json \"HTTP/1.1 200 OK\"\n",
      "[2024-03-11 08:50:23 PM]:httpx INFO:_client 1026 - HTTP Request: GET https://nominatim.openstreetmap.org/reverse?lat=-37.932723984843136&lon=145.09372689856437&format=json \"HTTP/1.1 200 OK\"\n",
      "[2024-03-11 08:50:24 PM]:httpx INFO:_client 1026 - HTTP Request: GET https://nominatim.openstreetmap.org/reverse?lat=-37.94525778103721&lon=145.12222022243114&format=json \"HTTP/1.1 200 OK\"\n",
      "[2024-03-11 08:50:24 PM]:httpx INFO:_client 1026 - HTTP Request: GET https://nominatim.openstreetmap.org/reverse?lat=-30.34413261205187&lon=153.0689147374826&format=json \"HTTP/1.1 200 OK\"\n",
      "[2024-03-11 08:50:25 PM]:httpx INFO:_client 1026 - HTTP Request: GET https://nominatim.openstreetmap.org/reverse?lat=-37.657805235820035&lon=144.94172450275&format=json \"HTTP/1.1 200 OK\"\n",
      "[2024-03-11 08:50:26 PM]:httpx INFO:_client 1026 - HTTP Request: GET https://nominatim.openstreetmap.org/reverse?lat=-16.538147&lon=145.467558&format=json \"HTTP/1.1 200 OK\"\n",
      "[2024-03-11 08:50:27 PM]:httpx INFO:_client 1026 - HTTP Request: GET https://nominatim.openstreetmap.org/reverse?lat=-27.67874837810533&lon=153.07619591827643&format=json \"HTTP/1.1 200 OK\"\n",
      "[2024-03-11 08:50:27 PM]:httpx INFO:_client 1026 - HTTP Request: GET https://nominatim.openstreetmap.org/reverse?lat=-38.0256031576796&lon=145.1924643073468&format=json \"HTTP/1.1 200 OK\"\n",
      "[2024-03-11 08:50:28 PM]:httpx INFO:_client 1026 - HTTP Request: GET https://nominatim.openstreetmap.org/reverse?lat=-38.029214053474774&lon=145.19611213703328&format=json \"HTTP/1.1 200 OK\"\n",
      "[2024-03-11 08:50:29 PM]:httpx INFO:_client 1026 - HTTP Request: GET https://nominatim.openstreetmap.org/reverse?lat=-38.02157293522325&lon=145.19341874916216&format=json \"HTTP/1.1 200 OK\"\n",
      "[2024-03-11 08:50:30 PM]:httpx INFO:_client 1026 - HTTP Request: GET https://nominatim.openstreetmap.org/reverse?lat=-38.0235617&lon=145.1928241&format=json \"HTTP/1.1 200 OK\"\n",
      "[2024-03-11 08:50:30 PM]:httpx INFO:_client 1026 - HTTP Request: GET https://nominatim.openstreetmap.org/reverse?lat=-38.03302757295915&lon=145.1873499510967&format=json \"HTTP/1.1 200 OK\"\n",
      "[2024-03-11 08:50:31 PM]:httpx INFO:_client 1026 - HTTP Request: GET https://nominatim.openstreetmap.org/reverse?lat=-38.02104115065446&lon=145.19383424900428&format=json \"HTTP/1.1 200 OK\"\n",
      "[2024-03-11 08:50:32 PM]:httpx INFO:_client 1026 - HTTP Request: GET https://nominatim.openstreetmap.org/reverse?lat=-32.11182749087542&lon=115.81300083055092&format=json \"HTTP/1.1 200 OK\"\n",
      "[2024-03-11 08:50:33 PM]:httpx INFO:_client 1026 - HTTP Request: GET https://nominatim.openstreetmap.org/reverse?lat=-38.02640825790237&lon=145.19616706193867&format=json \"HTTP/1.1 200 OK\"\n",
      "[2024-03-11 08:50:33 PM]:httpx INFO:_client 1026 - HTTP Request: GET https://nominatim.openstreetmap.org/reverse?lat=-37.828075937035166&lon=144.79158837975473&format=json \"HTTP/1.1 200 OK\"\n",
      "[2024-03-11 08:50:34 PM]:httpx INFO:_client 1026 - HTTP Request: GET https://nominatim.openstreetmap.org/reverse?lat=-35.22250147154668&lon=149.14199225813613&format=json \"HTTP/1.1 200 OK\"\n",
      "[2024-03-11 08:50:35 PM]:httpx INFO:_client 1026 - HTTP Request: GET https://nominatim.openstreetmap.org/reverse?lat=-33.83478498364579&lon=151.0462533209851&format=json \"HTTP/1.1 200 OK\"\n",
      "[2024-03-11 08:50:36 PM]:httpx INFO:_client 1026 - HTTP Request: GET https://nominatim.openstreetmap.org/reverse?lat=-33.8366922261095&lon=151.0461036704018&format=json \"HTTP/1.1 200 OK\"\n",
      "[2024-03-11 08:50:37 PM]:httpx INFO:_client 1026 - HTTP Request: GET https://nominatim.openstreetmap.org/reverse?lat=-34.84472759356661&lon=138.54820707429565&format=json \"HTTP/1.1 200 OK\"\n",
      "[2024-03-11 08:50:37 PM]:httpx INFO:_client 1026 - HTTP Request: GET https://nominatim.openstreetmap.org/reverse?lat=-27.74922478049947&lon=153.24447788220166&format=json \"HTTP/1.1 200 OK\"\n",
      "[2024-03-11 08:50:38 PM]:httpx INFO:_client 1026 - HTTP Request: GET https://nominatim.openstreetmap.org/reverse?lat=-33.42629127314418&lon=115.77764919907574&format=json \"HTTP/1.1 200 OK\"\n",
      "[2024-03-11 08:50:39 PM]:httpx INFO:_client 1026 - HTTP Request: GET https://nominatim.openstreetmap.org/reverse?lat=-27.578280348233992&lon=152.94684511714811&format=json \"HTTP/1.1 200 OK\"\n",
      "[2024-03-11 08:50:40 PM]:httpx INFO:_client 1026 - HTTP Request: GET https://nominatim.openstreetmap.org/reverse?lat=-32.65237916212816&lon=115.621299249341&format=json \"HTTP/1.1 200 OK\"\n",
      "[2024-03-11 08:50:41 PM]:httpx INFO:_client 1026 - HTTP Request: GET https://nominatim.openstreetmap.org/reverse?lat=-37.57480062234263&lon=143.82535028354164&format=json \"HTTP/1.1 200 OK\"\n",
      "[2024-03-11 08:50:41 PM]:httpx INFO:_client 1026 - HTTP Request: GET https://nominatim.openstreetmap.org/reverse?lat=-17.317786617399953&lon=123.6488173913029&format=json \"HTTP/1.1 200 OK\"\n",
      "[2024-03-11 08:50:42 PM]:httpx INFO:_client 1026 - HTTP Request: GET https://nominatim.openstreetmap.org/reverse?lat=-42.8345726871458&lon=147.30535362602515&format=json \"HTTP/1.1 200 OK\"\n",
      "[2024-03-11 08:50:43 PM]:httpx INFO:_client 1026 - HTTP Request: GET https://nominatim.openstreetmap.org/reverse?lat=-26.435816&lon=153.024719&format=json \"HTTP/1.1 200 OK\"\n",
      "[2024-03-11 08:50:44 PM]:httpx INFO:_client 1026 - HTTP Request: GET https://nominatim.openstreetmap.org/reverse?lat=-32.2415533993811&lon=148.58408019422927&format=json \"HTTP/1.1 200 OK\"\n",
      "[2024-03-11 08:50:45 PM]:httpx INFO:_client 1026 - HTTP Request: GET https://nominatim.openstreetmap.org/reverse?lat=-25.295948827561027&lon=152.79123023106774&format=json \"HTTP/1.1 200 OK\"\n",
      "[2024-03-11 08:50:45 PM]:httpx INFO:_client 1026 - HTTP Request: GET https://nominatim.openstreetmap.org/reverse?lat=-36.75230709865194&lon=144.3090067887239&format=json \"HTTP/1.1 200 OK\"\n",
      "[2024-03-11 08:50:46 PM]:httpx INFO:_client 1026 - HTTP Request: GET https://nominatim.openstreetmap.org/reverse?lat=-33.79913305824948&lon=150.83532951555915&format=json \"HTTP/1.1 200 OK\"\n",
      "[2024-03-11 08:50:47 PM]:httpx INFO:_client 1026 - HTTP Request: GET https://nominatim.openstreetmap.org/reverse?lat=-23.50416947847322&lon=148.1495913433463&format=json \"HTTP/1.1 200 OK\"\n",
      "[2024-03-11 08:50:48 PM]:httpx INFO:_client 1026 - HTTP Request: GET https://nominatim.openstreetmap.org/reverse?lat=-33.81832018464325&lon=150.78372355116778&format=json \"HTTP/1.1 200 OK\"\n",
      "[2024-03-11 08:50:50 PM]:httpx INFO:_client 1026 - HTTP Request: GET https://nominatim.openstreetmap.org/reverse?lat=-33.81914272186035&lon=150.78191547347808&format=json \"HTTP/1.1 200 OK\"\n",
      "[2024-03-11 08:50:50 PM]:httpx INFO:_client 1026 - HTTP Request: GET https://nominatim.openstreetmap.org/reverse?lat=-33.8188823594222&lon=150.7831135000006&format=json \"HTTP/1.1 200 OK\"\n",
      "[2024-03-11 08:50:51 PM]:httpx INFO:_client 1026 - HTTP Request: GET https://nominatim.openstreetmap.org/reverse?lat=-23.80979455426217&lon=151.14810492116328&format=json \"HTTP/1.1 200 OK\"\n",
      "[2024-03-11 08:50:52 PM]:httpx INFO:_client 1026 - HTTP Request: GET https://nominatim.openstreetmap.org/reverse?lat=-33.75056846092886&lon=150.85632264327973&format=json \"HTTP/1.1 200 OK\"\n",
      "[2024-03-11 08:50:53 PM]:httpx INFO:_client 1026 - HTTP Request: GET https://nominatim.openstreetmap.org/reverse?lat=-33.7491765448081&lon=150.84725438595396&format=json \"HTTP/1.1 200 OK\"\n",
      "[2024-03-11 08:50:54 PM]:httpx INFO:_client 1026 - HTTP Request: GET https://nominatim.openstreetmap.org/reverse?lat=-42.82819751549476&lon=147.27509695317426&format=json \"HTTP/1.1 200 OK\"\n",
      "[2024-03-11 08:50:54 PM]:httpx INFO:_client 1026 - HTTP Request: GET https://nominatim.openstreetmap.org/reverse?lat=-29.670985262627195&lon=152.9398891754968&format=json \"HTTP/1.1 200 OK\"\n",
      "[2024-03-11 08:50:55 PM]:httpx INFO:_client 1026 - HTTP Request: GET https://nominatim.openstreetmap.org/reverse?lat=-33.901456652112174&lon=151.03822187131976&format=json \"HTTP/1.1 200 OK\"\n",
      "[2024-03-11 08:50:56 PM]:httpx INFO:_client 1026 - HTTP Request: GET https://nominatim.openstreetmap.org/reverse?lat=-34.288498&lon=146.067276&format=json \"HTTP/1.1 200 OK\"\n",
      "[2024-03-11 08:50:57 PM]:httpx INFO:_client 1026 - HTTP Request: GET https://nominatim.openstreetmap.org/reverse?lat=-26.223868&lon=152.698278&format=json \"HTTP/1.1 200 OK\"\n",
      "[2024-03-11 08:50:58 PM]:httpx INFO:_client 1026 - HTTP Request: GET https://nominatim.openstreetmap.org/reverse?lat=-38.0086916161689&lon=145.25558345278245&format=json \"HTTP/1.1 200 OK\"\n",
      "[2024-03-11 08:50:59 PM]:httpx INFO:_client 1026 - HTTP Request: GET https://nominatim.openstreetmap.org/reverse?lat=-32.78798584680819&lon=151.7351288525832&format=json \"HTTP/1.1 200 OK\"\n",
      "[2024-03-11 08:50:59 PM]:httpx INFO:_client 1026 - HTTP Request: GET https://nominatim.openstreetmap.org/reverse?lat=-27.431895041434345&lon=153.1322474976208&format=json \"HTTP/1.1 200 OK\"\n",
      "[2024-03-11 08:51:00 PM]:httpx INFO:_client 1026 - HTTP Request: GET https://nominatim.openstreetmap.org/reverse?lat=-32.16433268677475&lon=115.77648794262564&format=json \"HTTP/1.1 200 OK\"\n",
      "[2024-03-11 08:51:01 PM]:httpx INFO:_client 1026 - HTTP Request: GET https://nominatim.openstreetmap.org/reverse?lat=-25.29723080693281&lon=152.7925287907059&format=json \"HTTP/1.1 200 OK\"\n",
      "[2024-03-11 08:51:02 PM]:httpx INFO:_client 1026 - HTTP Request: GET https://nominatim.openstreetmap.org/reverse?lat=-25.316874658210253&lon=152.88993332407378&format=json \"HTTP/1.1 200 OK\"\n",
      "[2024-03-11 08:51:03 PM]:httpx INFO:_client 1026 - HTTP Request: GET https://nominatim.openstreetmap.org/reverse?lat=-12.452588140179698&lon=130.96376462949073&format=json \"HTTP/1.1 200 OK\"\n",
      "[2024-03-11 08:51:03 PM]:httpx INFO:_client 1026 - HTTP Request: GET https://nominatim.openstreetmap.org/reverse?lat=-35.39688911546692&lon=149.15948837314696&format=json \"HTTP/1.1 200 OK\"\n",
      "[2024-03-11 08:51:04 PM]:httpx INFO:_client 1026 - HTTP Request: GET https://nominatim.openstreetmap.org/reverse?lat=-34.283768033796704&lon=138.25928876407573&format=json \"HTTP/1.1 200 OK\"\n",
      "[2024-03-11 08:51:05 PM]:httpx INFO:_client 1026 - HTTP Request: GET https://nominatim.openstreetmap.org/reverse?lat=-17.51205952580729&lon=146.00660426734922&format=json \"HTTP/1.1 200 OK\"\n",
      "[2024-03-11 08:51:06 PM]:httpx INFO:_client 1026 - HTTP Request: GET https://nominatim.openstreetmap.org/reverse?lat=-41.417534657925245&lon=147.1432381449959&format=json \"HTTP/1.1 200 OK\"\n",
      "[2024-03-11 08:51:07 PM]:httpx INFO:_client 1026 - HTTP Request: GET https://nominatim.openstreetmap.org/reverse?lat=-30.7858236500685&lon=121.44167060172626&format=json \"HTTP/1.1 200 OK\"\n",
      "[2024-03-11 08:51:07 PM]:httpx INFO:_client 1026 - HTTP Request: GET https://nominatim.openstreetmap.org/reverse?lat=-30.78590146457046&lon=121.4415959498276&format=json \"HTTP/1.1 200 OK\"\n",
      "[2024-03-11 08:51:08 PM]:httpx INFO:_client 1026 - HTTP Request: GET https://nominatim.openstreetmap.org/reverse?lat=-20.8070954635893&lon=116.77351190870094&format=json \"HTTP/1.1 200 OK\"\n",
      "[2024-03-11 08:51:09 PM]:httpx INFO:_client 1026 - HTTP Request: GET https://nominatim.openstreetmap.org/reverse?lat=-20.811025148568405&lon=116.77345550898944&format=json \"HTTP/1.1 200 OK\"\n",
      "[2024-03-11 08:51:10 PM]:httpx INFO:_client 1026 - HTTP Request: GET https://nominatim.openstreetmap.org/reverse?lat=-14.483119441103426&lon=132.25791713483042&format=json \"HTTP/1.1 200 OK\"\n",
      "[2024-03-11 08:51:10 PM]:httpx INFO:_client 1026 - HTTP Request: GET https://nominatim.openstreetmap.org/reverse?lat=-33.70124863930182&lon=150.31654471987724&format=json \"HTTP/1.1 200 OK\"\n",
      "[2024-03-11 08:51:11 PM]:httpx INFO:_client 1026 - HTTP Request: GET https://nominatim.openstreetmap.org/reverse?lat=-33.86945869624841&lon=150.7624556675415&format=json \"HTTP/1.1 200 OK\"\n",
      "[2024-03-11 08:51:12 PM]:httpx INFO:_client 1026 - HTTP Request: GET https://nominatim.openstreetmap.org/reverse?lat=-32.88018550749655&lon=151.767324081438&format=json \"HTTP/1.1 200 OK\"\n",
      "[2024-03-11 08:51:13 PM]:httpx INFO:_client 1026 - HTTP Request: GET https://nominatim.openstreetmap.org/reverse?lat=-32.88023893004462&lon=151.76733075808517&format=json \"HTTP/1.1 200 OK\"\n",
      "[2024-03-11 08:51:13 PM]:httpx INFO:_client 1026 - HTTP Request: GET https://nominatim.openstreetmap.org/reverse?lat=-34.3392551&lon=142.0981271&format=json \"HTTP/1.1 200 OK\"\n",
      "[2024-03-11 08:51:14 PM]:httpx INFO:_client 1026 - HTTP Request: GET https://nominatim.openstreetmap.org/reverse?lat=-35.0207326&lon=117.6844069&format=json \"HTTP/1.1 200 OK\"\n",
      "[2024-03-11 08:51:15 PM]:httpx INFO:_client 1026 - HTTP Request: GET https://nominatim.openstreetmap.org/reverse?lat=-15.757934871018726&lon=28.7460208588387&format=json \"HTTP/1.1 200 OK\"\n",
      "[2024-03-11 08:51:16 PM]:httpx INFO:_client 1026 - HTTP Request: GET https://nominatim.openstreetmap.org/reverse?lat=-32.24411646774499&lon=115.78033381094964&format=json \"HTTP/1.1 200 OK\"\n",
      "[2024-03-11 08:51:16 PM]:httpx INFO:_client 1026 - HTTP Request: GET https://nominatim.openstreetmap.org/reverse?lat=-32.224363166799755&lon=115.77669195174768&format=json \"HTTP/1.1 200 OK\"\n",
      "[2024-03-11 08:51:17 PM]:httpx INFO:_client 1026 - HTTP Request: GET https://nominatim.openstreetmap.org/reverse?lat=-37.82160991723898&lon=144.79576105261842&format=json \"HTTP/1.1 200 OK\"\n",
      "[2024-03-11 08:51:18 PM]:httpx INFO:_client 1026 - HTTP Request: GET https://nominatim.openstreetmap.org/reverse?lat=-37.829259684202576&lon=144.79461135320793&format=json \"HTTP/1.1 200 OK\"\n",
      "[2024-03-11 08:51:19 PM]:httpx INFO:_client 1026 - HTTP Request: GET https://nominatim.openstreetmap.org/reverse?lat=-38.46515802548319&lon=145.95943114716567&format=json \"HTTP/1.1 200 OK\"\n",
      "[2024-03-11 08:51:20 PM]:httpx INFO:_client 1026 - HTTP Request: GET https://nominatim.openstreetmap.org/reverse?lat=-28.822906277110995&lon=153.26188231950778&format=json \"HTTP/1.1 200 OK\"\n",
      "[2024-03-11 08:51:21 PM]:httpx INFO:_client 1026 - HTTP Request: GET https://nominatim.openstreetmap.org/reverse?lat=-35.096019826247016&lon=138.50125136275895&format=json \"HTTP/1.1 200 OK\"\n",
      "[2024-03-11 08:51:22 PM]:httpx INFO:_client 1026 - HTTP Request: GET https://nominatim.openstreetmap.org/reverse?lat=-35.11899613364654&lon=138.49303886929948&format=json \"HTTP/1.1 200 OK\"\n",
      "[2024-03-11 08:51:23 PM]:httpx INFO:_client 1026 - HTTP Request: GET https://nominatim.openstreetmap.org/reverse?lat=-34.0458007&lon=150.9736569&format=json \"HTTP/1.1 200 OK\"\n",
      "[2024-03-11 08:51:24 PM]:httpx INFO:_client 1026 - HTTP Request: GET https://nominatim.openstreetmap.org/reverse?lat=-34.04483428673299&lon=150.9731024434171&format=json \"HTTP/1.1 200 OK\"\n",
      "[2024-03-11 08:51:24 PM]:httpx INFO:_client 1026 - HTTP Request: GET https://nominatim.openstreetmap.org/reverse?lat=-37.943951894124&lon=145.3191043353757&format=json \"HTTP/1.1 200 OK\"\n",
      "[2024-03-11 08:51:25 PM]:httpx INFO:_client 1026 - HTTP Request: GET https://nominatim.openstreetmap.org/reverse?lat=-32.03925999544982&lon=115.99922766376258&format=json \"HTTP/1.1 200 OK\"\n",
      "[2024-03-11 08:51:26 PM]:httpx INFO:_client 1026 - HTTP Request: GET https://nominatim.openstreetmap.org/reverse?lat=-32.02958970620715&lon=115.99848870307105&format=json \"HTTP/1.1 200 OK\"\n",
      "[2024-03-11 08:51:27 PM]:httpx INFO:_client 1026 - HTTP Request: GET https://nominatim.openstreetmap.org/reverse?lat=-32.03567189355669&lon=115.99618977792728&format=json \"HTTP/1.1 200 OK\"\n",
      "[2024-03-11 08:51:29 PM]:httpx INFO:_client 1026 - HTTP Request: GET https://nominatim.openstreetmap.org/reverse?lat=-31.866000861367514&lon=115.88811538148046&format=json \"HTTP/1.1 200 OK\"\n",
      "[2024-03-11 08:51:30 PM]:httpx INFO:_client 1026 - HTTP Request: GET https://nominatim.openstreetmap.org/reverse?lat=-32.51531772998657&lon=115.7438272000268&format=json \"HTTP/1.1 200 OK\"\n",
      "[2024-03-11 08:51:31 PM]:httpx INFO:_client 1026 - HTTP Request: GET https://nominatim.openstreetmap.org/reverse?lat=-32.504415610631085&lon=115.75982899045232&format=json \"HTTP/1.1 200 OK\"\n",
      "[2024-03-11 08:51:32 PM]:httpx INFO:_client 1026 - HTTP Request: GET https://nominatim.openstreetmap.org/reverse?lat=-34.25550049801965&lon=116.149420262724&format=json \"HTTP/1.1 200 OK\"\n",
      "[2024-03-11 08:51:33 PM]:httpx INFO:_client 1026 - HTTP Request: GET https://nominatim.openstreetmap.org/reverse?lat=-37.0521693&lon=146.0881238&format=json \"HTTP/1.1 200 OK\"\n",
      "[2024-03-11 08:51:34 PM]:httpx INFO:_client 1026 - HTTP Request: GET https://nominatim.openstreetmap.org/reverse?lat=-33.96672800321526&lon=115.07210875324134&format=json \"HTTP/1.1 200 OK\"\n",
      "[2024-03-11 08:51:35 PM]:httpx INFO:_client 1026 - HTTP Request: GET https://nominatim.openstreetmap.org/reverse?lat=-37.83943217730081&lon=144.97763336491647&format=json \"HTTP/1.1 200 OK\"\n",
      "[2024-03-11 08:51:36 PM]:httpx INFO:_client 1026 - HTTP Request: GET https://nominatim.openstreetmap.org/reverse?lat=-34.199754995397875&lon=142.17421414333316&format=json \"HTTP/1.1 200 OK\"\n",
      "[2024-03-11 08:51:37 PM]:httpx INFO:_client 1026 - HTTP Request: GET https://nominatim.openstreetmap.org/reverse?lat=-27.470353744143594&lon=153.00765615951624&format=json \"HTTP/1.1 200 OK\"\n",
      "[2024-03-11 08:51:38 PM]:httpx INFO:_client 1026 - HTTP Request: GET https://nominatim.openstreetmap.org/reverse?lat=-34.25684598862214&lon=140.6050889362727&format=json \"HTTP/1.1 200 OK\"\n",
      "[2024-03-11 08:51:39 PM]:httpx INFO:_client 1026 - HTTP Request: GET https://nominatim.openstreetmap.org/reverse?lat=-21.98603455754195&lon=148.01488531938543&format=json \"HTTP/1.1 200 OK\"\n",
      "[2024-03-11 08:51:40 PM]:httpx INFO:_client 1026 - HTTP Request: GET https://nominatim.openstreetmap.org/reverse?lat=-27.452751757838953&lon=153.07732429982818&format=json \"HTTP/1.1 200 OK\"\n",
      "[2024-03-11 08:51:41 PM]:httpx INFO:_client 1026 - HTTP Request: GET https://nominatim.openstreetmap.org/reverse?lat=-38.23047984961146&lon=145.06867493070044&format=json \"HTTP/1.1 200 OK\"\n",
      "[2024-03-11 08:51:42 PM]:httpx INFO:_client 1026 - HTTP Request: GET https://nominatim.openstreetmap.org/reverse?lat=-38.22987945430703&lon=146.39682829111084&format=json \"HTTP/1.1 200 OK\"\n",
      "[2024-03-11 08:51:43 PM]:httpx INFO:_client 1026 - HTTP Request: GET https://nominatim.openstreetmap.org/reverse?lat=-38.2335502609417&lon=146.44215252731158&format=json \"HTTP/1.1 200 OK\"\n",
      "[2024-03-11 08:51:45 PM]:httpx INFO:_client 1026 - HTTP Request: GET https://nominatim.openstreetmap.org/reverse?lat=-37.84419478990542&lon=140.8039420311392&format=json \"HTTP/1.1 200 OK\"\n",
      "[2024-03-11 08:51:46 PM]:httpx INFO:_client 1026 - HTTP Request: GET https://nominatim.openstreetmap.org/reverse?lat=-20.688098241779148&lon=139.48826886228483&format=json \"HTTP/1.1 200 OK\"\n",
      "[2024-03-11 08:51:47 PM]:httpx INFO:_client 1026 - HTTP Request: GET https://nominatim.openstreetmap.org/reverse?lat=-37.90667170885494&lon=145.15499356349&format=json \"HTTP/1.1 200 OK\"\n",
      "[2024-03-11 08:51:48 PM]:httpx INFO:_client 1026 - HTTP Request: GET https://nominatim.openstreetmap.org/reverse?lat=-27.198908583422064&lon=153.00245588654735&format=json \"HTTP/1.1 200 OK\"\n",
      "[2024-03-11 08:51:49 PM]:httpx INFO:_client 1026 - HTTP Request: GET https://nominatim.openstreetmap.org/reverse?lat=-27.206933789931885&lon=152.9885814522348&format=json \"HTTP/1.1 200 OK\"\n",
      "[2024-03-11 08:51:50 PM]:httpx INFO:_client 1026 - HTTP Request: GET https://nominatim.openstreetmap.org/reverse?lat=-27.2005386&lon=152.9885253&format=json \"HTTP/1.1 200 OK\"\n",
      "[2024-03-11 08:51:51 PM]:httpx INFO:_client 1026 - HTTP Request: GET https://nominatim.openstreetmap.org/reverse?lat=-27.199652962460615&lon=153.00675098434937&format=json \"HTTP/1.1 200 OK\"\n",
      "[2024-03-11 08:51:52 PM]:httpx INFO:_client 1026 - HTTP Request: GET https://nominatim.openstreetmap.org/reverse?lat=-27.198941361528483&lon=152.98986424218432&format=json \"HTTP/1.1 200 OK\"\n",
      "[2024-03-11 08:51:52 PM]:httpx INFO:_client 1026 - HTTP Request: GET https://nominatim.openstreetmap.org/reverse?lat=-27.607929297837284&lon=152.83432464445465&format=json \"HTTP/1.1 200 OK\"\n",
      "[2024-03-11 08:51:53 PM]:httpx INFO:_client 1026 - HTTP Request: GET https://nominatim.openstreetmap.org/reverse?lat=-23.37238971273152&lon=119.7304318632627&format=json \"HTTP/1.1 200 OK\"\n",
      "[2024-03-11 08:51:54 PM]:httpx INFO:_client 1026 - HTTP Request: GET https://nominatim.openstreetmap.org/reverse?lat=-41.43499492006276,&lon=147.16411281003428&format=json \"HTTP/1.1 400 Bad Request\"\n",
      "[2024-03-11 08:51:55 PM]:httpx INFO:_client 1026 - HTTP Request: GET https://nominatim.openstreetmap.org/reverse?lat=-12.190803970805476&lon=136.75348626523842&format=json \"HTTP/1.1 200 OK\"\n",
      "[2024-03-11 08:51:55 PM]:httpx INFO:_client 1026 - HTTP Request: GET https://nominatim.openstreetmap.org/reverse?lat=-27.389485848175312&lon=153.08118133290225&format=json \"HTTP/1.1 200 OK\"\n",
      "[2024-03-11 08:51:56 PM]:httpx INFO:_client 1026 - HTTP Request: GET https://nominatim.openstreetmap.org/reverse?lat=-34.91319521406604&lon=150.57975414316385&format=json \"HTTP/1.1 200 OK\"\n",
      "[2024-03-11 08:51:57 PM]:httpx INFO:_client 1026 - HTTP Request: GET https://nominatim.openstreetmap.org/reverse?lat=-33.28154054011117&lon=149.1072033609523&format=json \"HTTP/1.1 200 OK\"\n",
      "[2024-03-11 08:51:58 PM]:httpx INFO:_client 1026 - HTTP Request: GET https://nominatim.openstreetmap.org/reverse?lat=-33.31265210461621&lon=149.11038410411652&format=json \"HTTP/1.1 200 OK\"\n",
      "[2024-03-11 08:51:59 PM]:httpx INFO:_client 1026 - HTTP Request: GET https://nominatim.openstreetmap.org/reverse?lat=-27.56361920076197&lon=152.98561766604732&format=json \"HTTP/1.1 200 OK\"\n",
      "[2024-03-11 08:51:59 PM]:httpx INFO:_client 1026 - HTTP Request: GET https://nominatim.openstreetmap.org/reverse?lat=-33.94460372431617&lon=151.03765259217488&format=json \"HTTP/1.1 200 OK\"\n",
      "[2024-03-11 08:52:00 PM]:httpx INFO:_client 1026 - HTTP Request: GET https://nominatim.openstreetmap.org/reverse?lat=-21.192329001937534&lon=149.16306718588277&format=json \"HTTP/1.1 200 OK\"\n",
      "[2024-03-11 08:52:01 PM]:httpx INFO:_client 1026 - HTTP Request: GET https://nominatim.openstreetmap.org/reverse?lat=-21.19235356780925&lon=149.16304804510474&format=json \"HTTP/1.1 200 OK\"\n",
      "[2024-03-11 08:52:02 PM]:httpx INFO:_client 1026 - HTTP Request: GET https://nominatim.openstreetmap.org/reverse?lat=-33.142893360569104&lon=148.18106230338034&format=json \"HTTP/1.1 200 OK\"\n",
      "[2024-03-11 08:52:02 PM]:httpx INFO:_client 1026 - HTTP Request: GET https://nominatim.openstreetmap.org/reverse?lat=-30.709772179524332&lon=121.50860663517297&format=json \"HTTP/1.1 200 OK\"\n",
      "[2024-03-11 08:52:03 PM]:httpx INFO:_client 1026 - HTTP Request: GET https://nominatim.openstreetmap.org/reverse?lat=-23.33329659990984&lon=150.50397830176257&format=json \"HTTP/1.1 200 OK\"\n",
      "[2024-03-11 08:52:04 PM]:httpx INFO:_client 1026 - HTTP Request: GET https://nominatim.openstreetmap.org/reverse?lat=-33.967708831581746&lon=151.06289692810822&format=json \"HTTP/1.1 200 OK\"\n",
      "[2024-03-11 08:52:05 PM]:httpx INFO:_client 1026 - HTTP Request: GET https://nominatim.openstreetmap.org/reverse?lat=-31.915738733432097&lon=115.96737529065088&format=json \"HTTP/1.1 200 OK\"\n",
      "[2024-03-11 08:52:05 PM]:httpx INFO:_client 1026 - HTTP Request: GET https://nominatim.openstreetmap.org/reverse?lat=-32.6599049&lon=115.8285153&format=json \"HTTP/1.1 200 OK\"\n",
      "[2024-03-11 08:52:06 PM]:httpx INFO:_client 1026 - HTTP Request: GET https://nominatim.openstreetmap.org/reverse?lat=-34.84442097392786&lon=138.5429558408226&format=json \"HTTP/1.1 200 OK\"\n",
      "[2024-03-11 08:52:07 PM]:httpx INFO:_client 1026 - HTTP Request: GET https://nominatim.openstreetmap.org/reverse?lat=-32.505562227210376&lon=137.81003601306412&format=json \"HTTP/1.1 200 OK\"\n",
      "[2024-03-11 08:52:08 PM]:httpx INFO:_client 1026 - HTTP Request: GET https://nominatim.openstreetmap.org/reverse?lat=-20.369422264466657&lon=118.59883877462671&format=json \"HTTP/1.1 200 OK\"\n",
      "[2024-03-11 08:52:09 PM]:httpx INFO:_client 1026 - HTTP Request: GET https://nominatim.openstreetmap.org/reverse?lat=-20.372336374583497&lon=118.59275727961628&format=json \"HTTP/1.1 200 OK\"\n",
      "[2024-03-11 08:52:09 PM]:httpx INFO:_client 1026 - HTTP Request: GET https://nominatim.openstreetmap.org/reverse?lat=-34.45520241169187&lon=150.87265678476146&format=json \"HTTP/1.1 200 OK\"\n",
      "[2024-03-11 08:52:10 PM]:httpx INFO:_client 1026 - HTTP Request: GET https://nominatim.openstreetmap.org/reverse?lat=-38.16548988320143&lon=144.42027733885604&format=json \"HTTP/1.1 200 OK\"\n",
      "[2024-03-11 08:52:11 PM]:httpx INFO:_client 1026 - HTTP Request: GET https://nominatim.openstreetmap.org/reverse?lat=-16.935437983447315&lon=145.77113796653825&format=json \"HTTP/1.1 200 OK\"\n",
      "[2024-03-11 08:52:12 PM]:httpx INFO:_client 1026 - HTTP Request: GET https://nominatim.openstreetmap.org/reverse?lat=-35.33834372891299&lon=149.24804793546613&format=json \"HTTP/1.1 200 OK\"\n",
      "[2024-03-11 08:52:12 PM]:httpx INFO:_client 1026 - HTTP Request: GET https://nominatim.openstreetmap.org/reverse?lat=-34.79998343337878&lon=137.78792400506998&format=json \"HTTP/1.1 200 OK\"\n",
      "[2024-03-11 08:52:13 PM]:httpx INFO:_client 1026 - HTTP Request: GET https://nominatim.openstreetmap.org/reverse?lat=-37.78769471213414&lon=144.7224335342535&format=json \"HTTP/1.1 200 OK\"\n",
      "[2024-03-11 08:52:14 PM]:httpx INFO:_client 1026 - HTTP Request: GET https://nominatim.openstreetmap.org/reverse?lat=-33.95829848119168&lon=151.14379702769418&format=json \"HTTP/1.1 200 OK\"\n",
      "[2024-03-11 08:52:15 PM]:httpx INFO:_client 1026 - HTTP Request: GET https://nominatim.openstreetmap.org/reverse?lat=-23.363432807784612&lon=150.50999940984047&format=json \"HTTP/1.1 200 OK\"\n",
      "[2024-03-11 08:52:16 PM]:httpx INFO:_client 1026 - HTTP Request: GET https://nominatim.openstreetmap.org/reverse?lat=-42.906018245308054&lon=147.4419780444115&format=json \"HTTP/1.1 200 OK\"\n",
      "[2024-03-11 08:52:16 PM]:httpx INFO:_client 1026 - HTTP Request: GET https://nominatim.openstreetmap.org/reverse?lat=-26.582765184930075&lon=148.77704248162357&format=json \"HTTP/1.1 200 OK\"\n",
      "[2024-03-11 08:52:17 PM]:httpx INFO:_client 1026 - HTTP Request: GET https://nominatim.openstreetmap.org/reverse?lat=-32.710217045609525&lon=151.49925201764503&format=json \"HTTP/1.1 200 OK\"\n",
      "[2024-03-11 08:52:18 PM]:httpx INFO:_client 1026 - HTTP Request: GET https://nominatim.openstreetmap.org/reverse?lat=-32.71265285026184&lon=151.50138013401113&format=json \"HTTP/1.1 200 OK\"\n",
      "[2024-03-11 08:52:19 PM]:httpx INFO:_client 1026 - HTTP Request: GET https://nominatim.openstreetmap.org/reverse?lat=-33.78582925278756&lon=151.1384890509105&format=json \"HTTP/1.1 200 OK\"\n",
      "[2024-03-11 08:52:20 PM]:httpx INFO:_client 1026 - HTTP Request: GET https://nominatim.openstreetmap.org/reverse?lat=-37.01818700175218&lon=145.1333478275846&format=json \"HTTP/1.1 200 OK\"\n",
      "[2024-03-11 08:52:20 PM]:httpx INFO:_client 1026 - HTTP Request: GET https://nominatim.openstreetmap.org/reverse?lat=-36.377039045423395&lon=145.42430774486468&format=json \"HTTP/1.1 200 OK\"\n",
      "[2024-03-11 08:52:21 PM]:httpx INFO:_client 1026 - HTTP Request: GET https://nominatim.openstreetmap.org/reverse?lat=-34.910169021919465&lon=138.55829289857417&format=json \"HTTP/1.1 200 OK\"\n",
      "[2024-03-11 08:52:22 PM]:httpx INFO:_client 1026 - HTTP Request: GET https://nominatim.openstreetmap.org/reverse?lat=-37.652060&lon=143.6704&format=json \"HTTP/1.1 200 OK\"\n",
      "[2024-03-11 08:52:23 PM]:httpx INFO:_client 1026 - HTTP Request: GET https://nominatim.openstreetmap.org/reverse?lat=-33.40841394319126&lon=151.28472585168598&format=json \"HTTP/1.1 200 OK\"\n",
      "[2024-03-11 08:52:23 PM]:httpx INFO:_client 1026 - HTTP Request: GET https://nominatim.openstreetmap.org/reverse?lat=-38.16898778012702&lon=144.36845541153232&format=json \"HTTP/1.1 200 OK\"\n",
      "[2024-03-11 08:52:24 PM]:httpx INFO:_client 1026 - HTTP Request: GET https://nominatim.openstreetmap.org/reverse?lat=-31.100181076598474&lon=152.82570354747952&format=json \"HTTP/1.1 200 OK\"\n",
      "[2024-03-11 08:52:25 PM]:httpx INFO:_client 1026 - HTTP Request: GET https://nominatim.openstreetmap.org/reverse?lat=-33.62512997774327&lon=150.8148539135821&format=json \"HTTP/1.1 200 OK\"\n",
      "[2024-03-11 08:52:26 PM]:httpx INFO:_client 1026 - HTTP Request: GET https://nominatim.openstreetmap.org/reverse?lat=-33.3532421245250&lon=115.69951020544082&format=json \"HTTP/1.1 200 OK\"\n",
      "[2024-03-11 08:52:27 PM]:httpx INFO:_client 1026 - HTTP Request: GET https://nominatim.openstreetmap.org/reverse?lat=-33.7443541093107&lon=150.76981404654026&format=json \"HTTP/1.1 200 OK\"\n",
      "[2024-03-11 08:52:28 PM]:httpx INFO:_client 1026 - HTTP Request: GET https://nominatim.openstreetmap.org/reverse?lat=-33.74794369397784&lon=150.77082641563322&format=json \"HTTP/1.1 200 OK\"\n",
      "[2024-03-11 08:52:29 PM]:httpx INFO:_client 1026 - HTTP Request: GET https://nominatim.openstreetmap.org/reverse?lat=-16.86956135933898&lon=145.74046373897224&format=json \"HTTP/1.1 200 OK\"\n",
      "[2024-03-11 08:52:30 PM]:httpx INFO:_client 1026 - HTTP Request: GET https://nominatim.openstreetmap.org/reverse?lat=-37.81026713090877&lon=144.81531514946656&format=json \"HTTP/1.1 200 OK\"\n",
      "[2024-03-11 08:52:31 PM]:httpx INFO:_client 1026 - HTTP Request: GET https://nominatim.openstreetmap.org/reverse?lat=-35.34504393650596&lon=143.53471054108584&format=json \"HTTP/1.1 200 OK\"\n",
      "[2024-03-11 08:52:32 PM]:httpx INFO:_client 1026 - HTTP Request: GET https://nominatim.openstreetmap.org/reverse?lat=-33.84232190103701&lon=151.05902325980506&format=json \"HTTP/1.1 200 OK\"\n",
      "[2024-03-11 08:52:32 PM]:httpx INFO:_client 1026 - HTTP Request: GET https://nominatim.openstreetmap.org/reverse?lat=-31.09587265228226&lon=150.90517033569827&format=json \"HTTP/1.1 200 OK\"\n",
      "[2024-03-11 08:52:33 PM]:httpx INFO:_client 1026 - HTTP Request: GET https://nominatim.openstreetmap.org/reverse?lat=-31.089898679901008&lon=150.91054136266985&format=json \"HTTP/1.1 200 OK\"\n",
      "[2024-03-11 08:52:34 PM]:httpx INFO:_client 1026 - HTTP Request: GET https://nominatim.openstreetmap.org/reverse?lat=-37.68991455100399&lon=145.00463870412375&format=json \"HTTP/1.1 200 OK\"\n",
      "[2024-03-11 08:52:35 PM]:httpx INFO:_client 1026 - HTTP Request: GET https://nominatim.openstreetmap.org/reverse?lat=-34.33924442041548&lon=142.0981279276598&format=json \"HTTP/1.1 200 OK\"\n",
      "[2024-03-11 08:52:36 PM]:httpx INFO:_client 1026 - HTTP Request: GET https://nominatim.openstreetmap.org/reverse?lat=-34.33924552522761&lon=142.09812723192783&format=json \"HTTP/1.1 200 OK\"\n",
      "[2024-03-11 08:52:37 PM]:httpx INFO:_client 1026 - HTTP Request: GET https://nominatim.openstreetmap.org/reverse?lat=-27.536491358819948&lon=151.9509750038121&format=json \"HTTP/1.1 200 OK\"\n",
      "[2024-03-11 08:52:38 PM]:httpx INFO:_client 1026 - HTTP Request: GET https://nominatim.openstreetmap.org/reverse?lat=-19.254110478190434&lon=146.71308489997946&format=json \"HTTP/1.1 200 OK\"\n",
      "[2024-03-11 08:52:39 PM]:httpx INFO:_client 1026 - HTTP Request: GET https://nominatim.openstreetmap.org/reverse?lat=-37.67575651293539&lon=144.86538768532327&format=json \"HTTP/1.1 200 OK\"\n",
      "[2024-03-11 08:52:40 PM]:httpx INFO:_client 1026 - HTTP Request: GET https://nominatim.openstreetmap.org/reverse?lat=-34.463930429547275&lon=150.85618033057716&format=json \"HTTP/1.1 200 OK\"\n",
      "[2024-03-11 08:52:41 PM]:httpx INFO:_client 1026 - HTTP Request: GET https://nominatim.openstreetmap.org/reverse?lat=-34.45884306921514&lon=150.8530455657857&format=json \"HTTP/1.1 200 OK\"\n",
      "[2024-03-11 08:52:42 PM]:httpx INFO:_client 1026 - HTTP Request: GET https://nominatim.openstreetmap.org/reverse?lat=-34.460265&lon=150.8633155&format=json \"HTTP/1.1 200 OK\"\n",
      "[2024-03-11 08:52:43 PM]:httpx INFO:_client 1026 - HTTP Request: GET https://nominatim.openstreetmap.org/reverse?lat=-35.12764190922321&lon=147.4136964940244&format=json \"HTTP/1.1 200 OK\"\n",
      "[2024-03-11 08:52:44 PM]:httpx INFO:_client 1026 - HTTP Request: GET https://nominatim.openstreetmap.org/reverse?lat=-34.991525609567866&lon=137.42958691778773&format=json \"HTTP/1.1 200 OK\"\n",
      "[2024-03-11 08:52:44 PM]:httpx INFO:_client 1026 - HTTP Request: GET https://nominatim.openstreetmap.org/reverse?lat=-38.37571400011774&lon=142.46415810075274&format=json \"HTTP/1.1 200 OK\"\n",
      "[2024-03-11 08:52:45 PM]:httpx INFO:_client 1026 - HTTP Request: GET https://nominatim.openstreetmap.org/reverse?lat=-28.748278356854854&lon=114.62827788098733&format=json \"HTTP/1.1 200 OK\"\n",
      "[2024-03-11 08:52:46 PM]:httpx INFO:_client 1026 - HTTP Request: GET https://nominatim.openstreetmap.org/reverse?lat=-33.837152894458214&lon=150.90440315644275&format=json \"HTTP/1.1 200 OK\"\n",
      "[2024-03-11 08:52:47 PM]:httpx INFO:_client 1026 - HTTP Request: GET https://nominatim.openstreetmap.org/reverse?lat=-33.008009&lon=137.572109&format=json \"HTTP/1.1 200 OK\"\n",
      "[2024-03-11 08:52:48 PM]:httpx INFO:_client 1026 - HTTP Request: GET https://nominatim.openstreetmap.org/reverse?lat=-33.038010670814074&lon=137.55243296595594&format=json \"HTTP/1.1 200 OK\"\n",
      "[2024-03-11 08:52:49 PM]:httpx INFO:_client 1026 - HTTP Request: GET https://nominatim.openstreetmap.org/reverse?lat=-27.582836114938612&lon=152.99688907576672&format=json \"HTTP/1.1 200 OK\"\n",
      "[2024-03-11 08:52:50 PM]:httpx INFO:_client 1026 - HTTP Request: GET https://nominatim.openstreetmap.org/reverse?lat=-34.83475550287251&lon=138.56438246007562&format=json \"HTTP/1.1 200 OK\"\n",
      "[2024-03-11 08:52:51 PM]:httpx INFO:_client 1026 - HTTP Request: GET https://nominatim.openstreetmap.org/reverse?lat=-34.83065925891953&lon=138.54731182037293&format=json \"HTTP/1.1 200 OK\"\n",
      "[2024-03-11 08:52:52 PM]:httpx INFO:_client 1026 - HTTP Request: GET https://nominatim.openstreetmap.org/reverse?lat=-36.11166500739213&lon=146.85815657030102&format=json \"HTTP/1.1 200 OK\"\n",
      "[2024-03-11 08:52:53 PM]:httpx INFO:_client 1026 - HTTP Request: GET https://nominatim.openstreetmap.org/reverse?lat=-33.264526357566275&lon=151.45145710619676&format=json \"HTTP/1.1 200 OK\"\n",
      "[2024-03-11 08:52:54 PM]:httpx INFO:_client 1026 - HTTP Request: GET https://nominatim.openstreetmap.org/reverse?lat=-27.757649419169535&lon=153.23397267269092&format=json \"HTTP/1.1 200 OK\"\n",
      "[2024-03-11 08:52:55 PM]:httpx INFO:_client 1026 - HTTP Request: GET https://nominatim.openstreetmap.org/reverse?lat=-34.30134824214955&lon=148.2713198766994&format=json \"HTTP/1.1 200 OK\"\n",
      "[2024-03-11 08:52:56 PM]:httpx INFO:_client 1026 - HTTP Request: GET https://nominatim.openstreetmap.org/reverse?lat=-37.57592265294685&lon=144.97817345499203&format=json \"HTTP/1.1 200 OK\"\n",
      "[2024-03-11 08:52:57 PM]:httpx INFO:_client 1026 - HTTP Request: GET https://nominatim.openstreetmap.org/reverse?lat=-33.3986041&lon=150.0782163&format=json \"HTTP/1.1 200 OK\"\n"
     ]
    }
   ],
   "source": [
    "df[\"state\"], df[\"postcode\"] = zip(\n",
    "    *df.apply(lambda row: get_location_name(row[\"latitude\"], row[\"longitude\"]), axis=1)\n",
    ")"
   ]
  },
  {
   "cell_type": "code",
   "execution_count": 30,
   "metadata": {},
   "outputs": [
    {
     "name": "stdout",
     "output_type": "stream",
     "text": [
      "<class 'pandas.core.frame.DataFrame'>\n",
      "RangeIndex: 215 entries, 0 to 214\n",
      "Data columns (total 9 columns):\n",
      " #   Column            Non-Null Count  Dtype  \n",
      "---  ------            --------------  -----  \n",
      " 0   service_name      215 non-null    object \n",
      " 1   address           215 non-null    object \n",
      " 2   latitude          215 non-null    object \n",
      " 3   longitude         215 non-null    float64\n",
      " 4   services_offered  214 non-null    object \n",
      " 5   details_url       215 non-null    object \n",
      " 6   scrape_ts         215 non-null    object \n",
      " 7   state             209 non-null    object \n",
      " 8   postcode          194 non-null    object \n",
      "dtypes: float64(1), object(8)\n",
      "memory usage: 15.2+ KB\n"
     ]
    }
   ],
   "source": [
    "df.info()"
   ]
  },
  {
   "cell_type": "code",
   "execution_count": null,
   "metadata": {},
   "outputs": [],
   "source": []
  }
 ],
 "metadata": {
  "kernelspec": {
   "display_name": ".venv",
   "language": "python",
   "name": "python3"
  },
  "language_info": {
   "codemirror_mode": {
    "name": "ipython",
    "version": 3
   },
   "file_extension": ".py",
   "mimetype": "text/x-python",
   "name": "python",
   "nbconvert_exporter": "python",
   "pygments_lexer": "ipython3",
   "version": "3.10.11"
  }
 },
 "nbformat": 4,
 "nbformat_minor": 2
}
