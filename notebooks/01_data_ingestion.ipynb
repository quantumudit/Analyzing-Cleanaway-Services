{
 "cells": [
  {
   "cell_type": "markdown",
   "metadata": {},
   "source": [
    "---\n",
    "\n",
    "<div style=\"text-align: center;\">\n",
    "    <img src=\"../resources/data-ingestion-cover.png\" alt=\"data-exploration-cover-picture\">\n",
    "</div>\n",
    "\n",
    "---"
   ]
  },
  {
   "cell_type": "markdown",
   "metadata": {},
   "source": [
    "# Data Ingestion\n",
    "\n",
    "[![Open In Colab](https://colab.research.google.com/assets/colab-badge.svg)](https://colab.research.google.com/github/quantumudit/Spend-Estimator/blob/master/notebooks/01_data_exploration.ipynb)\n",
    "[![Binder](https://mybinder.org/badge_logo.svg)](https://mybinder.org/v2/gh/quantumudit/Spend-Estimator/master?labpath=notebooks/01_data_exploration.ipynb)"
   ]
  },
  {
   "cell_type": "markdown",
   "metadata": {},
   "source": [
    "## Introduction\n",
    "\n",
    "In this notebook, we employ web scraping methods to gather data on the diverse services provided by [Cleanaway](https://www.cleanaway.com.au/contact-us/our-locations/) at various locations throughout Australia.\n",
    "\n",
    "Once the raw data is collected, we'll engage in data wrangling to refine and reshape it into a more accessible and organized format. This process involves cleaning, transforming, and structuring the data to ensure its accuracy and consistency, ultimately making it suitable for further analysis and visualization.\n",
    "\n",
    "Upon completing the steps in this notebook, we'll possess a well-prepared dataset that will enable us to uncover insightful patterns and relationships. This refined dataset will serve as the foundation for creating compelling visualizations that effectively convey the story hidden within the data."
   ]
  },
  {
   "cell_type": "markdown",
   "metadata": {},
   "source": [
    "## Experiment Setup\n",
    "\n",
    "In this section, we will establish the required configurations and settings to ensure a seamless data extraction and transformation process. This section involves several crucial steps that lay the foundation for our web scraping and data wrangling tasks. Here's an elaboration of each step:\n",
    "\n",
    "- **Modules Imports & Setup**: Import and set up various libraries and modules that will aid us in the data ingestion process\n",
    "- **Execution Path Setup**: Set up the appropriate file path to ensure that our code runs correctly and can access any necessary files or directories\n",
    "- **Utility Functions & Configurations Setup**: Import and set up essential utility functions and configurations to streamline the data extraction and transformation tasks"
   ]
  },
  {
   "cell_type": "markdown",
   "metadata": {},
   "source": [
    "### Modules Import and Setup"
   ]
  },
  {
   "cell_type": "code",
   "execution_count": 1,
   "metadata": {},
   "outputs": [],
   "source": [
    "# Library for operating system related tasks\n",
    "import os"
   ]
  },
  {
   "cell_type": "code",
   "execution_count": 2,
   "metadata": {},
   "outputs": [],
   "source": [
    "# Library for RegEx operations\n",
    "import re"
   ]
  },
  {
   "cell_type": "code",
   "execution_count": 3,
   "metadata": {},
   "outputs": [],
   "source": [
    "# Libraries for web scraping\n",
    "import httpx\n",
    "from selectolax.parser import HTMLParser\n",
    "from urllib.parse import urljoin"
   ]
  },
  {
   "cell_type": "code",
   "execution_count": 4,
   "metadata": {},
   "outputs": [],
   "source": [
    "# Other supporting libraries\n",
    "import random\n",
    "import time\n",
    "from datetime import datetime"
   ]
  },
  {
   "cell_type": "code",
   "execution_count": 5,
   "metadata": {},
   "outputs": [],
   "source": [
    "# Library for data wrangling\n",
    "import pandas as pd"
   ]
  },
  {
   "cell_type": "code",
   "execution_count": 6,
   "metadata": {},
   "outputs": [],
   "source": [
    "# Library for pretty print output\n",
    "from rich.console import Console\n",
    "\n",
    "console = Console()"
   ]
  },
  {
   "cell_type": "markdown",
   "metadata": {},
   "source": [
    "### Execution Path Setup"
   ]
  },
  {
   "cell_type": "code",
   "execution_count": 7,
   "metadata": {},
   "outputs": [
    {
     "name": "stdout",
     "output_type": "stream",
     "text": [
      "Current working directory: notebooks\n",
      "Current working directory (Changed): Analyzing-Cleanway-Services\n"
     ]
    }
   ],
   "source": [
    "# Current execution path\n",
    "print(f\"Current working directory: {os.path.basename(os.getcwd())}\")\n",
    "\n",
    "# Change to root directory\n",
    "os.chdir(\"../\")\n",
    "print(f\"Current working directory (Changed): {os.path.basename(os.getcwd())}\")"
   ]
  },
  {
   "cell_type": "markdown",
   "metadata": {},
   "source": [
    "### Utility Functions & Configurations Setup"
   ]
  },
  {
   "cell_type": "code",
   "execution_count": 8,
   "metadata": {},
   "outputs": [],
   "source": [
    "# Import config.yaml file\n",
    "from src.constants import CONFIGS"
   ]
  },
  {
   "cell_type": "code",
   "execution_count": 12,
   "metadata": {},
   "outputs": [
    {
     "name": "stdout",
     "output_type": "stream",
     "text": [
      "[2024-07-14 05:36:35 PM]:ProjectLogger INFO:basic_utils 43 - yaml file: conf\\configs.yaml loaded successfully\n"
     ]
    },
    {
     "data": {
      "text/html": [
       "<pre style=\"white-space:pre;overflow-x:auto;line-height:normal;font-family:Menlo,'DejaVu Sans Mono',consolas,'Courier New',monospace\"><span style=\"font-weight: bold\">{</span>\n",
       "    <span style=\"color: #008000; text-decoration-color: #008000\">'root_url'</span>: <span style=\"color: #008000; text-decoration-color: #008000\">'https://www.cleanaway.com.au/contact-us/our-locations/'</span>,\n",
       "    <span style=\"color: #008000; text-decoration-color: #008000\">'user_agent'</span>: <span style=\"color: #008000; text-decoration-color: #008000\">'Mozilla/5.0 (X11; Linux x86_64; rv:123.0) Gecko/20100101 Firefox/123.0'</span>,\n",
       "    <span style=\"color: #008000; text-decoration-color: #008000\">'timeout'</span>: <span style=\"color: #008080; text-decoration-color: #008080; font-weight: bold\">100</span>,\n",
       "    <span style=\"color: #008000; text-decoration-color: #008000\">'clear_contents'</span>: <span style=\"color: #00ff00; text-decoration-color: #00ff00; font-style: italic\">True</span>,\n",
       "    <span style=\"color: #008000; text-decoration-color: #008000\">'links_data_path'</span>: <span style=\"color: #008000; text-decoration-color: #008000\">'data/external/service_links.csv'</span>,\n",
       "    <span style=\"color: #008000; text-decoration-color: #008000\">'scraped_data_path'</span>: <span style=\"color: #008000; text-decoration-color: #008000\">'data/external/scraped_services.csv'</span>\n",
       "<span style=\"font-weight: bold\">}</span>\n",
       "</pre>\n"
      ],
      "text/plain": [
       "\u001b[1m{\u001b[0m\n",
       "    \u001b[32m'root_url'\u001b[0m: \u001b[32m'https://www.cleanaway.com.au/contact-us/our-locations/'\u001b[0m,\n",
       "    \u001b[32m'user_agent'\u001b[0m: \u001b[32m'Mozilla/5.0 \u001b[0m\u001b[32m(\u001b[0m\u001b[32mX11; Linux x86_64; rv:123.0\u001b[0m\u001b[32m)\u001b[0m\u001b[32m Gecko/20100101 Firefox/123.0'\u001b[0m,\n",
       "    \u001b[32m'timeout'\u001b[0m: \u001b[1;36m100\u001b[0m,\n",
       "    \u001b[32m'clear_contents'\u001b[0m: \u001b[3;92mTrue\u001b[0m,\n",
       "    \u001b[32m'links_data_path'\u001b[0m: \u001b[32m'data/external/service_links.csv'\u001b[0m,\n",
       "    \u001b[32m'scraped_data_path'\u001b[0m: \u001b[32m'data/external/scraped_services.csv'\u001b[0m\n",
       "\u001b[1m}\u001b[0m\n"
      ]
     },
     "metadata": {},
     "output_type": "display_data"
    }
   ],
   "source": [
    "# Import utility function to read YAML files\n",
    "from src.utils.basic_utils import read_yaml\n",
    "\n",
    "# Read the data scraper constants from the file\n",
    "data_scraper = read_yaml(CONFIGS).data_scraper\n",
    "console.print(data_scraper.to_dict())"
   ]
  },
  {
   "cell_type": "markdown",
   "metadata": {},
   "source": [
    "## Data Extraction\n",
    "\n",
    "In this section, we will perform web scraping to extract data from a website. The process involves several key steps to ensure accurate and efficient data extraction:\n",
    "\n",
    "- **Fetch Website Response** : Set up various constants and getting the website response by sending a get request to the root url\n",
    "- **Content Parsing**: Accessing the contents of the root URL and using proper selectors to extract the required information.\n",
    "- **Handling Pagination**: Using proper CSS selector and logic for navigating to the next page by accessing the next page URL\n",
    "- **Functionization**: Creating functions to extract required information by handling pagination\n",
    "- **Service URL Extraction**: Extracting all the service URL and other required information by leveraging the function and pagination logic\n",
    "- **Sample Service Page Response**: Choosing a sample service URL and getting the website response by sending a get request to the service page URL\n",
    "- **Sample Service Page Content Parsing**: Extracting required information from the sample service page by using proper selectors\n",
    "- **Functionization**: Creating a function to extract all the service related information required from the service URL\n",
    "- **Service Data Extraction**: Extracting all the service details for each service URL available and generating the dataframe\n",
    "\n",
    "In each of the step we all need to ensure that we are handling any kind of errors and exceptions that might be hindering the required data extracton or, the web scraping process itself."
   ]
  },
  {
   "cell_type": "markdown",
   "metadata": {},
   "source": [
    "### Fetch Website Response\n",
    "\n",
    "Set up various constants and getting the website response by sending a get request to the root url."
   ]
  },
  {
   "cell_type": "code",
   "execution_count": 14,
   "metadata": {},
   "outputs": [
    {
     "name": "stdout",
     "output_type": "stream",
     "text": [
      "The root URL is: https://www.cleanaway.com.au/contact-us/our-locations/\n",
      "The request header is: {'User-Agent': 'Mozilla/5.0 (X11; Linux x86_64; rv:123.0) Gecko/20100101 Firefox/123.0', 'accept-language': 'en-US'}\n",
      "The timeout is set to: 100 milliseconds\n"
     ]
    }
   ],
   "source": [
    "# setting up constants\n",
    "ROOT_URL = (\n",
    "    data_scraper.root_url\n",
    ")  # \"https://www.cleanaway.com.au/contact-us/our-locations/\"\n",
    "USER_AGENT = data_scraper.user_agent\n",
    "HEADERS = {\"User-Agent\": USER_AGENT, \"accept-language\": \"en-US\"}\n",
    "TIMEOUT = data_scraper.timeout\n",
    "\n",
    "print(f\"The root URL is: {ROOT_URL}\")\n",
    "print(f\"The request header is: {HEADERS}\")\n",
    "print(f\"The timeout is set to: {TIMEOUT} milliseconds\")"
   ]
  },
  {
   "cell_type": "code",
   "execution_count": 15,
   "metadata": {},
   "outputs": [
    {
     "name": "stdout",
     "output_type": "stream",
     "text": [
      "[2024-07-14 05:41:20 PM]:httpx INFO:_client 1026 - HTTP Request: GET https://www.cleanaway.com.au/contact-us/our-locations/ \"HTTP/1.1 200 OK\"\n",
      "The status code returned by the website is: 200\n"
     ]
    }
   ],
   "source": [
    "# Get website response\n",
    "response = httpx.get(ROOT_URL, headers=HEADERS, timeout=TIMEOUT)\n",
    "print(f\"The status code returned by the website is: {response.status_code}\")"
   ]
  },
  {
   "cell_type": "markdown",
   "metadata": {},
   "source": [
    "### Content Parsing"
   ]
  },
  {
   "cell_type": "code",
   "execution_count": 16,
   "metadata": {},
   "outputs": [
    {
     "name": "stdout",
     "output_type": "stream",
     "text": [
      "The object returned is: <HTMLParser chars=323024>\n",
      "The type of the content is: <class 'selectolax.parser.HTMLParser'>\n"
     ]
    }
   ],
   "source": [
    "# View details of the return object\n",
    "parsed_html = HTMLParser(response.text)\n",
    "\n",
    "print(f\"The object returned is: {parsed_html}\")\n",
    "\n",
    "print(f\"The type of the content is: {type(parsed_html)}\")"
   ]
  },
  {
   "cell_type": "code",
   "execution_count": 17,
   "metadata": {},
   "outputs": [
    {
     "name": "stdout",
     "output_type": "stream",
     "text": [
      "Number of services listed on the first page: 9\n"
     ]
    }
   ],
   "source": [
    "service_links = parsed_html.css(\"div.white-box > a\")\n",
    "print(f\"Number of services listed on the first page: {len(service_links)}\")"
   ]
  },
  {
   "cell_type": "code",
   "execution_count": 19,
   "metadata": {},
   "outputs": [
    {
     "name": "stdout",
     "output_type": "stream",
     "text": [
      "https://www.cleanaway.com.au/location/bromelton-energy-and-resource-centre/\n",
      "https://www.cleanaway.com.au/location/albany/\n",
      "https://www.cleanaway.com.au/location/lavington/\n",
      "https://www.cleanaway.com.au/location/alexandra/\n",
      "https://www.cleanaway.com.au/location/alice-springs/\n",
      "https://www.cleanaway.com.au/location/albany-2/\n",
      "https://www.cleanaway.com.au/location/altona/\n",
      "https://www.cleanaway.com.au/location/armidale/\n",
      "https://www.cleanaway.com.au/location/cleanaway-artarmon-resource-recovery-centre/\n"
     ]
    }
   ],
   "source": [
    "# Fetch each service URLS\n",
    "for service in service_links:\n",
    "    service_url = service.attrs[\"href\"]\n",
    "    print(f\"{service_url}\")"
   ]
  },
  {
   "cell_type": "markdown",
   "metadata": {},
   "source": [
    "### Handling Pagination"
   ]
  },
  {
   "cell_type": "code",
   "execution_count": null,
   "metadata": {},
   "outputs": [],
   "source": [
    "next_page_url = parsed_html.css_first(\"li.location-pagination__next a\").attrs[\"href\"]\n",
    "next_page_url_link = urljoin(ROOT_URL, next_page_url)\n",
    "\n",
    "console.print(f\"The next page URL is: [bright_cyan bold]{next_page_url_link}[/]\")"
   ]
  },
  {
   "cell_type": "markdown",
   "metadata": {},
   "source": [
    "### Functionization"
   ]
  },
  {
   "cell_type": "code",
   "execution_count": null,
   "metadata": {},
   "outputs": [],
   "source": [
    "all_service_links = []"
   ]
  },
  {
   "cell_type": "code",
   "execution_count": null,
   "metadata": {},
   "outputs": [],
   "source": [
    "def get_urls(pg_url: str, pg_no: int):\n",
    "    page_service_links = []\n",
    "    response = httpx.get(pg_url, headers=HEADERS, timeout=TIMEOUT)\n",
    "\n",
    "    # Parse the HTML content\n",
    "    parsed_html = HTMLParser(response.text)\n",
    "\n",
    "    # Get the services available in the page\n",
    "    services = parsed_html.css(\"div.white-box\")\n",
    "    print(f\"Total services listed in the page-{pg_no}: {len(services)}\")\n",
    "\n",
    "    # Fetch each service URL\n",
    "    for service in services:\n",
    "        service_url = service.css_first(\"a\").attrs[\"href\"]\n",
    "        service_name = service.css_first(\"h2\").text(strip=True)\n",
    "        service_address = (\n",
    "            service.css_first(\"div.location-info__text\")\n",
    "            .text(strip=True)\n",
    "            .replace(\"Address:\", \"\")\n",
    "        )\n",
    "\n",
    "        data = {\n",
    "            \"page_number\": pg_no,\n",
    "            \"page_url\": pg_url,\n",
    "            \"service_url\": service_url,\n",
    "            \"service_name\": service_name,\n",
    "            \"service_address\": service_address,\n",
    "        }\n",
    "        page_service_links.append(data)\n",
    "\n",
    "    # Convert list of dictionaries into dataframe\n",
    "    df = pd.DataFrame(page_service_links)\n",
    "\n",
    "    # Return the parsed HTML content and dataframe\n",
    "    return df, parsed_html"
   ]
  },
  {
   "cell_type": "code",
   "execution_count": null,
   "metadata": {},
   "outputs": [],
   "source": [
    "def get_all_service_links(page_url: str, page_num: int = 1):\n",
    "    # Generate random sleep time\n",
    "    sleep_sec = random.randint(1, 5)\n",
    "\n",
    "    # Write the product info and get the page HTML in variable\n",
    "    df, content = get_urls(page_url, page_num)\n",
    "    all_service_links.append(df)\n",
    "    print(f\"Page-{page_num} services links extracted\")\n",
    "    time.sleep(sleep_sec)\n",
    "\n",
    "    # Increase the page number\n",
    "    page_num += 1\n",
    "\n",
    "    # recursively call to extract all product links\n",
    "    next_page_element = content.css_first(\"li.location-pagination__next a\")\n",
    "\n",
    "    if next_page_element is not None:\n",
    "        next_page_url = urljoin(ROOT_URL, next_page_element.attrs[\"href\"])\n",
    "        get_all_service_links(next_page_url, page_num)"
   ]
  },
  {
   "cell_type": "markdown",
   "metadata": {},
   "source": [
    "### Service URL Extraction"
   ]
  },
  {
   "cell_type": "code",
   "execution_count": null,
   "metadata": {},
   "outputs": [],
   "source": [
    "get_all_service_links(page_url=ROOT_URL)"
   ]
  },
  {
   "cell_type": "code",
   "execution_count": null,
   "metadata": {},
   "outputs": [],
   "source": [
    "len(all_service_links)"
   ]
  },
  {
   "cell_type": "code",
   "execution_count": null,
   "metadata": {},
   "outputs": [],
   "source": [
    "services_links_df = pd.concat(all_service_links, axis=0, ignore_index=True)\n",
    "services_links_df"
   ]
  },
  {
   "cell_type": "markdown",
   "metadata": {},
   "source": [
    "### Parse Single Service Details\n",
    "\n",
    "In this section, we'll pick a single service link and scrape the required details from the website."
   ]
  },
  {
   "cell_type": "code",
   "execution_count": 36,
   "metadata": {},
   "outputs": [
    {
     "data": {
      "text/html": [
       "<pre style=\"white-space:pre;overflow-x:auto;line-height:normal;font-family:Menlo,'DejaVu Sans Mono',consolas,'Courier New',monospace\">The service URL to scrape details is: <span style=\"color: #00ffff; text-decoration-color: #00ffff; font-weight: bold; text-decoration: underline\">https://www.cleanaway.com.au/location/albany/</span>\n",
       "</pre>\n"
      ],
      "text/plain": [
       "The service URL to scrape details is: \u001b[1;4;96mhttps://www.cleanaway.com.au/location/albany/\u001b[0m\n"
      ]
     },
     "metadata": {},
     "output_type": "display_data"
    }
   ],
   "source": [
    "service = service_links[1]\n",
    "\n",
    "service_url = service.attrs[\"href\"]\n",
    "console.print(\n",
    "    f\"The service URL to scrape details is: [bright_cyan bold]{service_url}[/]\"\n",
    ")"
   ]
  },
  {
   "cell_type": "code",
   "execution_count": 22,
   "metadata": {},
   "outputs": [
    {
     "name": "stdout",
     "output_type": "stream",
     "text": [
      "[2024-07-14 05:44:10 PM]:httpx INFO:_client 1026 - HTTP Request: GET https://www.cleanaway.com.au/location/albany/ \"HTTP/1.1 200 OK\"\n",
      "The status code returned by the website is: 200\n"
     ]
    }
   ],
   "source": [
    "# Fetch response from service url\n",
    "service_response = httpx.get(service_url, headers=HEADERS, timeout=TIMEOUT)\n",
    "print(f\"The status code returned by the website is: {service_response.status_code}\")"
   ]
  },
  {
   "cell_type": "code",
   "execution_count": 23,
   "metadata": {},
   "outputs": [
    {
     "name": "stdout",
     "output_type": "stream",
     "text": [
      "The object returned is: <HTMLParser chars=308182>\n"
     ]
    }
   ],
   "source": [
    "# View details of the return object\n",
    "svc_html = HTMLParser(service_response.text)\n",
    "print(f\"The object returned is: {svc_html}\")"
   ]
  },
  {
   "cell_type": "code",
   "execution_count": 25,
   "metadata": {},
   "outputs": [
    {
     "data": {
      "text/html": [
       "<pre style=\"white-space:pre;overflow-x:auto;line-height:normal;font-family:Menlo,'DejaVu Sans Mono',consolas,'Courier New',monospace\">The service name is: <span style=\"color: #008000; text-decoration-color: #008000; font-weight: bold\">Albany Material Recovery Facility</span>\n",
       "</pre>\n"
      ],
      "text/plain": [
       "The service name is: \u001b[1;32mAlbany Material Recovery Facility\u001b[0m\n"
      ]
     },
     "metadata": {},
     "output_type": "display_data"
    }
   ],
   "source": [
    "# Get service name\n",
    "service_name = svc_html.css_first(\"div.location-box h1\").text(strip=True)\n",
    "console.print(f\"The service name is: [bright_green bold]{service_name}[/]\")"
   ]
  },
  {
   "cell_type": "code",
   "execution_count": 35,
   "metadata": {},
   "outputs": [
    {
     "data": {
      "text/html": [
       "<pre style=\"white-space:pre;overflow-x:auto;line-height:normal;font-family:Menlo,'DejaVu Sans Mono',consolas,'Courier New',monospace\">The service address is: <span style=\"color: #00ff00; text-decoration-color: #00ff00; font-weight: bold\">2</span><span style=\"color: #00ff00; text-decoration-color: #00ff00; font-weight: bold\">-</span><span style=\"color: #00ff00; text-decoration-color: #00ff00; font-weight: bold\">16</span><span style=\"color: #00ff00; text-decoration-color: #00ff00; font-weight: bold\"> Cuming Road &amp; </span><span style=\"color: #00ff00; text-decoration-color: #00ff00; font-weight: bold\">37</span><span style=\"color: #00ff00; text-decoration-color: #00ff00; font-weight: bold\"> Maxwell Street, Albany, WA, </span><span style=\"color: #00ff00; text-decoration-color: #00ff00; font-weight: bold\">6330</span>\n",
       "</pre>\n"
      ],
      "text/plain": [
       "The service address is: \u001b[1;92m2\u001b[0m\u001b[1;92m-\u001b[0m\u001b[1;92m16\u001b[0m\u001b[1;92m Cuming Road & \u001b[0m\u001b[1;92m37\u001b[0m\u001b[1;92m Maxwell Street, Albany, WA, \u001b[0m\u001b[1;92m6330\u001b[0m\n"
      ]
     },
     "metadata": {},
     "output_type": "display_data"
    }
   ],
   "source": [
    "# Get service address\n",
    "address = svc_html.css_first(\"div.location-box div.info-block:first-of-type p a\").text(\n",
    "    strip=True\n",
    ")\n",
    "console.print(f\"The service address is: [bright_green bold]{address}[/]\")"
   ]
  },
  {
   "cell_type": "code",
   "execution_count": 37,
   "metadata": {},
   "outputs": [
    {
     "data": {
      "text/html": [
       "<pre style=\"white-space:pre;overflow-x:auto;line-height:normal;font-family:Menlo,'DejaVu Sans Mono',consolas,'Courier New',monospace\">The service address URL is: <span style=\"color: #00ffff; text-decoration-color: #00ffff; font-weight: bold; text-decoration: underline\">http://maps.google.com/maps/place/?q=-35.01078332713777,117.86331638131479</span>\n",
       "</pre>\n"
      ],
      "text/plain": [
       "The service address URL is: \u001b[1;4;96mhttp://maps.google.com/maps/place/?\u001b[0m\u001b[1;4;96mq\u001b[0m\u001b[1;4;96m=-35.01078332713777,117.86331638131479\u001b[0m\n"
      ]
     },
     "metadata": {},
     "output_type": "display_data"
    }
   ],
   "source": [
    "# Get service location coordinates\n",
    "address_url = svc_html.css_first(\n",
    "    \"div.location-box div.info-block:first-of-type p a\"\n",
    ").attrs[\"href\"]\n",
    "\n",
    "console.print(f\"The service address URL is: [bright_cyan bold]{address_url}[/]\")"
   ]
  },
  {
   "cell_type": "code",
   "execution_count": 39,
   "metadata": {},
   "outputs": [
    {
     "data": {
      "text/html": [
       "<pre style=\"white-space:pre;overflow-x:auto;line-height:normal;font-family:Menlo,'DejaVu Sans Mono',consolas,'Courier New',monospace\">The service coordinates is: <span style=\"color: #ff00ff; text-decoration-color: #ff00ff; font-weight: bold\">(</span><span style=\"color: #ff00ff; text-decoration-color: #ff00ff; font-weight: bold\">-35.01078332713777</span><span style=\"color: #ff00ff; text-decoration-color: #ff00ff; font-weight: bold\">, </span><span style=\"color: #ff00ff; text-decoration-color: #ff00ff; font-weight: bold\">117.86331638131479</span><span style=\"color: #ff00ff; text-decoration-color: #ff00ff; font-weight: bold\">)</span>\n",
       "</pre>\n"
      ],
      "text/plain": [
       "The service coordinates is: \u001b[1;95m(\u001b[0m\u001b[1;95m-35.01078332713777\u001b[0m\u001b[1;95m, \u001b[0m\u001b[1;95m117.86331638131479\u001b[0m\u001b[1;95m)\u001b[0m\n"
      ]
     },
     "metadata": {},
     "output_type": "display_data"
    }
   ],
   "source": [
    "lat_long_pattern = re.compile(r\".*\\?q=(.*)\\,(.*)\")\n",
    "lat_long_matches = lat_long_pattern.match(address_url)\n",
    "\n",
    "latitude = lat_long_matches.group(1)\n",
    "longitude = lat_long_matches.group(2)\n",
    "\n",
    "console.print(\n",
    "    f\"The service coordinates is: [bright_magenta bold]({latitude}, {longitude})[/]\"\n",
    ")"
   ]
  },
  {
   "cell_type": "code",
   "execution_count": 41,
   "metadata": {},
   "outputs": [
    {
     "data": {
      "text/html": [
       "<pre style=\"white-space:pre;overflow-x:auto;line-height:normal;font-family:Menlo,'DejaVu Sans Mono',consolas,'Courier New',monospace\">The services available are: <span style=\"color: #00ff00; text-decoration-color: #00ff00; font-weight: bold\">Solid waste services, Office</span>\n",
       "</pre>\n"
      ],
      "text/plain": [
       "The services available are: \u001b[1;92mSolid waste services, Office\u001b[0m\n"
      ]
     },
     "metadata": {},
     "output_type": "display_data"
    }
   ],
   "source": [
    "# Fetch services offered\n",
    "if (\n",
    "    \"services\"\n",
    "    in svc_html.css_first(\n",
    "        \"div.location-box div.info-block:last-of-type div.info-block__title\"\n",
    "    )\n",
    "    .text(strip=True)\n",
    "    .lower()\n",
    "):\n",
    "    services = svc_html.css_first(\n",
    "        \"div.location-box div.info-block:last-of-type div.info-block__desc p\"\n",
    "    ).text(strip=True)\n",
    "else:\n",
    "    services = \"Miscellaneous\"\n",
    "\n",
    "console.print(f\"The services available are: [bright_green bold]{services}[/]\")"
   ]
  },
  {
   "cell_type": "markdown",
   "metadata": {},
   "source": [
    "### Scrape Service Details from Service Links\n",
    "\n",
    "Using the scraped service links to extract detailed information."
   ]
  },
  {
   "cell_type": "code",
   "execution_count": 49,
   "metadata": {},
   "outputs": [],
   "source": [
    "def get_service_details(svc_url: str, svc_nm_crd: str, svc_adrs_crd: str):\n",
    "    response = httpx.get(svc_url, headers=HEADERS, timeout=TIMEOUT)\n",
    "\n",
    "    # Parse the HTML content\n",
    "    html = HTMLParser(response.text)\n",
    "\n",
    "    # CSS selectors\n",
    "    service_name_css = \"div.location-box h1\"\n",
    "    address_css = \"div.location-box div.info-block:first-of-type p a\"\n",
    "    last_info_block = \"div.location-box div.info-block:last-of-type\"\n",
    "    services_title_css = f\"{last_info_block} div.info-block__title\"\n",
    "    services_offered_css = f\"{last_info_block} div.info-block__desc p\"\n",
    "\n",
    "    # Function to fetch either text or, URL address\n",
    "    def fetch(selector, output=\"text\"):\n",
    "        if html.css_first(selector):\n",
    "            if output == \"text\":\n",
    "                output = html.css_first(selector).text(strip=True)\n",
    "            elif output == \"link\":\n",
    "                output = html.css_first(selector).attrs[\"href\"]\n",
    "        else:\n",
    "            output = None\n",
    "        return output\n",
    "\n",
    "    # Service and service address\n",
    "    service_name = (\n",
    "        svc_nm_crd if fetch(service_name_css) is None else fetch(service_name_css)\n",
    "    )\n",
    "    service_address = svc_adrs_crd if fetch(address_css) is None else fetch(address_css)\n",
    "\n",
    "    # Address URL\n",
    "    address_url = fetch(address_css, \"link\")\n",
    "\n",
    "    # RegEx pattern match for latitude and longitudes\n",
    "    if address_url:\n",
    "        lat_long_pattern = re.compile(r\".*\\?q=(.*?)\\,+(.*)\")\n",
    "        matches = lat_long_pattern.match(address_url)\n",
    "        lat, long = matches.group(1), matches.group(2)\n",
    "    else:\n",
    "        lat, long = None, None\n",
    "\n",
    "    # Services offered\n",
    "    if fetch(services_offered_css):\n",
    "        services_offered = (\n",
    "            fetch(services_offered_css)\n",
    "            if \"Services\" in fetch(services_title_css)\n",
    "            else \"Miscellaneous\"\n",
    "        )\n",
    "    else:\n",
    "        services_offered = \"Miscellaneous\"\n",
    "\n",
    "    # Get the product details in data class\n",
    "    service_details = dict(\n",
    "        service_name=service_name,\n",
    "        address=service_address,\n",
    "        latitude=lat,\n",
    "        longitude=long,\n",
    "        services_offered=services_offered,\n",
    "        details_url=svc_url,\n",
    "        scrape_ts=datetime.now().strftime(\"%Y-%m-%d %H:%M:%S\"),\n",
    "    )\n",
    "\n",
    "    # Write scraped info into CSV file\n",
    "    return service_details"
   ]
  },
  {
   "cell_type": "code",
   "execution_count": 51,
   "metadata": {},
   "outputs": [
    {
     "name": "stdout",
     "output_type": "stream",
     "text": [
      "Services scraping started\n",
      "No. of Service Details Scraped:  [2024-07-14 08:42:17 PM]:httpx INFO:_client 1026 - HTTP Request: GET https://www.cleanaway.com.au/location/bromelton-energy-and-resource-centre/ \"HTTP/1.1 200 OK\"\n",
      "1, [2024-07-14 08:42:19 PM]:httpx INFO:_client 1026 - HTTP Request: GET https://www.cleanaway.com.au/location/albany/ \"HTTP/1.1 200 OK\"\n",
      "2, [2024-07-14 08:42:22 PM]:httpx INFO:_client 1026 - HTTP Request: GET https://www.cleanaway.com.au/location/lavington/ \"HTTP/1.1 200 OK\"\n",
      "3, [2024-07-14 08:42:25 PM]:httpx INFO:_client 1026 - HTTP Request: GET https://www.cleanaway.com.au/location/alexandra/ \"HTTP/1.1 200 OK\"\n",
      "4, [2024-07-14 08:42:33 PM]:httpx INFO:_client 1026 - HTTP Request: GET https://www.cleanaway.com.au/location/alice-springs/ \"HTTP/1.1 200 OK\"\n",
      "5, [2024-07-14 08:42:40 PM]:httpx INFO:_client 1026 - HTTP Request: GET https://www.cleanaway.com.au/location/albany-2/ \"HTTP/1.1 200 OK\"\n",
      "6, [2024-07-14 08:42:46 PM]:httpx INFO:_client 1026 - HTTP Request: GET https://www.cleanaway.com.au/location/altona/ \"HTTP/1.1 200 OK\"\n",
      "7, [2024-07-14 08:42:56 PM]:httpx INFO:_client 1026 - HTTP Request: GET https://www.cleanaway.com.au/location/armidale/ \"HTTP/1.1 200 OK\"\n",
      "8, [2024-07-14 08:42:58 PM]:httpx INFO:_client 1026 - HTTP Request: GET https://www.cleanaway.com.au/location/cleanaway-artarmon-resource-recovery-centre/ \"HTTP/1.1 200 OK\"\n",
      "9, [2024-07-14 08:43:05 PM]:httpx INFO:_client 1026 - HTTP Request: GET https://www.cleanaway.com.au/location/ashmore/ \"HTTP/1.1 200 OK\"\n",
      "10, [2024-07-14 08:43:09 PM]:httpx INFO:_client 1026 - HTTP Request: GET https://www.cleanaway.com.au/location/cleanaway-auburn-resource-recovery-centre/ \"HTTP/1.1 200 OK\"\n",
      "11, [2024-07-14 08:43:17 PM]:httpx INFO:_client 1026 - HTTP Request: GET https://www.cleanaway.com.au/location/ayr/ \"HTTP/1.1 200 OK\"\n",
      "12, [2024-07-14 08:43:24 PM]:httpx INFO:_client 1026 - HTTP Request: GET https://www.cleanaway.com.au/location/bairnsdale/ \"HTTP/1.1 200 OK\"\n",
      "13, [2024-07-14 08:43:33 PM]:httpx INFO:_client 1026 - HTTP Request: GET https://www.cleanaway.com.au/location/batemans-bay/ \"HTTP/1.1 200 OK\"\n",
      "14, [2024-07-14 08:43:40 PM]:httpx INFO:_client 1026 - HTTP Request: GET https://www.cleanaway.com.au/location/bathurst-2/ \"HTTP/1.1 200 OK\"\n",
      "15, [2024-07-14 08:43:48 PM]:httpx INFO:_client 1026 - HTTP Request: GET https://www.cleanaway.com.au/location/bega/ \"HTTP/1.1 200 OK\"\n",
      "16, [2024-07-14 08:44:01 PM]:httpx INFO:_client 1026 - HTTP Request: GET https://www.cleanaway.com.au/location/cleanaway-belrose-resource-recovery-centre/ \"HTTP/1.1 200 OK\"\n",
      "17, [2024-07-14 08:44:07 PM]:httpx INFO:_client 1026 - HTTP Request: GET https://www.cleanaway.com.au/location/benalla/ \"HTTP/1.1 200 OK\"\n",
      "18, [2024-07-14 08:44:14 PM]:httpx INFO:_client 1026 - HTTP Request: GET https://www.cleanaway.com.au/location/beresfield/ \"HTTP/1.1 200 OK\"\n",
      "19, [2024-07-14 08:44:24 PM]:httpx INFO:_client 1026 - HTTP Request: GET https://www.cleanaway.com.au/location/beresfield-cds-depot/ \"HTTP/1.1 200 OK\"\n",
      "20, [2024-07-14 08:44:31 PM]:httpx INFO:_client 1026 - HTTP Request: GET https://www.cleanaway.com.au/location/beresfield-solid-waste/ \"HTTP/1.1 200 OK\"\n",
      "21, [2024-07-14 08:44:38 PM]:httpx INFO:_client 1026 - HTTP Request: GET https://www.cleanaway.com.au/location/bohle/ \"HTTP/1.1 200 OK\"\n",
      "22, [2024-07-14 08:44:46 PM]:httpx INFO:_client 1026 - HTTP Request: GET https://www.cleanaway.com.au/location/bohle-2/ \"HTTP/1.1 200 OK\"\n",
      "23, [2024-07-14 08:44:53 PM]:httpx INFO:_client 1026 - HTTP Request: GET https://www.cleanaway.com.au/location/bowen/ \"HTTP/1.1 200 OK\"\n",
      "24, [2024-07-14 08:44:56 PM]:httpx INFO:_client 1026 - HTTP Request: GET https://www.cleanaway.com.au/location/brooklyn/ \"HTTP/1.1 200 OK\"\n",
      "25, [2024-07-14 08:45:06 PM]:httpx INFO:_client 1026 - HTTP Request: GET https://www.cleanaway.com.au/location/broome/ \"HTTP/1.1 200 OK\"\n",
      "26, [2024-07-14 08:45:15 PM]:httpx INFO:_client 1026 - HTTP Request: GET https://www.cleanaway.com.au/location/buckley-grove-moolap/ \"HTTP/1.1 200 OK\"\n",
      "27, [2024-07-14 08:45:23 PM]:httpx INFO:_client 1026 - HTTP Request: GET https://www.cleanaway.com.au/location/bundaberg-2/ \"HTTP/1.1 200 OK\"\n",
      "28, [2024-07-14 08:45:30 PM]:httpx INFO:_client 1026 - HTTP Request: GET https://www.cleanaway.com.au/location/bundaberg/ \"HTTP/1.1 200 OK\"\n",
      "29, [2024-07-14 08:45:39 PM]:httpx INFO:_client 1026 - HTTP Request: GET https://www.cleanaway.com.au/location/burleigh-heads/ \"HTTP/1.1 200 OK\"\n",
      "30, [2024-07-14 08:45:46 PM]:httpx INFO:_client 1026 - HTTP Request: GET https://www.cleanaway.com.au/location/woree/ \"HTTP/1.1 200 OK\"\n",
      "31, [2024-07-14 08:45:53 PM]:httpx INFO:_client 1026 - HTTP Request: GET https://www.cleanaway.com.au/location/cairns-greenbank-rd/ \"HTTP/1.1 200 OK\"\n",
      "32, [2024-07-14 08:46:01 PM]:httpx INFO:_client 1026 - HTTP Request: GET https://www.cleanaway.com.au/location/campbellfield/ \"HTTP/1.1 200 OK\"\n",
      "33, [2024-07-14 08:46:11 PM]:httpx INFO:_client 1026 - HTTP Request: GET https://www.cleanaway.com.au/location/campbellfield-ers/ \"HTTP/1.1 200 OK\"\n",
      "34, [2024-07-14 08:46:17 PM]:httpx INFO:_client 1026 - HTTP Request: GET https://www.cleanaway.com.au/location/esperance-chadwick/ \"HTTP/1.1 200 OK\"\n",
      "35, [2024-07-14 08:46:26 PM]:httpx INFO:_client 1026 - HTTP Request: GET https://www.cleanaway.com.au/location/clarinda/ \"HTTP/1.1 200 OK\"\n",
      "36, [2024-07-14 08:46:29 PM]:httpx INFO:_client 1026 - HTTP Request: GET https://www.cleanaway.com.au/location/clayton-resource-recovery-centre/ \"HTTP/1.1 200 OK\"\n",
      "37, [2024-07-14 08:46:38 PM]:httpx INFO:_client 1026 - HTTP Request: GET https://www.cleanaway.com.au/location/coffs-harbour/ \"HTTP/1.1 200 OK\"\n",
      "38, [2024-07-14 08:46:46 PM]:httpx INFO:_client 1026 - HTTP Request: GET https://www.cleanaway.com.au/location/coolaroo/ \"HTTP/1.1 200 OK\"\n",
      "39, [2024-07-14 08:46:56 PM]:httpx INFO:_client 1026 - HTTP Request: GET https://www.cleanaway.com.au/location/craiglie/ \"HTTP/1.1 200 OK\"\n",
      "40, [2024-07-14 08:47:04 PM]:httpx INFO:_client 1026 - HTTP Request: GET https://www.cleanaway.com.au/location/crestmead/ \"HTTP/1.1 200 OK\"\n",
      "41, [2024-07-14 08:47:15 PM]:httpx INFO:_client 1026 - HTTP Request: GET https://www.cleanaway.com.au/location/dandenong-south-twt/ \"HTTP/1.1 200 OK\"\n",
      "42, [2024-07-14 08:47:23 PM]:httpx INFO:_client 1026 - HTTP Request: GET https://www.cleanaway.com.au/location/dandenong-south-nwo/ \"HTTP/1.1 200 OK\"\n",
      "43, [2024-07-14 08:47:34 PM]:httpx INFO:_client 1026 - HTTP Request: GET https://www.cleanaway.com.au/location/dandenong-semts/ \"HTTP/1.1 200 OK\"\n",
      "44, [2024-07-14 08:47:44 PM]:httpx INFO:_client 1026 - HTTP Request: GET https://www.cleanaway.com.au/location/dandenong-skin-hyde/ \"HTTP/1.1 200 OK\"\n",
      "45, [2024-07-14 08:47:51 PM]:httpx INFO:_client 1026 - HTTP Request: GET https://www.cleanaway.com.au/location/dandenong-south-solid-waste-depot/ \"HTTP/1.1 200 OK\"\n",
      "46, [2024-07-14 08:47:57 PM]:httpx INFO:_client 1026 - HTTP Request: GET https://www.cleanaway.com.au/location/dandenong-south/ \"HTTP/1.1 200 OK\"\n",
      "47, [2024-07-14 08:48:05 PM]:httpx INFO:_client 1026 - HTTP Request: GET https://www.cleanaway.com.au/location/bibra-lake/ \"HTTP/1.1 200 OK\"\n",
      "48, [2024-07-14 08:48:14 PM]:httpx INFO:_client 1026 - HTTP Request: GET https://www.cleanaway.com.au/location/cleanaway-daniels-dandenong/ \"HTTP/1.1 200 OK\"\n",
      "49, [2024-07-14 08:48:22 PM]:httpx INFO:_client 1026 - HTTP Request: GET https://www.cleanaway.com.au/location/cleanaway-daniels-laverton-north/ \"HTTP/1.1 200 OK\"\n",
      "50, [2024-07-14 08:48:27 PM]:httpx INFO:_client 1026 - HTTP Request: GET https://www.cleanaway.com.au/location/mitchell/ \"HTTP/1.1 200 OK\"\n",
      "51, [2024-07-14 08:48:36 PM]:httpx INFO:_client 1026 - HTTP Request: GET https://www.cleanaway.com.au/location/cleanaway-daniels-vore-street-silverwater/ \"HTTP/1.1 200 OK\"\n",
      "52, [2024-07-14 08:48:44 PM]:httpx INFO:_client 1026 - HTTP Request: GET https://www.cleanaway.com.au/location/cleanaway-daniels-wiblin-street-silverwater/ \"HTTP/1.1 200 OK\"\n",
      "53, [2024-07-14 08:48:52 PM]:httpx INFO:_client 1026 - HTTP Request: GET https://www.cleanaway.com.au/location/cleanaway-daniels-wingfield/ \"HTTP/1.1 200 OK\"\n",
      "54, [2024-07-14 08:49:03 PM]:httpx INFO:_client 1026 - HTTP Request: GET https://www.cleanaway.com.au/location/cleanaway-daniels-yatala/ \"HTTP/1.1 200 OK\"\n",
      "55, [2024-07-14 08:49:11 PM]:httpx INFO:_client 1026 - HTTP Request: GET https://www.cleanaway.com.au/location/dardanup/ \"HTTP/1.1 200 OK\"\n",
      "56, [2024-07-14 08:49:18 PM]:httpx INFO:_client 1026 - HTTP Request: GET https://www.cleanaway.com.au/location/darra/ \"HTTP/1.1 200 OK\"\n",
      "57, [2024-07-14 08:49:26 PM]:httpx INFO:_client 1026 - HTTP Request: GET https://www.cleanaway.com.au/location/dawesville/ \"HTTP/1.1 200 OK\"\n",
      "58, [2024-07-14 08:49:32 PM]:httpx INFO:_client 1026 - HTTP Request: GET https://www.cleanaway.com.au/location/delacombe/ \"HTTP/1.1 200 OK\"\n",
      "59, [2024-07-14 08:49:42 PM]:httpx INFO:_client 1026 - HTTP Request: GET https://www.cleanaway.com.au/location/derby/ \"HTTP/1.1 200 OK\"\n",
      "60, [2024-07-14 08:49:48 PM]:httpx INFO:_client 1026 - HTTP Request: GET https://www.cleanaway.com.au/location/derwent-park/ \"HTTP/1.1 200 OK\"\n",
      "61, [2024-07-14 08:49:58 PM]:httpx INFO:_client 1026 - HTTP Request: GET https://www.cleanaway.com.au/location/noosaville/ \"HTTP/1.1 200 OK\"\n",
      "62, [2024-07-14 08:50:07 PM]:httpx INFO:_client 1026 - HTTP Request: GET https://www.cleanaway.com.au/location/dubbo/ \"HTTP/1.1 200 OK\"\n",
      "63, [2024-07-14 08:50:18 PM]:httpx INFO:_client 1026 - HTTP Request: GET https://www.cleanaway.com.au/location/dundowran-depot/ \"HTTP/1.1 200 OK\"\n",
      "64, [2024-07-14 08:50:26 PM]:httpx INFO:_client 1026 - HTTP Request: GET https://www.cleanaway.com.au/location/bendigo/ \"HTTP/1.1 200 OK\"\n",
      "65, [2024-07-14 08:50:35 PM]:httpx INFO:_client 1026 - HTTP Request: GET https://www.cleanaway.com.au/location/eastern-creek/ \"HTTP/1.1 200 OK\"\n",
      "66, [2024-07-14 08:50:43 PM]:httpx INFO:_client 1026 - HTTP Request: GET https://www.cleanaway.com.au/location/emerald/ \"HTTP/1.1 200 OK\"\n",
      "67, [2024-07-14 08:50:52 PM]:httpx INFO:_client 1026 - HTTP Request: GET https://www.cleanaway.com.au/location/erskine-park-landfill/ \"HTTP/1.1 200 OK\"\n",
      "68, [2024-07-14 08:51:01 PM]:httpx INFO:_client 1026 - HTTP Request: GET https://www.cleanaway.com.au/location/erskine-park-solid-waste/ \"HTTP/1.1 200 OK\"\n",
      "69, [2024-07-14 08:51:10 PM]:httpx INFO:_client 1026 - HTTP Request: GET https://www.cleanaway.com.au/location/erskine-park-transfer-station/ \"HTTP/1.1 200 OK\"\n",
      "70, [2024-07-14 08:51:20 PM]:httpx INFO:_client 1026 - HTTP Request: GET https://www.cleanaway.com.au/location/webberton/ \"HTTP/1.1 200 OK\"\n",
      "71, [2024-07-14 08:51:30 PM]:httpx INFO:_client 1026 - HTTP Request: GET https://www.cleanaway.com.au/location/yarwun/ \"HTTP/1.1 200 OK\"\n",
      "72, [2024-07-14 08:51:39 PM]:httpx INFO:_client 1026 - HTTP Request: GET https://www.cleanaway.com.au/location/glendenning/ \"HTTP/1.1 200 OK\"\n",
      "73, [2024-07-14 08:51:48 PM]:httpx INFO:_client 1026 - HTTP Request: GET https://www.cleanaway.com.au/location/cox-place-glendenning/ \"HTTP/1.1 200 OK\"\n",
      "74, [2024-07-14 08:51:55 PM]:httpx INFO:_client 1026 - HTTP Request: GET https://www.cleanaway.com.au/location/glenorchy/ \"HTTP/1.1 200 OK\"\n",
      "75, [2024-07-14 08:52:04 PM]:httpx INFO:_client 1026 - HTTP Request: GET https://www.cleanaway.com.au/location/grafton/ \"HTTP/1.1 200 OK\"\n",
      "76, [2024-07-14 08:52:10 PM]:httpx INFO:_client 1026 - HTTP Request: GET https://www.cleanaway.com.au/location/greenacre/ \"HTTP/1.1 200 OK\"\n",
      "77, [2024-07-14 08:52:23 PM]:httpx INFO:_client 1026 - HTTP Request: GET https://www.cleanaway.com.au/location/griffith/ \"HTTP/1.1 200 OK\"\n",
      "78, [2024-07-14 08:52:36 PM]:httpx INFO:_client 1026 - HTTP Request: GET https://www.cleanaway.com.au/location/gympie/ \"HTTP/1.1 200 OK\"\n",
      "79, [2024-07-14 08:52:45 PM]:httpx INFO:_client 1026 - HTTP Request: GET https://www.cleanaway.com.au/location/hallam/ \"HTTP/1.1 200 OK\"\n",
      "80, [2024-07-14 08:52:53 PM]:httpx INFO:_client 1026 - HTTP Request: GET https://www.cleanaway.com.au/location/heatherbrae/ \"HTTP/1.1 200 OK\"\n",
      "81, [2024-07-14 08:53:03 PM]:httpx INFO:_client 1026 - HTTP Request: GET https://www.cleanaway.com.au/location/hemmant/ \"HTTP/1.1 200 OK\"\n",
      "82, [2024-07-14 08:53:14 PM]:httpx INFO:_client 1026 - HTTP Request: GET https://www.cleanaway.com.au/location/henderson/ \"HTTP/1.1 200 OK\"\n",
      "83, [2024-07-14 08:53:28 PM]:httpx INFO:_client 1026 - HTTP Request: GET https://www.cleanaway.com.au/location/dundowran/ \"HTTP/1.1 200 OK\"\n",
      "84, [2024-07-14 08:53:43 PM]:httpx INFO:_client 1026 - HTTP Request: GET https://www.cleanaway.com.au/location/urangan/ \"HTTP/1.1 200 OK\"\n",
      "85, [2024-07-14 08:53:51 PM]:httpx INFO:_client 1026 - HTTP Request: GET https://www.cleanaway.com.au/location/darwin-holtze/ \"HTTP/1.1 200 OK\"\n",
      "86, [2024-07-14 08:54:00 PM]:httpx INFO:_client 1026 - HTTP Request: GET https://www.cleanaway.com.au/location/hume/ \"HTTP/1.1 200 OK\"\n",
      "87, [2024-07-14 08:54:13 PM]:httpx INFO:_client 1026 - HTTP Request: GET https://www.cleanaway.com.au/location/inkerman/ \"HTTP/1.1 200 OK\"\n",
      "88, [2024-07-14 08:54:26 PM]:httpx INFO:_client 1026 - HTTP Request: GET https://www.cleanaway.com.au/location/innisfail/ \"HTTP/1.1 200 OK\"\n",
      "89, [2024-07-14 08:54:34 PM]:httpx INFO:_client 1026 - HTTP Request: GET https://www.cleanaway.com.au/location/invermay/ \"HTTP/1.1 200 OK\"\n",
      "90, [2024-07-14 08:54:43 PM]:httpx INFO:_client 1026 - HTTP Request: GET https://www.cleanaway.com.au/location/kalgoorlie-2/ \"HTTP/1.1 200 OK\"\n",
      "91, [2024-07-14 08:54:55 PM]:httpx INFO:_client 1026 - HTTP Request: GET https://www.cleanaway.com.au/location/kalgoorlie-boulder-csw/ \"HTTP/1.1 200 OK\"\n",
      "92, [2024-07-14 08:55:04 PM]:httpx INFO:_client 1026 - HTTP Request: GET https://www.cleanaway.com.au/location/karratha-industrial-services/ \"HTTP/1.1 200 OK\"\n",
      "93, [2024-07-14 08:55:15 PM]:httpx INFO:_client 1026 - HTTP Request: GET https://www.cleanaway.com.au/location/karratha/ \"HTTP/1.1 200 OK\"\n",
      "94, [2024-07-14 08:55:25 PM]:httpx INFO:_client 1026 - HTTP Request: GET https://www.cleanaway.com.au/location/katherine/ \"HTTP/1.1 200 OK\"\n",
      "95, [2024-07-14 08:55:33 PM]:httpx INFO:_client 1026 - HTTP Request: GET https://www.cleanaway.com.au/location/katoomba/ \"HTTP/1.1 200 OK\"\n",
      "96, [2024-07-14 08:55:34 PM]:httpx INFO:_client 1026 - HTTP Request: GET https://www.cleanaway.com.au/location/cleanaway-kemps-creek-resource-recovery-park/ \"HTTP/1.1 200 OK\"\n",
      "97, [2024-07-14 08:55:43 PM]:httpx INFO:_client 1026 - HTTP Request: GET https://www.cleanaway.com.au/location/kooragang-industrial/ \"HTTP/1.1 200 OK\"\n",
      "98, [2024-07-14 08:55:52 PM]:httpx INFO:_client 1026 - HTTP Request: GET https://www.cleanaway.com.au/location/kooragang-tts/ \"HTTP/1.1 200 OK\"\n",
      "99, [2024-07-14 08:56:01 PM]:httpx INFO:_client 1026 - HTTP Request: GET https://www.cleanaway.com.au/location/koorlong/ \"HTTP/1.1 200 OK\"\n",
      "100, [2024-07-14 08:56:11 PM]:httpx INFO:_client 1026 - HTTP Request: GET https://www.cleanaway.com.au/location/kronkup/ \"HTTP/1.1 200 OK\"\n",
      "101, [2024-07-14 08:56:19 PM]:httpx INFO:_client 1026 - HTTP Request: GET https://www.cleanaway.com.au/location/kununurra/ \"HTTP/1.1 200 OK\"\n",
      "102, [2024-07-14 08:56:26 PM]:httpx INFO:_client 1026 - HTTP Request: GET https://www.cleanaway.com.au/location/kwinana/ \"HTTP/1.1 200 OK\"\n",
      "103, [2024-07-14 08:56:38 PM]:httpx INFO:_client 1026 - HTTP Request: GET https://www.cleanaway.com.au/location/kwinana-tes/ \"HTTP/1.1 200 OK\"\n",
      "104, [2024-07-14 08:56:48 PM]:httpx INFO:_client 1026 - HTTP Request: GET https://www.cleanaway.com.au/location/laverton-mrf/ \"HTTP/1.1 200 OK\"\n",
      "105, [2024-07-14 08:56:57 PM]:httpx INFO:_client 1026 - HTTP Request: GET https://www.cleanaway.com.au/location/laverton-north/ \"HTTP/1.1 200 OK\"\n",
      "106, [2024-07-14 08:57:04 PM]:httpx INFO:_client 1026 - HTTP Request: GET https://www.cleanaway.com.au/location/leongatha/ \"HTTP/1.1 200 OK\"\n",
      "107, [2024-07-14 08:57:12 PM]:httpx INFO:_client 1026 - HTTP Request: GET https://www.cleanaway.com.au/location/lismore/ \"HTTP/1.1 200 OK\"\n",
      "108, [2024-07-14 08:57:19 PM]:httpx INFO:_client 1026 - HTTP Request: GET https://www.cleanaway.com.au/location/lonsdale-lot-79-liston-road/ \"HTTP/1.1 200 OK\"\n",
      "109, [2024-07-14 08:57:23 PM]:httpx INFO:_client 1026 - HTTP Request: GET https://www.cleanaway.com.au/location/lonsdale-sawaste/ \"HTTP/1.1 200 OK\"\n",
      "110, [2024-07-14 08:57:30 PM]:httpx INFO:_client 1026 - HTTP Request: GET https://www.cleanaway.com.au/location/cleanaway-lucas-heights-orrf/ \"HTTP/1.1 200 OK\"\n",
      "111, [2024-07-14 08:57:34 PM]:httpx INFO:_client 1026 - HTTP Request: GET https://www.cleanaway.com.au/location/cleanaway-lucas-heights-rrp/ \"HTTP/1.1 200 OK\"\n",
      "112, [2024-07-14 08:57:43 PM]:httpx INFO:_client 1026 - HTTP Request: GET https://www.cleanaway.com.au/location/lysterfield/ \"HTTP/1.1 200 OK\"\n",
      "113, [2024-07-14 08:57:52 PM]:httpx INFO:_client 1026 - HTTP Request: GET https://www.cleanaway.com.au/location/maddington-2/ \"HTTP/1.1 200 OK\"\n",
      "114, [2024-07-14 08:58:00 PM]:httpx INFO:_client 1026 - HTTP Request: GET https://www.cleanaway.com.au/location/maddington-kenwick/ \"HTTP/1.1 200 OK\"\n",
      "115, [2024-07-14 08:58:09 PM]:httpx INFO:_client 1026 - HTTP Request: GET https://www.cleanaway.com.au/location/maddington/ \"HTTP/1.1 200 OK\"\n",
      "116, [2024-07-14 08:58:18 PM]:httpx INFO:_client 1026 - HTTP Request: GET https://www.cleanaway.com.au/location/malaga/ \"HTTP/1.1 200 OK\"\n",
      "117, [2024-07-14 08:58:34 PM]:httpx INFO:_client 1026 - HTTP Request: GET https://www.cleanaway.com.au/location/mandurah-2/ \"HTTP/1.1 200 OK\"\n",
      "118, [2024-07-14 08:58:46 PM]:httpx INFO:_client 1026 - HTTP Request: GET https://www.cleanaway.com.au/location/mandurah/ \"HTTP/1.1 200 OK\"\n",
      "119, [2024-07-14 08:58:58 PM]:httpx INFO:_client 1026 - HTTP Request: GET https://www.cleanaway.com.au/location/manjimup-solid-waste/ \"HTTP/1.1 200 OK\"\n",
      "120, [2024-07-14 08:59:12 PM]:httpx INFO:_client 1026 - HTTP Request: GET https://www.cleanaway.com.au/location/mansfield/ \"HTTP/1.1 200 OK\"\n",
      "121, [2024-07-14 08:59:20 PM]:httpx INFO:_client 1026 - HTTP Request: GET https://www.cleanaway.com.au/location/margaret-river/ \"HTTP/1.1 200 OK\"\n",
      "122, [2024-07-14 08:59:31 PM]:httpx INFO:_client 1026 - HTTP Request: GET https://www.cleanaway.com.au/location/melbourne/ \"HTTP/1.1 200 OK\"\n",
      "123, [2024-07-14 08:59:41 PM]:httpx INFO:_client 1026 - HTTP Request: GET https://www.cleanaway.com.au/location/mildura/ \"HTTP/1.1 200 OK\"\n",
      "124, [2024-07-14 08:59:49 PM]:httpx INFO:_client 1026 - HTTP Request: GET https://www.cleanaway.com.au/location/milton/ \"HTTP/1.1 200 OK\"\n",
      "125, [2024-07-14 08:59:52 PM]:httpx INFO:_client 1026 - HTTP Request: GET https://www.cleanaway.com.au/location/monash/ \"HTTP/1.1 200 OK\"\n",
      "126, [2024-07-14 09:00:01 PM]:httpx INFO:_client 1026 - HTTP Request: GET https://www.cleanaway.com.au/location/moranbah/ \"HTTP/1.1 200 OK\"\n",
      "127, [2024-07-14 09:00:11 PM]:httpx INFO:_client 1026 - HTTP Request: GET https://www.cleanaway.com.au/location/morningside/ \"HTTP/1.1 200 OK\"\n",
      "128, [2024-07-14 09:00:19 PM]:httpx INFO:_client 1026 - HTTP Request: GET https://www.cleanaway.com.au/location/mornington-2/ \"HTTP/1.1 200 OK\"\n",
      "129, [2024-07-14 09:00:25 PM]:httpx INFO:_client 1026 - HTTP Request: GET https://www.cleanaway.com.au/location/morwell-industrial-waste-services/ \"HTTP/1.1 200 OK\"\n",
      "130, [2024-07-14 09:00:33 PM]:httpx INFO:_client 1026 - HTTP Request: GET https://www.cleanaway.com.au/location/morwell-municipal/ \"HTTP/1.1 200 OK\"\n",
      "131, [2024-07-14 09:00:36 PM]:httpx INFO:_client 1026 - HTTP Request: GET https://www.cleanaway.com.au/location/mount-gambier/ \"HTTP/1.1 200 OK\"\n",
      "132, [2024-07-14 09:00:45 PM]:httpx INFO:_client 1026 - HTTP Request: GET https://www.cleanaway.com.au/location/mt-isa/ \"HTTP/1.1 200 OK\"\n",
      "133, [2024-07-14 09:00:52 PM]:httpx INFO:_client 1026 - HTTP Request: GET https://www.cleanaway.com.au/location/mulgrave/ \"HTTP/1.1 200 OK\"\n",
      "134, [2024-07-14 09:01:01 PM]:httpx INFO:_client 1026 - HTTP Request: GET https://www.cleanaway.com.au/location/narangba-liquid-waste-services/ \"HTTP/1.1 200 OK\"\n",
      "135, [2024-07-14 09:01:07 PM]:httpx INFO:_client 1026 - HTTP Request: GET https://www.cleanaway.com.au/location/narangba-2/ \"HTTP/1.1 200 OK\"\n",
      "136, [2024-07-14 09:01:16 PM]:httpx INFO:_client 1026 - HTTP Request: GET https://www.cleanaway.com.au/location/narangba/ \"HTTP/1.1 200 OK\"\n",
      "137, [2024-07-14 09:01:23 PM]:httpx INFO:_client 1026 - HTTP Request: GET https://www.cleanaway.com.au/location/narangba-3/ \"HTTP/1.1 200 OK\"\n",
      "138, [2024-07-14 09:01:29 PM]:httpx INFO:_client 1026 - HTTP Request: GET https://www.cleanaway.com.au/location/narangba-transfer-station/ \"HTTP/1.1 200 OK\"\n",
      "139, [2024-07-14 09:01:38 PM]:httpx INFO:_client 1026 - HTTP Request: GET https://www.cleanaway.com.au/location/new-chum/ \"HTTP/1.1 200 OK\"\n",
      "140, [2024-07-14 09:01:45 PM]:httpx INFO:_client 1026 - HTTP Request: GET https://www.cleanaway.com.au/location/newman/ \"HTTP/1.1 200 OK\"\n",
      "141, [2024-07-14 09:01:54 PM]:httpx INFO:_client 1026 - HTTP Request: GET https://www.cleanaway.com.au/location/newstead/ \"HTTP/1.1 200 OK\"\n",
      "142, [2024-07-14 09:02:02 PM]:httpx INFO:_client 1026 - HTTP Request: GET https://www.cleanaway.com.au/location/nhulunbuy/ \"HTTP/1.1 200 OK\"\n",
      "143, [2024-07-14 09:02:11 PM]:httpx INFO:_client 1026 - HTTP Request: GET https://www.cleanaway.com.au/location/northgate/ \"HTTP/1.1 200 OK\"\n",
      "144, [2024-07-14 09:02:19 PM]:httpx INFO:_client 1026 - HTTP Request: GET https://www.cleanaway.com.au/location/nowra/ \"HTTP/1.1 200 OK\"\n",
      "145, [2024-07-14 09:02:27 PM]:httpx INFO:_client 1026 - HTTP Request: GET https://www.cleanaway.com.au/location/byng-st-orange/ \"HTTP/1.1 200 OK\"\n",
      "146, [2024-07-14 09:02:36 PM]:httpx INFO:_client 1026 - HTTP Request: GET https://www.cleanaway.com.au/location/orange/ \"HTTP/1.1 200 OK\"\n",
      "147, [2024-07-14 09:02:44 PM]:httpx INFO:_client 1026 - HTTP Request: GET https://www.cleanaway.com.au/location/oxley/ \"HTTP/1.1 200 OK\"\n",
      "148, [2024-07-14 09:02:52 PM]:httpx INFO:_client 1026 - HTTP Request: GET https://www.cleanaway.com.au/location/padstow/ \"HTTP/1.1 200 OK\"\n",
      "149, [2024-07-14 09:03:01 PM]:httpx INFO:_client 1026 - HTTP Request: GET https://www.cleanaway.com.au/location/pagetmackay/ \"HTTP/1.1 200 OK\"\n",
      "150, [2024-07-14 09:03:08 PM]:httpx INFO:_client 1026 - HTTP Request: GET https://www.cleanaway.com.au/location/cleanaway-paget-mackay-solid-waste-services/ \"HTTP/1.1 200 OK\"\n",
      "151, [2024-07-14 09:03:15 PM]:httpx INFO:_client 1026 - HTTP Request: GET https://www.cleanaway.com.au/location/parkes/ \"HTTP/1.1 200 OK\"\n",
      "152, [2024-07-14 09:03:22 PM]:httpx INFO:_client 1026 - HTTP Request: GET https://www.cleanaway.com.au/location/parkeston/ \"HTTP/1.1 200 OK\"\n",
      "153, [2024-07-14 09:03:30 PM]:httpx INFO:_client 1026 - HTTP Request: GET https://www.cleanaway.com.au/location/parkhurst/ \"HTTP/1.1 200 OK\"\n",
      "154, [2024-07-14 09:03:37 PM]:httpx INFO:_client 1026 - HTTP Request: GET https://www.cleanaway.com.au/location/peakhurst/ \"HTTP/1.1 200 OK\"\n",
      "155, [2024-07-14 09:03:45 PM]:httpx INFO:_client 1026 - HTTP Request: GET https://www.cleanaway.com.au/location/perth-material-recovery-facility/ \"HTTP/1.1 200 OK\"\n",
      "156, [2024-07-14 09:03:52 PM]:httpx INFO:_client 1026 - HTTP Request: GET https://www.cleanaway.com.au/location/pinjarra/ \"HTTP/1.1 200 OK\"\n",
      "157, [2024-07-14 09:03:58 PM]:httpx INFO:_client 1026 - HTTP Request: GET https://www.cleanaway.com.au/location/port-adelaide/ \"HTTP/1.1 200 OK\"\n",
      "158, [2024-07-14 09:04:08 PM]:httpx INFO:_client 1026 - HTTP Request: GET https://www.cleanaway.com.au/location/stirling-north/ \"HTTP/1.1 200 OK\"\n",
      "159, [2024-07-14 09:04:16 PM]:httpx INFO:_client 1026 - HTTP Request: GET https://www.cleanaway.com.au/location/wedgefield/ \"HTTP/1.1 200 OK\"\n",
      "160, [2024-07-14 09:04:26 PM]:httpx INFO:_client 1026 - HTTP Request: GET https://www.cleanaway.com.au/location/port-hedland/ \"HTTP/1.1 200 OK\"\n",
      "161, [2024-07-14 09:04:39 PM]:httpx INFO:_client 1026 - HTTP Request: GET https://www.cleanaway.com.au/location/port-kembla/ \"HTTP/1.1 200 OK\"\n",
      "162, [2024-07-14 09:04:48 PM]:httpx INFO:_client 1026 - HTTP Request: GET https://www.cleanaway.com.au/location/moolap/ \"HTTP/1.1 200 OK\"\n",
      "163, [2024-07-14 09:04:58 PM]:httpx INFO:_client 1026 - HTTP Request: GET https://www.cleanaway.com.au/location/portsmith/ \"HTTP/1.1 200 OK\"\n",
      "164, [2024-07-14 09:05:07 PM]:httpx INFO:_client 1026 - HTTP Request: GET https://www.cleanaway.com.au/location/queanbeyan/ \"HTTP/1.1 200 OK\"\n",
      "165, [2024-07-14 09:05:15 PM]:httpx INFO:_client 1026 - HTTP Request: GET https://www.cleanaway.com.au/location/ramsay-sa/ \"HTTP/1.1 200 OK\"\n",
      "166, [2024-07-14 09:05:21 PM]:httpx INFO:_client 1026 - HTTP Request: GET https://www.cleanaway.com.au/location/ravenhall/ \"HTTP/1.1 200 OK\"\n",
      "167, [2024-07-14 09:05:23 PM]:httpx INFO:_client 1026 - HTTP Request: GET https://www.cleanaway.com.au/location/cleanaway-rockdale-resource-recovery-centre/ \"HTTP/1.1 200 OK\"\n",
      "168, [2024-07-14 09:05:30 PM]:httpx INFO:_client 1026 - HTTP Request: GET https://www.cleanaway.com.au/location/rockhampton/ \"HTTP/1.1 200 OK\"\n",
      "169, [2024-07-14 09:05:37 PM]:httpx INFO:_client 1026 - HTTP Request: GET https://www.cleanaway.com.au/location/rokeby/ \"HTTP/1.1 200 OK\"\n",
      "170, [2024-07-14 09:05:46 PM]:httpx INFO:_client 1026 - HTTP Request: GET https://www.cleanaway.com.au/location/roma/ \"HTTP/1.1 200 OK\"\n",
      "171, [2024-07-14 09:05:56 PM]:httpx INFO:_client 1026 - HTTP Request: GET https://www.cleanaway.com.au/location/rutherford-2/ \"HTTP/1.1 200 OK\"\n",
      "172, [2024-07-14 09:06:05 PM]:httpx INFO:_client 1026 - HTTP Request: GET https://www.cleanaway.com.au/location/rutherford/ \"HTTP/1.1 200 OK\"\n",
      "173, [2024-07-14 09:06:07 PM]:httpx INFO:_client 1026 - HTTP Request: GET https://www.cleanaway.com.au/location/cleanaway-ryde-resource-recovery-centre/ \"HTTP/1.1 200 OK\"\n",
      "174, [2024-07-14 09:06:17 PM]:httpx INFO:_client 1026 - HTTP Request: GET https://www.cleanaway.com.au/location/seymour/ \"HTTP/1.1 200 OK\"\n",
      "175, [2024-07-14 09:06:25 PM]:httpx INFO:_client 1026 - HTTP Request: GET https://www.cleanaway.com.au/location/shepparton/ \"HTTP/1.1 200 OK\"\n",
      "176, [2024-07-14 09:06:34 PM]:httpx INFO:_client 1026 - HTTP Request: GET https://www.cleanaway.com.au/location/welland/ \"HTTP/1.1 200 OK\"\n",
      "177, [2024-07-14 09:06:44 PM]:httpx INFO:_client 1026 - HTTP Request: GET https://www.cleanaway.com.au/location/smythesdale/ \"HTTP/1.1 200 OK\"\n",
      "178, [2024-07-14 09:06:52 PM]:httpx INFO:_client 1026 - HTTP Request: GET https://www.cleanaway.com.au/location/somersby/ \"HTTP/1.1 200 OK\"\n",
      "179, [2024-07-14 09:07:01 PM]:httpx INFO:_client 1026 - HTTP Request: GET https://www.cleanaway.com.au/location/south-geelong/ \"HTTP/1.1 200 OK\"\n",
      "180, [2024-07-14 09:07:07 PM]:httpx INFO:_client 1026 - HTTP Request: GET https://www.cleanaway.com.au/location/kempsey/ \"HTTP/1.1 200 OK\"\n",
      "181, [2024-07-14 09:07:15 PM]:httpx INFO:_client 1026 - HTTP Request: GET https://www.cleanaway.com.au/location/south-windsor/ \"HTTP/1.1 200 OK\"\n",
      "182, [2024-07-14 09:07:23 PM]:httpx INFO:_client 1026 - HTTP Request: GET https://www.cleanaway.com.au/location/bunbury/ \"HTTP/1.1 200 OK\"\n",
      "183, [2024-07-14 09:07:30 PM]:httpx INFO:_client 1026 - HTTP Request: GET https://www.cleanaway.com.au/location/st-marys/ \"HTTP/1.1 200 OK\"\n",
      "184, [2024-07-14 09:07:44 PM]:httpx INFO:_client 1026 - HTTP Request: GET https://www.cleanaway.com.au/location/st-marys-liquid-waste-services/ \"HTTP/1.1 200 OK\"\n",
      "185, [2024-07-14 09:07:51 PM]:httpx INFO:_client 1026 - HTTP Request: GET https://www.cleanaway.com.au/location/stratford/ \"HTTP/1.1 200 OK\"\n",
      "186, [2024-07-14 09:08:00 PM]:httpx INFO:_client 1026 - HTTP Request: GET https://www.cleanaway.com.au/location/sunshine-west/ \"HTTP/1.1 200 OK\"\n",
      "187, [2024-07-14 09:08:07 PM]:httpx INFO:_client 1026 - HTTP Request: GET https://www.cleanaway.com.au/location/cleanaway-swan-hill/ \"HTTP/1.1 200 OK\"\n",
      "188, [2024-07-14 09:08:21 PM]:httpx INFO:_client 1026 - HTTP Request: GET https://www.cleanaway.com.au/location/sydney-olympic-park/ \"HTTP/1.1 200 OK\"\n",
      "189, [2024-07-14 09:08:29 PM]:httpx INFO:_client 1026 - HTTP Request: GET https://www.cleanaway.com.au/location/tamworth-2/ \"HTTP/1.1 200 OK\"\n",
      "190, [2024-07-14 09:08:37 PM]:httpx INFO:_client 1026 - HTTP Request: GET https://www.cleanaway.com.au/location/tamworth/ \"HTTP/1.1 200 OK\"\n",
      "191, [2024-07-14 09:08:44 PM]:httpx INFO:_client 1026 - HTTP Request: GET https://www.cleanaway.com.au/location/thomastown/ \"HTTP/1.1 200 OK\"\n",
      "192, [2024-07-14 09:08:51 PM]:httpx INFO:_client 1026 - HTTP Request: GET https://www.cleanaway.com.au/location/thurla/ \"HTTP/1.1 200 OK\"\n",
      "193, [2024-07-14 09:08:57 PM]:httpx INFO:_client 1026 - HTTP Request: GET https://www.cleanaway.com.au/location/thurla-solid-waste-services/ \"HTTP/1.1 200 OK\"\n",
      "194, [2024-07-14 09:09:07 PM]:httpx INFO:_client 1026 - HTTP Request: GET https://www.cleanaway.com.au/location/toowoomba/ \"HTTP/1.1 200 OK\"\n",
      "195, [2024-07-14 09:09:15 PM]:httpx INFO:_client 1026 - HTTP Request: GET https://www.cleanaway.com.au/location/townsville-nqrr/ \"HTTP/1.1 200 OK\"\n",
      "196, [2024-07-14 09:09:22 PM]:httpx INFO:_client 1026 - HTTP Request: GET https://www.cleanaway.com.au/location/tullamarine/ \"HTTP/1.1 200 OK\"\n",
      "197, [2024-07-14 09:09:29 PM]:httpx INFO:_client 1026 - HTTP Request: GET https://www.cleanaway.com.au/location/industrial-road-unanderra/ \"HTTP/1.1 200 OK\"\n",
      "198, [2024-07-14 09:09:38 PM]:httpx INFO:_client 1026 - HTTP Request: GET https://www.cleanaway.com.au/location/unanderra/ \"HTTP/1.1 200 OK\"\n",
      "199, [2024-07-14 09:09:46 PM]:httpx INFO:_client 1026 - HTTP Request: GET https://www.cleanaway.com.au/location/unanderra-3/ \"HTTP/1.1 200 OK\"\n",
      "200, [2024-07-14 09:09:55 PM]:httpx INFO:_client 1026 - HTTP Request: GET https://www.cleanaway.com.au/location/wagga-wagga/ \"HTTP/1.1 200 OK\"\n",
      "201, [2024-07-14 09:10:01 PM]:httpx INFO:_client 1026 - HTTP Request: GET https://www.cleanaway.com.au/location/warooka-sa/ \"HTTP/1.1 200 OK\"\n",
      "202, [2024-07-14 09:10:03 PM]:httpx INFO:_client 1026 - HTTP Request: GET https://www.cleanaway.com.au/location/warrnambool/ \"HTTP/1.1 200 OK\"\n",
      "203, [2024-07-14 09:10:12 PM]:httpx INFO:_client 1026 - HTTP Request: GET https://www.cleanaway.com.au/location/wetherill-park/ \"HTTP/1.1 200 OK\"\n",
      "204, [2024-07-14 09:10:19 PM]:httpx INFO:_client 1026 - HTTP Request: GET https://www.cleanaway.com.au/location/whyalla-one-steel-cleanaway/ \"HTTP/1.1 200 OK\"\n",
      "205, [2024-07-14 09:10:25 PM]:httpx INFO:_client 1026 - HTTP Request: GET https://www.cleanaway.com.au/location/whyalla/ \"HTTP/1.1 200 OK\"\n",
      "206, [2024-07-14 09:10:27 PM]:httpx INFO:_client 1026 - HTTP Request: GET https://www.cleanaway.com.au/location/willawong/ \"HTTP/1.1 200 OK\"\n",
      "207, [2024-07-14 09:10:38 PM]:httpx INFO:_client 1026 - HTTP Request: GET https://www.cleanaway.com.au/location/wingfield-2/ \"HTTP/1.1 200 OK\"\n",
      "208, [2024-07-14 09:10:45 PM]:httpx INFO:_client 1026 - HTTP Request: GET https://www.cleanaway.com.au/location/wingfield/ \"HTTP/1.1 200 OK\"\n",
      "209, [2024-07-14 09:10:53 PM]:httpx INFO:_client 1026 - HTTP Request: GET https://www.cleanaway.com.au/location/wodonga/ \"HTTP/1.1 200 OK\"\n",
      "210, [2024-07-14 09:11:01 PM]:httpx INFO:_client 1026 - HTTP Request: GET https://www.cleanaway.com.au/location/wyong/ \"HTTP/1.1 200 OK\"\n",
      "211, [2024-07-14 09:11:07 PM]:httpx INFO:_client 1026 - HTTP Request: GET https://www.cleanaway.com.au/location/yatala/ \"HTTP/1.1 200 OK\"\n",
      "212, [2024-07-14 09:11:15 PM]:httpx INFO:_client 1026 - HTTP Request: GET https://www.cleanaway.com.au/location/young-nsw/ \"HTTP/1.1 200 OK\"\n",
      "213, [2024-07-14 09:11:25 PM]:httpx INFO:_client 1026 - HTTP Request: GET https://www.cleanaway.com.au/location/melbourne-energy-and-resource-centre/ \"HTTP/1.1 200 OK\"\n",
      "214, \n",
      "Scraping Completed\n"
     ]
    }
   ],
   "source": [
    "all_service_details = []\n",
    "\n",
    "print(\"Services scraping started\")\n",
    "print(\"No. of Service Details Scraped: \", end=\" \")\n",
    "for idx, row in services_links_df.iterrows():\n",
    "    service_url = row[\"service_url\"]\n",
    "    service_name_card = row[\"service_name\"]\n",
    "    service_address_card = row[\"service_address\"]\n",
    "\n",
    "    # Generate random sleep time\n",
    "    sleep_sec = random.randint(1, 3)\n",
    "\n",
    "    # write services data to csv file\n",
    "    svc_details = get_service_details(\n",
    "        service_url, service_name_card, service_address_card\n",
    "    )\n",
    "    all_service_details.append(svc_details)\n",
    "    print(idx + 1, end=\", \")\n",
    "    time.sleep(sleep_sec)\n",
    "\n",
    "print(\"\\nScraping Completed\")"
   ]
  },
  {
   "cell_type": "code",
   "execution_count": 52,
   "metadata": {},
   "outputs": [
    {
     "data": {
      "text/html": [
       "<div>\n",
       "<style scoped>\n",
       "    .dataframe tbody tr th:only-of-type {\n",
       "        vertical-align: middle;\n",
       "    }\n",
       "\n",
       "    .dataframe tbody tr th {\n",
       "        vertical-align: top;\n",
       "    }\n",
       "\n",
       "    .dataframe thead th {\n",
       "        text-align: right;\n",
       "    }\n",
       "</style>\n",
       "<table border=\"1\" class=\"dataframe\">\n",
       "  <thead>\n",
       "    <tr style=\"text-align: right;\">\n",
       "      <th></th>\n",
       "      <th>service_name</th>\n",
       "      <th>address</th>\n",
       "      <th>latitude</th>\n",
       "      <th>longitude</th>\n",
       "      <th>services_offered</th>\n",
       "      <th>details_url</th>\n",
       "      <th>scrape_ts</th>\n",
       "    </tr>\n",
       "  </thead>\n",
       "  <tbody>\n",
       "    <tr>\n",
       "      <th>0</th>\n",
       "      <td>Bromelton Energy &amp; Resource Centre</td>\n",
       "      <td>Lot 1 Beaudesert-Boonah Road, Bromelton QLD</td>\n",
       "      <td>-27.975059190727386</td>\n",
       "      <td>152.92509487274305</td>\n",
       "      <td>Miscellaneous</td>\n",
       "      <td>https://www.cleanaway.com.au/location/bromelto...</td>\n",
       "      <td>2024-07-14 20:42:17</td>\n",
       "    </tr>\n",
       "    <tr>\n",
       "      <th>1</th>\n",
       "      <td>Albany Material Recovery Facility</td>\n",
       "      <td>2-16 Cuming Road &amp; 37 Maxwell Street, Albany, ...</td>\n",
       "      <td>-35.01078332713777</td>\n",
       "      <td>117.86331638131479</td>\n",
       "      <td>Solid waste services, Office</td>\n",
       "      <td>https://www.cleanaway.com.au/location/albany/</td>\n",
       "      <td>2024-07-14 20:42:19</td>\n",
       "    </tr>\n",
       "    <tr>\n",
       "      <th>2</th>\n",
       "      <td>Albury-Wodonga Solid Waste Services</td>\n",
       "      <td>26 Reiff St, Lavington, NSW, 2641</td>\n",
       "      <td>-36.037913</td>\n",
       "      <td>146.964581</td>\n",
       "      <td>Solid waste services</td>\n",
       "      <td>https://www.cleanaway.com.au/location/lavington/</td>\n",
       "      <td>2024-07-14 20:42:22</td>\n",
       "    </tr>\n",
       "    <tr>\n",
       "      <th>3</th>\n",
       "      <td>Alexandra Solid Waste Services</td>\n",
       "      <td>4-8 Station Street, Alexandra, VIC, 3714</td>\n",
       "      <td>-37.183192</td>\n",
       "      <td>145.712031</td>\n",
       "      <td>Solid waste services</td>\n",
       "      <td>https://www.cleanaway.com.au/location/alexandra/</td>\n",
       "      <td>2024-07-14 20:42:25</td>\n",
       "    </tr>\n",
       "    <tr>\n",
       "      <th>4</th>\n",
       "      <td>Cleanaway Alice Springs Solid Waste Depot</td>\n",
       "      <td>6 Wilkinson Street, Ciccone, NT, 0870</td>\n",
       "      <td>-23.700021</td>\n",
       "      <td>133.871345</td>\n",
       "      <td>Solid waste services</td>\n",
       "      <td>https://www.cleanaway.com.au/location/alice-sp...</td>\n",
       "      <td>2024-07-14 20:42:33</td>\n",
       "    </tr>\n",
       "    <tr>\n",
       "      <th>...</th>\n",
       "      <td>...</td>\n",
       "      <td>...</td>\n",
       "      <td>...</td>\n",
       "      <td>...</td>\n",
       "      <td>...</td>\n",
       "      <td>...</td>\n",
       "      <td>...</td>\n",
       "    </tr>\n",
       "    <tr>\n",
       "      <th>209</th>\n",
       "      <td>Cleanaway Wodonga Industrial Waste Services</td>\n",
       "      <td>2/9 Romet Road, Wodonga, VIC, 3690</td>\n",
       "      <td>-36.11166500739213</td>\n",
       "      <td>146.85815657030102</td>\n",
       "      <td>Industrial waste services</td>\n",
       "      <td>https://www.cleanaway.com.au/location/wodonga/</td>\n",
       "      <td>2024-07-14 21:10:53</td>\n",
       "    </tr>\n",
       "    <tr>\n",
       "      <th>210</th>\n",
       "      <td>Cleanaway Wyong Solid Waste Depot</td>\n",
       "      <td>1 Amsterdam Circuit, Wyong, NSW, 2259</td>\n",
       "      <td>-33.264526357566275</td>\n",
       "      <td>151.45145710619676</td>\n",
       "      <td>Solid waste services, Office</td>\n",
       "      <td>https://www.cleanaway.com.au/location/wyong/</td>\n",
       "      <td>2024-07-14 21:11:01</td>\n",
       "    </tr>\n",
       "    <tr>\n",
       "      <th>211</th>\n",
       "      <td>Cleanaway Yatala Liquid Waste Services</td>\n",
       "      <td>29 Binary St, Yatala, QLD, 4207</td>\n",
       "      <td>-27.757649419169535</td>\n",
       "      <td>153.23397267269092</td>\n",
       "      <td>Liquid waste services</td>\n",
       "      <td>https://www.cleanaway.com.au/location/yatala/</td>\n",
       "      <td>2024-07-14 21:11:08</td>\n",
       "    </tr>\n",
       "    <tr>\n",
       "      <th>212</th>\n",
       "      <td>Cleanaway Young Solid Waste Services</td>\n",
       "      <td>20 Chillingworks Rd, Young, NSW, 2594</td>\n",
       "      <td>-34.30134824214955</td>\n",
       "      <td>148.2713198766994</td>\n",
       "      <td>Solid waste services</td>\n",
       "      <td>https://www.cleanaway.com.au/location/young-nsw/</td>\n",
       "      <td>2024-07-14 21:11:15</td>\n",
       "    </tr>\n",
       "    <tr>\n",
       "      <th>213</th>\n",
       "      <td>Melbourne Energy &amp; Resource Centre</td>\n",
       "      <td>510 Summerhill Road, Wollert VIC 3750</td>\n",
       "      <td>-37.57592265294685</td>\n",
       "      <td>144.97817345499203</td>\n",
       "      <td>Miscellaneous</td>\n",
       "      <td>https://www.cleanaway.com.au/location/melbourn...</td>\n",
       "      <td>2024-07-14 21:11:25</td>\n",
       "    </tr>\n",
       "  </tbody>\n",
       "</table>\n",
       "<p>214 rows × 7 columns</p>\n",
       "</div>"
      ],
      "text/plain": [
       "                                    service_name  \\\n",
       "0             Bromelton Energy & Resource Centre   \n",
       "1              Albany Material Recovery Facility   \n",
       "2            Albury-Wodonga Solid Waste Services   \n",
       "3                 Alexandra Solid Waste Services   \n",
       "4      Cleanaway Alice Springs Solid Waste Depot   \n",
       "..                                           ...   \n",
       "209  Cleanaway Wodonga Industrial Waste Services   \n",
       "210            Cleanaway Wyong Solid Waste Depot   \n",
       "211       Cleanaway Yatala Liquid Waste Services   \n",
       "212         Cleanaway Young Solid Waste Services   \n",
       "213           Melbourne Energy & Resource Centre   \n",
       "\n",
       "                                               address             latitude  \\\n",
       "0          Lot 1 Beaudesert-Boonah Road, Bromelton QLD  -27.975059190727386   \n",
       "1    2-16 Cuming Road & 37 Maxwell Street, Albany, ...   -35.01078332713777   \n",
       "2                    26 Reiff St, Lavington, NSW, 2641           -36.037913   \n",
       "3             4-8 Station Street, Alexandra, VIC, 3714           -37.183192   \n",
       "4                6 Wilkinson Street, Ciccone, NT, 0870           -23.700021   \n",
       "..                                                 ...                  ...   \n",
       "209                 2/9 Romet Road, Wodonga, VIC, 3690   -36.11166500739213   \n",
       "210              1 Amsterdam Circuit, Wyong, NSW, 2259  -33.264526357566275   \n",
       "211                    29 Binary St, Yatala, QLD, 4207  -27.757649419169535   \n",
       "212              20 Chillingworks Rd, Young, NSW, 2594   -34.30134824214955   \n",
       "213              510 Summerhill Road, Wollert VIC 3750   -37.57592265294685   \n",
       "\n",
       "              longitude              services_offered  \\\n",
       "0    152.92509487274305                 Miscellaneous   \n",
       "1    117.86331638131479  Solid waste services, Office   \n",
       "2            146.964581          Solid waste services   \n",
       "3            145.712031          Solid waste services   \n",
       "4            133.871345          Solid waste services   \n",
       "..                  ...                           ...   \n",
       "209  146.85815657030102     Industrial waste services   \n",
       "210  151.45145710619676  Solid waste services, Office   \n",
       "211  153.23397267269092         Liquid waste services   \n",
       "212   148.2713198766994          Solid waste services   \n",
       "213  144.97817345499203                 Miscellaneous   \n",
       "\n",
       "                                           details_url            scrape_ts  \n",
       "0    https://www.cleanaway.com.au/location/bromelto...  2024-07-14 20:42:17  \n",
       "1        https://www.cleanaway.com.au/location/albany/  2024-07-14 20:42:19  \n",
       "2     https://www.cleanaway.com.au/location/lavington/  2024-07-14 20:42:22  \n",
       "3     https://www.cleanaway.com.au/location/alexandra/  2024-07-14 20:42:25  \n",
       "4    https://www.cleanaway.com.au/location/alice-sp...  2024-07-14 20:42:33  \n",
       "..                                                 ...                  ...  \n",
       "209     https://www.cleanaway.com.au/location/wodonga/  2024-07-14 21:10:53  \n",
       "210       https://www.cleanaway.com.au/location/wyong/  2024-07-14 21:11:01  \n",
       "211      https://www.cleanaway.com.au/location/yatala/  2024-07-14 21:11:08  \n",
       "212   https://www.cleanaway.com.au/location/young-nsw/  2024-07-14 21:11:15  \n",
       "213  https://www.cleanaway.com.au/location/melbourn...  2024-07-14 21:11:25  \n",
       "\n",
       "[214 rows x 7 columns]"
      ]
     },
     "execution_count": 52,
     "metadata": {},
     "output_type": "execute_result"
    }
   ],
   "source": [
    "services_df = pd.DataFrame(all_service_details)\n",
    "services_df"
   ]
  },
  {
   "cell_type": "code",
   "execution_count": 53,
   "metadata": {},
   "outputs": [],
   "source": [
    "### Exporting the dataframe\n",
    "services_df.to_csv(\"services_scraped_temp.csv\", index=False)"
   ]
  },
  {
   "cell_type": "markdown",
   "metadata": {},
   "source": [
    "## Data Profiling\n",
    "\n",
    "- Dataframe details\n",
    "- Field details\n",
    "- Duplicated entry check\n",
    "- Unique values check"
   ]
  },
  {
   "cell_type": "markdown",
   "metadata": {},
   "source": [
    "### Data Structure Analysis\n",
    "\n",
    "This section is devoted to an initial exploration of the structure of our dataframe. \n",
    "Our focus will be on various aspects of the dataframe, such as the number of columns, \n",
    "presence of null values, shape, and attributes of the individual fields within the dataframe. \n",
    "The goal of this analysis is to identify any potential challenges or issues that may arise \n",
    "during further analysis.\n",
    "\n",
    "We can break down our exploration into two parts:\n",
    "\n",
    "- **Dataframe Overview**: To gain an understanding of overall dataframe attributes\n",
    "- **Field Attributes**: To examine the attributes of individual fields within the \n",
    "  dataframe\n",
    "\n",
    "With this framework in mind, let's proceed with a closer look at the structure of our dataframe."
   ]
  },
  {
   "cell_type": "code",
   "execution_count": 77,
   "metadata": {},
   "outputs": [],
   "source": [
    "from src.utils.analysis_utils import dataframe_structure, datatype_details\n",
    "from src.utils.basic_utils import dict_to_table"
   ]
  },
  {
   "cell_type": "markdown",
   "metadata": {},
   "source": [
    "#### Dataframe Details\n",
    "\n",
    "This section is a crucial one and it provides a high-level overview of the dataframe being analyzed. This section includes important information about the size and structure of the data, as well as any missing or null values in the data. The details of the dataframe that we'll get are as follows:\n",
    "\n",
    "- **Dimensions**: The number of rows and columns in the dataframe.\n",
    "- **Shape**: The shape of the dataframe, represented as a tuple (rows, columns).\n",
    "- **Row Count**: The number of rows in the dataframe.\n",
    "- **Column Count**: The number of columns in the dataframe.\n",
    "- **Total Datapoints**: The total number of data points in the dataframe, calculated as the number of rows multiplied by the number of columns.\n",
    "- **Null Datapoints**: The number of missing or null values in the dataframe.\n",
    "- **Non-Null Datapoints**: The number of non-missing or non-null values in the dataframe.\n",
    "- **Total Memory Usage**: The total memory usage of the dataframe, represented in bytes.\n",
    "- **Average Memory Usage**: The average memory usage of each data point in the dataframe, represented in bytes.\n",
    "\n",
    "This section provides a quick reference for the dataframe, and helps to identify any potential issues with the data that may need to be addressed in the cleaning process. By having a clear and concise overview of the dataframe, it's easier to move forward with the data cleaning and analysis process."
   ]
  },
  {
   "cell_type": "code",
   "execution_count": 78,
   "metadata": {},
   "outputs": [
    {
     "data": {
      "text/html": [
       "<pre style=\"white-space:pre;overflow-x:auto;line-height:normal;font-family:Menlo,'DejaVu Sans Mono',consolas,'Courier New',monospace\"><span style=\"font-style: italic\">        Dataframe Structure        </span>\n",
       "┏━━━━━━━━━━━━━━━━━━━━━━┳━━━━━━━━━━┓\n",
       "┃<span style=\"font-weight: bold\"> Dataframe Attributes </span>┃<span style=\"font-weight: bold\">    Value </span>┃\n",
       "┡━━━━━━━━━━━━━━━━━━━━━━╇━━━━━━━━━━┩\n",
       "│<span style=\"color: #00ffff; text-decoration-color: #00ffff\"> Dimensions           </span>│<span style=\"color: #ff00ff; text-decoration-color: #ff00ff\">        2 </span>│\n",
       "│<span style=\"color: #00ffff; text-decoration-color: #00ffff\"> Shape                </span>│<span style=\"color: #ff00ff; text-decoration-color: #ff00ff\"> (232, 7) </span>│\n",
       "│<span style=\"color: #00ffff; text-decoration-color: #00ffff\"> Row Count            </span>│<span style=\"color: #ff00ff; text-decoration-color: #ff00ff\">      232 </span>│\n",
       "│<span style=\"color: #00ffff; text-decoration-color: #00ffff\"> Column Count         </span>│<span style=\"color: #ff00ff; text-decoration-color: #ff00ff\">        7 </span>│\n",
       "│<span style=\"color: #00ffff; text-decoration-color: #00ffff\"> Total Datapoints     </span>│<span style=\"color: #ff00ff; text-decoration-color: #ff00ff\">     1624 </span>│\n",
       "│<span style=\"color: #00ffff; text-decoration-color: #00ffff\"> Null Datapoints      </span>│<span style=\"color: #ff00ff; text-decoration-color: #ff00ff\">        2 </span>│\n",
       "│<span style=\"color: #00ffff; text-decoration-color: #00ffff\"> Non-Null Datapoints  </span>│<span style=\"color: #ff00ff; text-decoration-color: #ff00ff\">     1622 </span>│\n",
       "│<span style=\"color: #00ffff; text-decoration-color: #00ffff\"> Total Memory Usage   </span>│<span style=\"color: #ff00ff; text-decoration-color: #ff00ff\">   141797 </span>│\n",
       "│<span style=\"color: #00ffff; text-decoration-color: #00ffff\"> Average Memory Usage </span>│<span style=\"color: #ff00ff; text-decoration-color: #ff00ff\">  17725.0 </span>│\n",
       "└──────────────────────┴──────────┘\n",
       "</pre>\n"
      ],
      "text/plain": [
       "\u001b[3m        Dataframe Structure        \u001b[0m\n",
       "┏━━━━━━━━━━━━━━━━━━━━━━┳━━━━━━━━━━┓\n",
       "┃\u001b[1m \u001b[0m\u001b[1mDataframe Attributes\u001b[0m\u001b[1m \u001b[0m┃\u001b[1m \u001b[0m\u001b[1m   Value\u001b[0m\u001b[1m \u001b[0m┃\n",
       "┡━━━━━━━━━━━━━━━━━━━━━━╇━━━━━━━━━━┩\n",
       "│\u001b[96m \u001b[0m\u001b[96mDimensions          \u001b[0m\u001b[96m \u001b[0m│\u001b[95m \u001b[0m\u001b[95m       2\u001b[0m\u001b[95m \u001b[0m│\n",
       "│\u001b[96m \u001b[0m\u001b[96mShape               \u001b[0m\u001b[96m \u001b[0m│\u001b[95m \u001b[0m\u001b[95m(232, 7)\u001b[0m\u001b[95m \u001b[0m│\n",
       "│\u001b[96m \u001b[0m\u001b[96mRow Count           \u001b[0m\u001b[96m \u001b[0m│\u001b[95m \u001b[0m\u001b[95m     232\u001b[0m\u001b[95m \u001b[0m│\n",
       "│\u001b[96m \u001b[0m\u001b[96mColumn Count        \u001b[0m\u001b[96m \u001b[0m│\u001b[95m \u001b[0m\u001b[95m       7\u001b[0m\u001b[95m \u001b[0m│\n",
       "│\u001b[96m \u001b[0m\u001b[96mTotal Datapoints    \u001b[0m\u001b[96m \u001b[0m│\u001b[95m \u001b[0m\u001b[95m    1624\u001b[0m\u001b[95m \u001b[0m│\n",
       "│\u001b[96m \u001b[0m\u001b[96mNull Datapoints     \u001b[0m\u001b[96m \u001b[0m│\u001b[95m \u001b[0m\u001b[95m       2\u001b[0m\u001b[95m \u001b[0m│\n",
       "│\u001b[96m \u001b[0m\u001b[96mNon-Null Datapoints \u001b[0m\u001b[96m \u001b[0m│\u001b[95m \u001b[0m\u001b[95m    1622\u001b[0m\u001b[95m \u001b[0m│\n",
       "│\u001b[96m \u001b[0m\u001b[96mTotal Memory Usage  \u001b[0m\u001b[96m \u001b[0m│\u001b[95m \u001b[0m\u001b[95m  141797\u001b[0m\u001b[95m \u001b[0m│\n",
       "│\u001b[96m \u001b[0m\u001b[96mAverage Memory Usage\u001b[0m\u001b[96m \u001b[0m│\u001b[95m \u001b[0m\u001b[95m 17725.0\u001b[0m\u001b[95m \u001b[0m│\n",
       "└──────────────────────┴──────────┘\n"
      ]
     },
     "metadata": {},
     "output_type": "display_data"
    }
   ],
   "source": [
    "# Get the dataframe structure details\n",
    "df_structure = dataframe_structure(services_df)\n",
    "print(dict_to_table(df_structure, \"Dataframe Structure\"))"
   ]
  },
  {
   "cell_type": "markdown",
   "metadata": {},
   "source": [
    "#### Field Details\n",
    "\n",
    "This section provides a detailed view of the columns in the dataframe, and includes important information that can help with the data cleaning and analysis process. This section is typically used to get an understanding of the data types and distributions of the columns, and to identify any missing or null values that may need to be addressed.\n",
    "\n",
    "We can use the `info()` method in `pandas` to quickly get an understanding of the structure and distribution of the data, and identify any issues that may need to be addressed in the cleaning process.\n",
    "\n",
    "Additionally, we'll use the function `datatype_details()` to get a datatype details of the dataframe.\n",
    "\n",
    "Some of the key information that we'll get from this section are as follows:\n",
    "\n",
    "- **Column Names**: A list of the names of all the columns in the dataframe, which can help you to identify any columns that may need to be renamed for clarity or consistency.\n",
    "- **Data types**: The datatype of each column in the dataframe, such as integer, float, string, etc. The datatype information is important because it determines how the data can be analyzed and manipulated.\n",
    "- **Non-Null Count**: The number of non-null or non-missing values for each column in the dataframe. This information can help you to determine if there are any columns that have a high percentage of missing values, which may need to be handled differently in the cleaning process.\n",
    "- **Null Count**: The number of null or missing values for each column in the dataframe. This information can help you to determine if there are any columns that have a high number of missing values, which may need to be handled differently in the cleaning process.\n",
    "- **Memory Usage**: The memory usage of each column in the dataframe, represented in bytes. This information can be useful in determining if there are any columns that are using a large amount of memory, which may need to be optimized for performance."
   ]
  },
  {
   "cell_type": "code",
   "execution_count": 81,
   "metadata": {},
   "outputs": [
    {
     "name": "stdout",
     "output_type": "stream",
     "text": [
      "<class 'pandas.core.frame.DataFrame'>\n",
      "RangeIndex: 232 entries, 0 to 231\n",
      "Data columns (total 7 columns):\n",
      " #   Column            Non-Null Count  Dtype \n",
      "---  ------            --------------  ----- \n",
      " 0   service_name      232 non-null    object\n",
      " 1   address           232 non-null    object\n",
      " 2   latitude          231 non-null    object\n",
      " 3   longitude         231 non-null    object\n",
      " 4   services_offered  232 non-null    object\n",
      " 5   details_url       232 non-null    object\n",
      " 6   scrape_ts         232 non-null    object\n",
      "dtypes: object(7)\n",
      "memory usage: 138.5 KB\n"
     ]
    }
   ],
   "source": [
    "# Get field details\n",
    "services_df.info(memory_usage=\"deep\")"
   ]
  },
  {
   "cell_type": "code",
   "execution_count": 82,
   "metadata": {},
   "outputs": [
    {
     "data": {
      "text/plain": [
       "'There are 7 fields with object datatype'"
      ]
     },
     "execution_count": 82,
     "metadata": {},
     "output_type": "execute_result"
    }
   ],
   "source": [
    "# Get details of the datatypes\n",
    "datatype_details(services_df)"
   ]
  },
  {
   "cell_type": "markdown",
   "metadata": {},
   "source": [
    "### Data Quality Analysis\n",
    "\n",
    "The purpose of this section is to evaluate the overall quality of the data by checking for any missing or null values, duplicate entries, and any other potential issues that may impact the accuracy or reliability of our analysis. \n",
    "\n",
    "This step is crucial in ensuring that the data we are working with is valid and can be used to draw meaningful conclusions. We will also be identifying and addressing any issues that are found, in order to improve the overall quality of the data.\n",
    "\n",
    "From our data structure analysis step, we made our data relatively clean and now, we need to perform the following two checks on the dataset:\n",
    "\n",
    "- **Removal of Unnecessary Columns**: To eliminate irrelevant columns from the dataset.\n",
    "- **Duplicated Entry Checks**: To identify and remove duplicate rows in the dataset.\n",
    "- **Unique Value Checks**: To verify the uniqueness of values in specific columns of the dataset."
   ]
  },
  {
   "cell_type": "code",
   "execution_count": 83,
   "metadata": {},
   "outputs": [],
   "source": [
    "from src.utils.analysis_utils import object_fields_count_stats"
   ]
  },
  {
   "cell_type": "markdown",
   "metadata": {},
   "source": [
    "#### Duplicated Entry Checks\n",
    "\n",
    "Now, we will be analyzing the dataframe for any duplicate entries. This will involve identifying and removing any duplicate rows in the dataframe to ensure that our data is clean and accurate. \n",
    "\n",
    "This step is important as duplicate data can lead to inaccurate or misleading results in our analysis. We will be using pandas inbuilt methods to check for duplicate rows and remove them as necessary."
   ]
  },
  {
   "cell_type": "code",
   "execution_count": 106,
   "metadata": {},
   "outputs": [
    {
     "data": {
      "text/html": [
       "<pre style=\"white-space:pre;overflow-x:auto;line-height:normal;font-family:Menlo,'DejaVu Sans Mono',consolas,'Courier New',monospace\">There are <span style=\"color: #008080; text-decoration-color: #008080; font-weight: bold\">18</span> duplicated entries in the dataframe\n",
       "</pre>\n"
      ],
      "text/plain": [
       "There are \u001b[1;36m18\u001b[0m duplicated entries in the dataframe\n"
      ]
     },
     "metadata": {},
     "output_type": "display_data"
    }
   ],
   "source": [
    "# Create boolean mask to get duplicated entries\n",
    "dup_mask = services_df.drop(columns=\"scrape_ts\").duplicated()\n",
    "\n",
    "# Apply the mask over dataframe\n",
    "dup_entries = services_df[dup_mask]\n",
    "\n",
    "# Print the results\n",
    "print(f\"There are {len(dup_entries)} duplicated entries in the dataframe\")"
   ]
  },
  {
   "cell_type": "markdown",
   "metadata": {},
   "source": [
    "#### Unique Value Checks\n",
    "\n",
    "In this section, we will be checking the number of unique values present in each object type column in the data set. Object type columns are those columns in the data set that contain string values, as opposed to numerical or boolean values. \n",
    "\n",
    "This check is important as it helps us understand the diversity of the data in each column and helps us identify columns that may contain redundant or irrelevant information.\n",
    "\n",
    "To perform this check, we will use the `object_fields_count_stats()` utility function that will provide not only unique values but, some other valuable count related statistics.\n",
    "\n",
    "The different info that the function provides are as follows:\n",
    "\n",
    "- `total_rows`: The total number of rows in a specific column.\n",
    "- `null_rows`: The number of rows in a specific column containing null or missing values.\n",
    "- `not_null_rows`: The number of rows in a specific column with non-null or present values.\n",
    "- `unique_item_count`: The count of unique items in a specific column.\n",
    "- `distinct_item_count`: The count of items that appear only once in a specific column."
   ]
  },
  {
   "cell_type": "code",
   "execution_count": 85,
   "metadata": {},
   "outputs": [
    {
     "data": {
      "text/html": [
       "<div>\n",
       "<style scoped>\n",
       "    .dataframe tbody tr th:only-of-type {\n",
       "        vertical-align: middle;\n",
       "    }\n",
       "\n",
       "    .dataframe tbody tr th {\n",
       "        vertical-align: top;\n",
       "    }\n",
       "\n",
       "    .dataframe thead th {\n",
       "        text-align: right;\n",
       "    }\n",
       "</style>\n",
       "<table border=\"1\" class=\"dataframe\">\n",
       "  <thead>\n",
       "    <tr style=\"text-align: right;\">\n",
       "      <th></th>\n",
       "      <th>total_rows</th>\n",
       "      <th>null_rows</th>\n",
       "      <th>not_null_rows</th>\n",
       "      <th>unique_item_count</th>\n",
       "      <th>distinct_item_count</th>\n",
       "    </tr>\n",
       "    <tr>\n",
       "      <th>column</th>\n",
       "      <th></th>\n",
       "      <th></th>\n",
       "      <th></th>\n",
       "      <th></th>\n",
       "      <th></th>\n",
       "    </tr>\n",
       "  </thead>\n",
       "  <tbody>\n",
       "    <tr>\n",
       "      <th>service_name</th>\n",
       "      <td>232</td>\n",
       "      <td>0</td>\n",
       "      <td>232</td>\n",
       "      <td>214</td>\n",
       "      <td>205</td>\n",
       "    </tr>\n",
       "    <tr>\n",
       "      <th>address</th>\n",
       "      <td>232</td>\n",
       "      <td>0</td>\n",
       "      <td>232</td>\n",
       "      <td>209</td>\n",
       "      <td>195</td>\n",
       "    </tr>\n",
       "    <tr>\n",
       "      <th>latitude</th>\n",
       "      <td>232</td>\n",
       "      <td>1</td>\n",
       "      <td>231</td>\n",
       "      <td>213</td>\n",
       "      <td>204</td>\n",
       "    </tr>\n",
       "    <tr>\n",
       "      <th>longitude</th>\n",
       "      <td>232</td>\n",
       "      <td>1</td>\n",
       "      <td>231</td>\n",
       "      <td>213</td>\n",
       "      <td>204</td>\n",
       "    </tr>\n",
       "    <tr>\n",
       "      <th>services_offered</th>\n",
       "      <td>232</td>\n",
       "      <td>0</td>\n",
       "      <td>232</td>\n",
       "      <td>19</td>\n",
       "      <td>9</td>\n",
       "    </tr>\n",
       "    <tr>\n",
       "      <th>details_url</th>\n",
       "      <td>232</td>\n",
       "      <td>0</td>\n",
       "      <td>232</td>\n",
       "      <td>214</td>\n",
       "      <td>205</td>\n",
       "    </tr>\n",
       "    <tr>\n",
       "      <th>scrape_ts</th>\n",
       "      <td>232</td>\n",
       "      <td>0</td>\n",
       "      <td>232</td>\n",
       "      <td>232</td>\n",
       "      <td>232</td>\n",
       "    </tr>\n",
       "  </tbody>\n",
       "</table>\n",
       "</div>"
      ],
      "text/plain": [
       "                  total_rows  null_rows  not_null_rows  unique_item_count  \\\n",
       "column                                                                      \n",
       "service_name             232          0            232                214   \n",
       "address                  232          0            232                209   \n",
       "latitude                 232          1            231                213   \n",
       "longitude                232          1            231                213   \n",
       "services_offered         232          0            232                 19   \n",
       "details_url              232          0            232                214   \n",
       "scrape_ts                232          0            232                232   \n",
       "\n",
       "                  distinct_item_count  \n",
       "column                                 \n",
       "service_name                      205  \n",
       "address                           195  \n",
       "latitude                          204  \n",
       "longitude                         204  \n",
       "services_offered                    9  \n",
       "details_url                       205  \n",
       "scrape_ts                         232  "
      ]
     },
     "execution_count": 85,
     "metadata": {},
     "output_type": "execute_result"
    }
   ],
   "source": [
    "# Get count statistics for object type fields\n",
    "count_stats_df = object_fields_count_stats(services_df)\n",
    "\n",
    "# View count statistics\n",
    "count_stats_df"
   ]
  },
  {
   "cell_type": "markdown",
   "metadata": {},
   "source": [
    "## Data Transformation"
   ]
  },
  {
   "cell_type": "code",
   "execution_count": 111,
   "metadata": {},
   "outputs": [],
   "source": [
    "services_df_unq = services_df.drop(columns=\"scrape_ts\").drop_duplicates()\n",
    "services_df = services_df.loc[services_df_unq.index]"
   ]
  },
  {
   "cell_type": "code",
   "execution_count": 112,
   "metadata": {},
   "outputs": [
    {
     "data": {
      "text/html": [
       "<pre style=\"white-space:pre;overflow-x:auto;line-height:normal;font-family:Menlo,'DejaVu Sans Mono',consolas,'Courier New',monospace\">There are <span style=\"color: #008080; text-decoration-color: #008080; font-weight: bold\">0</span> duplicated entries in the dataframe\n",
       "</pre>\n"
      ],
      "text/plain": [
       "There are \u001b[1;36m0\u001b[0m duplicated entries in the dataframe\n"
      ]
     },
     "metadata": {},
     "output_type": "display_data"
    }
   ],
   "source": [
    "# Create boolean mask to get duplicated entries\n",
    "dup_mask = services_df.drop(columns=\"scrape_ts\").duplicated()\n",
    "\n",
    "# Apply the mask over dataframe\n",
    "dup_entries = services_df[dup_mask]\n",
    "\n",
    "# Print the results\n",
    "print(f\"There are {len(dup_entries)} duplicated entries in the dataframe\")"
   ]
  },
  {
   "cell_type": "code",
   "execution_count": 87,
   "metadata": {},
   "outputs": [
    {
     "data": {
      "text/html": [
       "<div>\n",
       "<style scoped>\n",
       "    .dataframe tbody tr th:only-of-type {\n",
       "        vertical-align: middle;\n",
       "    }\n",
       "\n",
       "    .dataframe tbody tr th {\n",
       "        vertical-align: top;\n",
       "    }\n",
       "\n",
       "    .dataframe thead th {\n",
       "        text-align: right;\n",
       "    }\n",
       "</style>\n",
       "<table border=\"1\" class=\"dataframe\">\n",
       "  <thead>\n",
       "    <tr style=\"text-align: right;\">\n",
       "      <th></th>\n",
       "      <th>service_name</th>\n",
       "      <th>address</th>\n",
       "      <th>latitude</th>\n",
       "      <th>longitude</th>\n",
       "      <th>services_offered</th>\n",
       "      <th>details_url</th>\n",
       "      <th>scrape_ts</th>\n",
       "    </tr>\n",
       "  </thead>\n",
       "  <tbody>\n",
       "    <tr>\n",
       "      <th>154</th>\n",
       "      <td>Cleanaway Narangba Vacuum Truck Liquid Waste S...</td>\n",
       "      <td>109 Potassium Street, Narangba, QLD, 4504</td>\n",
       "      <td>None</td>\n",
       "      <td>None</td>\n",
       "      <td>Miscellaneous</td>\n",
       "      <td>https://www.cleanaway.com.au/location/narangba/</td>\n",
       "      <td>2024-07-11 14:32:06</td>\n",
       "    </tr>\n",
       "  </tbody>\n",
       "</table>\n",
       "</div>"
      ],
      "text/plain": [
       "                                          service_name  \\\n",
       "154  Cleanaway Narangba Vacuum Truck Liquid Waste S...   \n",
       "\n",
       "                                       address latitude longitude  \\\n",
       "154  109 Potassium Street, Narangba, QLD, 4504     None      None   \n",
       "\n",
       "    services_offered                                      details_url  \\\n",
       "154    Miscellaneous  https://www.cleanaway.com.au/location/narangba/   \n",
       "\n",
       "               scrape_ts  \n",
       "154  2024-07-11 14:32:06  "
      ]
     },
     "execution_count": 87,
     "metadata": {},
     "output_type": "execute_result"
    }
   ],
   "source": [
    "services_df[services_df[\"longitude\"].isna()]"
   ]
  },
  {
   "cell_type": "code",
   "execution_count": 91,
   "metadata": {},
   "outputs": [
    {
     "ename": "ImportError",
     "evalue": "cannot import name 'get_lat_long' from 'src.utils.basic_utils' (d:\\Projects\\Github\\04_Data_Analytics\\Analyzing-Cleanway-Services\\src\\utils\\basic_utils.py)",
     "output_type": "error",
     "traceback": [
      "\u001b[1;31m---------------------------------------------------------------------------\u001b[0m",
      "\u001b[1;31mImportError\u001b[0m                               Traceback (most recent call last)",
      "Cell \u001b[1;32mIn[91], line 1\u001b[0m\n\u001b[1;32m----> 1\u001b[0m \u001b[38;5;28;01mfrom\u001b[39;00m \u001b[38;5;21;01msrc\u001b[39;00m\u001b[38;5;21;01m.\u001b[39;00m\u001b[38;5;21;01mutils\u001b[39;00m\u001b[38;5;21;01m.\u001b[39;00m\u001b[38;5;21;01mbasic_utils\u001b[39;00m \u001b[38;5;28;01mimport\u001b[39;00m get_lat_long\n",
      "\u001b[1;31mImportError\u001b[0m: cannot import name 'get_lat_long' from 'src.utils.basic_utils' (d:\\Projects\\Github\\04_Data_Analytics\\Analyzing-Cleanway-Services\\src\\utils\\basic_utils.py)"
     ]
    }
   ],
   "source": [
    "from src.utils.basic_utils import get_lat_long"
   ]
  },
  {
   "cell_type": "code",
   "execution_count": 92,
   "metadata": {},
   "outputs": [],
   "source": [
    "def get_lat_long(address):\n",
    "    url = f\"https://nominatim.openstreetmap.org/?q={address}&format=json\"\n",
    "    response = httpx.get(url)\n",
    "    if response.status_code == 200:\n",
    "        data = response.json()\n",
    "        return {\"lat\": float(data[0][\"lat\"]), \"long\": float(data[0][\"lon\"])}\n",
    "    else:\n",
    "        return \"Error: Unable to retrieve location information\""
   ]
  },
  {
   "cell_type": "code",
   "execution_count": 93,
   "metadata": {},
   "outputs": [],
   "source": [
    "def apply_function(row):\n",
    "    if pd.isnull(row[\"latitude\"]) or pd.isnull(row[\"longitude\"]):\n",
    "        coordinates = get_lat_long(row[\"address\"])\n",
    "        latitude, longitude = coordinates[\"lat\"], coordinates[\"long\"]\n",
    "        return latitude, longitude\n",
    "    else:\n",
    "        return row[\"latitude\"], row[\"longitude\"]"
   ]
  },
  {
   "cell_type": "code",
   "execution_count": 94,
   "metadata": {},
   "outputs": [
    {
     "name": "stdout",
     "output_type": "stream",
     "text": [
      "[2024-07-11 06:46:45 PM]:httpx INFO:_client 1026 - HTTP Request: GET https://nominatim.openstreetmap.org/?q=109%20Potassium%20Street,%20Narangba,%20QLD,%204504&format=json \"HTTP/1.1 200 OK\"\n"
     ]
    }
   ],
   "source": [
    "services_df[\"latitude\"], services_df[\"longitude\"] = zip(\n",
    "    *services_df.apply(apply_function, axis=1)\n",
    ")"
   ]
  },
  {
   "cell_type": "code",
   "execution_count": 95,
   "metadata": {},
   "outputs": [
    {
     "data": {
      "text/html": [
       "<pre style=\"white-space:pre;overflow-x:auto;line-height:normal;font-family:Menlo,'DejaVu Sans Mono',consolas,'Courier New',monospace\"><span style=\"font-style: italic\">        Dataframe Structure        </span>\n",
       "┏━━━━━━━━━━━━━━━━━━━━━━┳━━━━━━━━━━┓\n",
       "┃<span style=\"font-weight: bold\"> Dataframe Attributes </span>┃<span style=\"font-weight: bold\">    Value </span>┃\n",
       "┡━━━━━━━━━━━━━━━━━━━━━━╇━━━━━━━━━━┩\n",
       "│<span style=\"color: #00ffff; text-decoration-color: #00ffff\"> Dimensions           </span>│<span style=\"color: #ff00ff; text-decoration-color: #ff00ff\">        2 </span>│\n",
       "│<span style=\"color: #00ffff; text-decoration-color: #00ffff\"> Shape                </span>│<span style=\"color: #ff00ff; text-decoration-color: #ff00ff\"> (232, 7) </span>│\n",
       "│<span style=\"color: #00ffff; text-decoration-color: #00ffff\"> Row Count            </span>│<span style=\"color: #ff00ff; text-decoration-color: #ff00ff\">      232 </span>│\n",
       "│<span style=\"color: #00ffff; text-decoration-color: #00ffff\"> Column Count         </span>│<span style=\"color: #ff00ff; text-decoration-color: #ff00ff\">        7 </span>│\n",
       "│<span style=\"color: #00ffff; text-decoration-color: #00ffff\"> Total Datapoints     </span>│<span style=\"color: #ff00ff; text-decoration-color: #ff00ff\">     1624 </span>│\n",
       "│<span style=\"color: #00ffff; text-decoration-color: #00ffff\"> Null Datapoints      </span>│<span style=\"color: #ff00ff; text-decoration-color: #ff00ff\">        0 </span>│\n",
       "│<span style=\"color: #00ffff; text-decoration-color: #00ffff\"> Non-Null Datapoints  </span>│<span style=\"color: #ff00ff; text-decoration-color: #ff00ff\">     1624 </span>│\n",
       "│<span style=\"color: #00ffff; text-decoration-color: #00ffff\"> Total Memory Usage   </span>│<span style=\"color: #ff00ff; text-decoration-color: #ff00ff\">   142540 </span>│\n",
       "│<span style=\"color: #00ffff; text-decoration-color: #00ffff\"> Average Memory Usage </span>│<span style=\"color: #ff00ff; text-decoration-color: #ff00ff\">  17818.0 </span>│\n",
       "└──────────────────────┴──────────┘\n",
       "</pre>\n"
      ],
      "text/plain": [
       "\u001b[3m        Dataframe Structure        \u001b[0m\n",
       "┏━━━━━━━━━━━━━━━━━━━━━━┳━━━━━━━━━━┓\n",
       "┃\u001b[1m \u001b[0m\u001b[1mDataframe Attributes\u001b[0m\u001b[1m \u001b[0m┃\u001b[1m \u001b[0m\u001b[1m   Value\u001b[0m\u001b[1m \u001b[0m┃\n",
       "┡━━━━━━━━━━━━━━━━━━━━━━╇━━━━━━━━━━┩\n",
       "│\u001b[96m \u001b[0m\u001b[96mDimensions          \u001b[0m\u001b[96m \u001b[0m│\u001b[95m \u001b[0m\u001b[95m       2\u001b[0m\u001b[95m \u001b[0m│\n",
       "│\u001b[96m \u001b[0m\u001b[96mShape               \u001b[0m\u001b[96m \u001b[0m│\u001b[95m \u001b[0m\u001b[95m(232, 7)\u001b[0m\u001b[95m \u001b[0m│\n",
       "│\u001b[96m \u001b[0m\u001b[96mRow Count           \u001b[0m\u001b[96m \u001b[0m│\u001b[95m \u001b[0m\u001b[95m     232\u001b[0m\u001b[95m \u001b[0m│\n",
       "│\u001b[96m \u001b[0m\u001b[96mColumn Count        \u001b[0m\u001b[96m \u001b[0m│\u001b[95m \u001b[0m\u001b[95m       7\u001b[0m\u001b[95m \u001b[0m│\n",
       "│\u001b[96m \u001b[0m\u001b[96mTotal Datapoints    \u001b[0m\u001b[96m \u001b[0m│\u001b[95m \u001b[0m\u001b[95m    1624\u001b[0m\u001b[95m \u001b[0m│\n",
       "│\u001b[96m \u001b[0m\u001b[96mNull Datapoints     \u001b[0m\u001b[96m \u001b[0m│\u001b[95m \u001b[0m\u001b[95m       0\u001b[0m\u001b[95m \u001b[0m│\n",
       "│\u001b[96m \u001b[0m\u001b[96mNon-Null Datapoints \u001b[0m\u001b[96m \u001b[0m│\u001b[95m \u001b[0m\u001b[95m    1624\u001b[0m\u001b[95m \u001b[0m│\n",
       "│\u001b[96m \u001b[0m\u001b[96mTotal Memory Usage  \u001b[0m\u001b[96m \u001b[0m│\u001b[95m \u001b[0m\u001b[95m  142540\u001b[0m\u001b[95m \u001b[0m│\n",
       "│\u001b[96m \u001b[0m\u001b[96mAverage Memory Usage\u001b[0m\u001b[96m \u001b[0m│\u001b[95m \u001b[0m\u001b[95m 17818.0\u001b[0m\u001b[95m \u001b[0m│\n",
       "└──────────────────────┴──────────┘\n"
      ]
     },
     "metadata": {},
     "output_type": "display_data"
    }
   ],
   "source": [
    "# Get the dataframe structure details\n",
    "df_structure = dataframe_structure(services_df)\n",
    "print(dict_to_table(df_structure, \"Dataframe Structure\"))"
   ]
  },
  {
   "cell_type": "code",
   "execution_count": 96,
   "metadata": {},
   "outputs": [
    {
     "data": {
      "text/plain": [
       "0            Lot 1 Beaudesert-Boonah Road, Bromelton QLD\n",
       "1      2-16 Cuming Road & 37 Maxwell Street, Albany, ...\n",
       "2                      26 Reiff St, Lavington, NSW, 2641\n",
       "3               4-8 Station Street, Alexandra, VIC, 3714\n",
       "4                  6 Wilkinson Street, Ciccone, NT, 0870\n",
       "                             ...                        \n",
       "227                   2/9 Romet Road, Wodonga, VIC, 3690\n",
       "228                1 Amsterdam Circuit, Wyong, NSW, 2259\n",
       "229                      29 Binary St, Yatala, QLD, 4207\n",
       "230                20 Chillingworks Rd, Young, NSW, 2594\n",
       "231                510 Summerhill Road, Wollert VIC 3750\n",
       "Name: address, Length: 232, dtype: object"
      ]
     },
     "execution_count": 96,
     "metadata": {},
     "output_type": "execute_result"
    }
   ],
   "source": [
    "services_df[\"address\"]"
   ]
  },
  {
   "cell_type": "code",
   "execution_count": 98,
   "metadata": {},
   "outputs": [],
   "source": [
    "services_df[\"state\"] = services_df[\"address\"].str.extract(\n",
    "    r\".+?((?:[A-Z]{2,3}|Victoria|Vic|Western Australia))\", expand=False\n",
    ")\n",
    "services_df[\"postcode\"] = services_df[\"address\"].str.extract(\n",
    "    r\".* (\\d{4})\", expand=False\n",
    ")"
   ]
  },
  {
   "cell_type": "code",
   "execution_count": 99,
   "metadata": {},
   "outputs": [
    {
     "data": {
      "text/plain": [
       "array(['QLD', 'WA', 'NSW', 'VIC', 'NT', 'Vic', 'Victoria', 'ACT', 'SA',\n",
       "       'TAS', 'Western Australia'], dtype=object)"
      ]
     },
     "execution_count": 99,
     "metadata": {},
     "output_type": "execute_result"
    }
   ],
   "source": [
    "services_df[\"state\"].unique()"
   ]
  },
  {
   "cell_type": "code",
   "execution_count": 100,
   "metadata": {},
   "outputs": [],
   "source": [
    "services_df[\"state\"] = (\n",
    "    services_df[\"state\"]\n",
    "    .str.replace(r\"Vic(?:toria)?\", \"VIC\", regex=True)\n",
    "    .str.replace(\"Western Australia\", \"WA\")\n",
    ")"
   ]
  },
  {
   "cell_type": "code",
   "execution_count": 102,
   "metadata": {},
   "outputs": [
    {
     "data": {
      "text/html": [
       "<pre style=\"white-space:pre;overflow-x:auto;line-height:normal;font-family:Menlo,'DejaVu Sans Mono',consolas,'Courier New',monospace\"><span style=\"font-style: italic\">        Dataframe Structure        </span>\n",
       "┏━━━━━━━━━━━━━━━━━━━━━━┳━━━━━━━━━━┓\n",
       "┃<span style=\"font-weight: bold\"> Dataframe Attributes </span>┃<span style=\"font-weight: bold\">    Value </span>┃\n",
       "┡━━━━━━━━━━━━━━━━━━━━━━╇━━━━━━━━━━┩\n",
       "│<span style=\"color: #00ffff; text-decoration-color: #00ffff\"> Dimensions           </span>│<span style=\"color: #ff00ff; text-decoration-color: #ff00ff\">        2 </span>│\n",
       "│<span style=\"color: #00ffff; text-decoration-color: #00ffff\"> Shape                </span>│<span style=\"color: #ff00ff; text-decoration-color: #ff00ff\"> (232, 9) </span>│\n",
       "│<span style=\"color: #00ffff; text-decoration-color: #00ffff\"> Row Count            </span>│<span style=\"color: #ff00ff; text-decoration-color: #ff00ff\">      232 </span>│\n",
       "│<span style=\"color: #00ffff; text-decoration-color: #00ffff\"> Column Count         </span>│<span style=\"color: #ff00ff; text-decoration-color: #ff00ff\">        9 </span>│\n",
       "│<span style=\"color: #00ffff; text-decoration-color: #00ffff\"> Total Datapoints     </span>│<span style=\"color: #ff00ff; text-decoration-color: #ff00ff\">     2088 </span>│\n",
       "│<span style=\"color: #00ffff; text-decoration-color: #00ffff\"> Null Datapoints      </span>│<span style=\"color: #ff00ff; text-decoration-color: #ff00ff\">        3 </span>│\n",
       "│<span style=\"color: #00ffff; text-decoration-color: #00ffff\"> Non-Null Datapoints  </span>│<span style=\"color: #ff00ff; text-decoration-color: #ff00ff\">     2085 </span>│\n",
       "│<span style=\"color: #00ffff; text-decoration-color: #00ffff\"> Total Memory Usage   </span>│<span style=\"color: #ff00ff; text-decoration-color: #ff00ff\">   170467 </span>│\n",
       "│<span style=\"color: #00ffff; text-decoration-color: #00ffff\"> Average Memory Usage </span>│<span style=\"color: #ff00ff; text-decoration-color: #ff00ff\">  17047.0 </span>│\n",
       "└──────────────────────┴──────────┘\n",
       "</pre>\n"
      ],
      "text/plain": [
       "\u001b[3m        Dataframe Structure        \u001b[0m\n",
       "┏━━━━━━━━━━━━━━━━━━━━━━┳━━━━━━━━━━┓\n",
       "┃\u001b[1m \u001b[0m\u001b[1mDataframe Attributes\u001b[0m\u001b[1m \u001b[0m┃\u001b[1m \u001b[0m\u001b[1m   Value\u001b[0m\u001b[1m \u001b[0m┃\n",
       "┡━━━━━━━━━━━━━━━━━━━━━━╇━━━━━━━━━━┩\n",
       "│\u001b[96m \u001b[0m\u001b[96mDimensions          \u001b[0m\u001b[96m \u001b[0m│\u001b[95m \u001b[0m\u001b[95m       2\u001b[0m\u001b[95m \u001b[0m│\n",
       "│\u001b[96m \u001b[0m\u001b[96mShape               \u001b[0m\u001b[96m \u001b[0m│\u001b[95m \u001b[0m\u001b[95m(232, 9)\u001b[0m\u001b[95m \u001b[0m│\n",
       "│\u001b[96m \u001b[0m\u001b[96mRow Count           \u001b[0m\u001b[96m \u001b[0m│\u001b[95m \u001b[0m\u001b[95m     232\u001b[0m\u001b[95m \u001b[0m│\n",
       "│\u001b[96m \u001b[0m\u001b[96mColumn Count        \u001b[0m\u001b[96m \u001b[0m│\u001b[95m \u001b[0m\u001b[95m       9\u001b[0m\u001b[95m \u001b[0m│\n",
       "│\u001b[96m \u001b[0m\u001b[96mTotal Datapoints    \u001b[0m\u001b[96m \u001b[0m│\u001b[95m \u001b[0m\u001b[95m    2088\u001b[0m\u001b[95m \u001b[0m│\n",
       "│\u001b[96m \u001b[0m\u001b[96mNull Datapoints     \u001b[0m\u001b[96m \u001b[0m│\u001b[95m \u001b[0m\u001b[95m       3\u001b[0m\u001b[95m \u001b[0m│\n",
       "│\u001b[96m \u001b[0m\u001b[96mNon-Null Datapoints \u001b[0m\u001b[96m \u001b[0m│\u001b[95m \u001b[0m\u001b[95m    2085\u001b[0m\u001b[95m \u001b[0m│\n",
       "│\u001b[96m \u001b[0m\u001b[96mTotal Memory Usage  \u001b[0m\u001b[96m \u001b[0m│\u001b[95m \u001b[0m\u001b[95m  170467\u001b[0m\u001b[95m \u001b[0m│\n",
       "│\u001b[96m \u001b[0m\u001b[96mAverage Memory Usage\u001b[0m\u001b[96m \u001b[0m│\u001b[95m \u001b[0m\u001b[95m 17047.0\u001b[0m\u001b[95m \u001b[0m│\n",
       "└──────────────────────┴──────────┘\n"
      ]
     },
     "metadata": {},
     "output_type": "display_data"
    }
   ],
   "source": [
    "# Get the dataframe structure details\n",
    "df_structure = dataframe_structure(services_df)\n",
    "print(dict_to_table(df_structure, \"Dataframe Structure\"))"
   ]
  },
  {
   "cell_type": "code",
   "execution_count": 113,
   "metadata": {},
   "outputs": [
    {
     "data": {
      "text/html": [
       "<div>\n",
       "<style scoped>\n",
       "    .dataframe tbody tr th:only-of-type {\n",
       "        vertical-align: middle;\n",
       "    }\n",
       "\n",
       "    .dataframe tbody tr th {\n",
       "        vertical-align: top;\n",
       "    }\n",
       "\n",
       "    .dataframe thead th {\n",
       "        text-align: right;\n",
       "    }\n",
       "</style>\n",
       "<table border=\"1\" class=\"dataframe\">\n",
       "  <thead>\n",
       "    <tr style=\"text-align: right;\">\n",
       "      <th></th>\n",
       "      <th>total_rows</th>\n",
       "      <th>null_rows</th>\n",
       "      <th>not_null_rows</th>\n",
       "      <th>unique_item_count</th>\n",
       "      <th>distinct_item_count</th>\n",
       "    </tr>\n",
       "    <tr>\n",
       "      <th>column</th>\n",
       "      <th></th>\n",
       "      <th></th>\n",
       "      <th></th>\n",
       "      <th></th>\n",
       "      <th></th>\n",
       "    </tr>\n",
       "  </thead>\n",
       "  <tbody>\n",
       "    <tr>\n",
       "      <th>service_name</th>\n",
       "      <td>214</td>\n",
       "      <td>0</td>\n",
       "      <td>214</td>\n",
       "      <td>214</td>\n",
       "      <td>214</td>\n",
       "    </tr>\n",
       "    <tr>\n",
       "      <th>address</th>\n",
       "      <td>214</td>\n",
       "      <td>0</td>\n",
       "      <td>214</td>\n",
       "      <td>209</td>\n",
       "      <td>204</td>\n",
       "    </tr>\n",
       "    <tr>\n",
       "      <th>latitude</th>\n",
       "      <td>214</td>\n",
       "      <td>0</td>\n",
       "      <td>214</td>\n",
       "      <td>214</td>\n",
       "      <td>214</td>\n",
       "    </tr>\n",
       "    <tr>\n",
       "      <th>longitude</th>\n",
       "      <td>214</td>\n",
       "      <td>0</td>\n",
       "      <td>214</td>\n",
       "      <td>214</td>\n",
       "      <td>214</td>\n",
       "    </tr>\n",
       "    <tr>\n",
       "      <th>services_offered</th>\n",
       "      <td>214</td>\n",
       "      <td>0</td>\n",
       "      <td>214</td>\n",
       "      <td>19</td>\n",
       "      <td>9</td>\n",
       "    </tr>\n",
       "    <tr>\n",
       "      <th>details_url</th>\n",
       "      <td>214</td>\n",
       "      <td>0</td>\n",
       "      <td>214</td>\n",
       "      <td>214</td>\n",
       "      <td>214</td>\n",
       "    </tr>\n",
       "    <tr>\n",
       "      <th>scrape_ts</th>\n",
       "      <td>214</td>\n",
       "      <td>0</td>\n",
       "      <td>214</td>\n",
       "      <td>214</td>\n",
       "      <td>214</td>\n",
       "    </tr>\n",
       "    <tr>\n",
       "      <th>state</th>\n",
       "      <td>214</td>\n",
       "      <td>0</td>\n",
       "      <td>214</td>\n",
       "      <td>8</td>\n",
       "      <td>0</td>\n",
       "    </tr>\n",
       "    <tr>\n",
       "      <th>postcode</th>\n",
       "      <td>214</td>\n",
       "      <td>1</td>\n",
       "      <td>213</td>\n",
       "      <td>158</td>\n",
       "      <td>121</td>\n",
       "    </tr>\n",
       "  </tbody>\n",
       "</table>\n",
       "</div>"
      ],
      "text/plain": [
       "                  total_rows  null_rows  not_null_rows  unique_item_count  \\\n",
       "column                                                                      \n",
       "service_name             214          0            214                214   \n",
       "address                  214          0            214                209   \n",
       "latitude                 214          0            214                214   \n",
       "longitude                214          0            214                214   \n",
       "services_offered         214          0            214                 19   \n",
       "details_url              214          0            214                214   \n",
       "scrape_ts                214          0            214                214   \n",
       "state                    214          0            214                  8   \n",
       "postcode                 214          1            213                158   \n",
       "\n",
       "                  distinct_item_count  \n",
       "column                                 \n",
       "service_name                      214  \n",
       "address                           204  \n",
       "latitude                          214  \n",
       "longitude                         214  \n",
       "services_offered                    9  \n",
       "details_url                       214  \n",
       "scrape_ts                         214  \n",
       "state                               0  \n",
       "postcode                          121  "
      ]
     },
     "execution_count": 113,
     "metadata": {},
     "output_type": "execute_result"
    }
   ],
   "source": [
    "# Get count statistics for object type fields\n",
    "count_stats_df = object_fields_count_stats(services_df)\n",
    "\n",
    "# View count statistics\n",
    "count_stats_df"
   ]
  },
  {
   "cell_type": "code",
   "execution_count": 114,
   "metadata": {},
   "outputs": [
    {
     "data": {
      "text/html": [
       "<div>\n",
       "<style scoped>\n",
       "    .dataframe tbody tr th:only-of-type {\n",
       "        vertical-align: middle;\n",
       "    }\n",
       "\n",
       "    .dataframe tbody tr th {\n",
       "        vertical-align: top;\n",
       "    }\n",
       "\n",
       "    .dataframe thead th {\n",
       "        text-align: right;\n",
       "    }\n",
       "</style>\n",
       "<table border=\"1\" class=\"dataframe\">\n",
       "  <thead>\n",
       "    <tr style=\"text-align: right;\">\n",
       "      <th></th>\n",
       "      <th>service_name</th>\n",
       "      <th>address</th>\n",
       "      <th>latitude</th>\n",
       "      <th>longitude</th>\n",
       "      <th>services_offered</th>\n",
       "      <th>details_url</th>\n",
       "      <th>scrape_ts</th>\n",
       "      <th>state</th>\n",
       "      <th>postcode</th>\n",
       "    </tr>\n",
       "  </thead>\n",
       "  <tbody>\n",
       "    <tr>\n",
       "      <th>0</th>\n",
       "      <td>Bromelton Energy &amp; Resource Centre</td>\n",
       "      <td>Lot 1 Beaudesert-Boonah Road, Bromelton QLD</td>\n",
       "      <td>-27.975059190727386</td>\n",
       "      <td>152.92509487274305</td>\n",
       "      <td>Miscellaneous</td>\n",
       "      <td>https://www.cleanaway.com.au/location/bromelto...</td>\n",
       "      <td>2024-07-11 14:21:52</td>\n",
       "      <td>QLD</td>\n",
       "      <td>NaN</td>\n",
       "    </tr>\n",
       "  </tbody>\n",
       "</table>\n",
       "</div>"
      ],
      "text/plain": [
       "                         service_name  \\\n",
       "0  Bromelton Energy & Resource Centre   \n",
       "\n",
       "                                       address             latitude  \\\n",
       "0  Lot 1 Beaudesert-Boonah Road, Bromelton QLD  -27.975059190727386   \n",
       "\n",
       "            longitude services_offered  \\\n",
       "0  152.92509487274305    Miscellaneous   \n",
       "\n",
       "                                         details_url            scrape_ts  \\\n",
       "0  https://www.cleanaway.com.au/location/bromelto...  2024-07-11 14:21:52   \n",
       "\n",
       "  state postcode  \n",
       "0   QLD      NaN  "
      ]
     },
     "execution_count": 114,
     "metadata": {},
     "output_type": "execute_result"
    }
   ],
   "source": [
    "services_df[services_df[\"postcode\"].isna()]"
   ]
  },
  {
   "cell_type": "code",
   "execution_count": null,
   "metadata": {},
   "outputs": [],
   "source": [
    "from src.utils.basic_utils import get_postcode"
   ]
  },
  {
   "cell_type": "code",
   "execution_count": 101,
   "metadata": {},
   "outputs": [],
   "source": [
    "def get_postcode(address):\n",
    "    postcode_pattern = r\".* (\\d{4})\"\n",
    "    url = f\"https://nominatim.openstreetmap.org/?q={address}&format=json\"\n",
    "    response = httpx.get(url)\n",
    "    if response.status_code == 200:\n",
    "        data = response.json()\n",
    "        for loc in data:\n",
    "            loc_name = loc[\"display_name\"]\n",
    "            if re.findall(postcode_pattern, loc_name):\n",
    "                return re.findall(postcode_pattern, loc_name)\n",
    "    else:\n",
    "        return \"Error: Unable to retrieve location information\""
   ]
  },
  {
   "cell_type": "code",
   "execution_count": 117,
   "metadata": {},
   "outputs": [],
   "source": [
    "def apply_postcode_function(row):\n",
    "    if pd.isnull(row[\"postcode\"]):\n",
    "        postcode = get_postcode(row[\"address\"])[0]\n",
    "        return postcode\n",
    "    else:\n",
    "        return row[\"postcode\"]"
   ]
  },
  {
   "cell_type": "code",
   "execution_count": 118,
   "metadata": {},
   "outputs": [
    {
     "name": "stdout",
     "output_type": "stream",
     "text": [
      "[2024-07-11 07:14:19 PM]:httpx INFO:_client 1026 - HTTP Request: GET https://nominatim.openstreetmap.org/?q=Lot%201%20Beaudesert-Boonah%20Road,%20Bromelton%20QLD&format=json \"HTTP/1.1 200 OK\"\n"
     ]
    }
   ],
   "source": [
    "services_df[\"postcode\"] = services_df.apply(apply_postcode_function, axis=1)"
   ]
  },
  {
   "cell_type": "code",
   "execution_count": 119,
   "metadata": {},
   "outputs": [
    {
     "data": {
      "text/html": [
       "<div>\n",
       "<style scoped>\n",
       "    .dataframe tbody tr th:only-of-type {\n",
       "        vertical-align: middle;\n",
       "    }\n",
       "\n",
       "    .dataframe tbody tr th {\n",
       "        vertical-align: top;\n",
       "    }\n",
       "\n",
       "    .dataframe thead th {\n",
       "        text-align: right;\n",
       "    }\n",
       "</style>\n",
       "<table border=\"1\" class=\"dataframe\">\n",
       "  <thead>\n",
       "    <tr style=\"text-align: right;\">\n",
       "      <th></th>\n",
       "      <th>service_name</th>\n",
       "      <th>address</th>\n",
       "      <th>latitude</th>\n",
       "      <th>longitude</th>\n",
       "      <th>services_offered</th>\n",
       "      <th>details_url</th>\n",
       "      <th>scrape_ts</th>\n",
       "      <th>state</th>\n",
       "      <th>postcode</th>\n",
       "    </tr>\n",
       "  </thead>\n",
       "  <tbody>\n",
       "  </tbody>\n",
       "</table>\n",
       "</div>"
      ],
      "text/plain": [
       "Empty DataFrame\n",
       "Columns: [service_name, address, latitude, longitude, services_offered, details_url, scrape_ts, state, postcode]\n",
       "Index: []"
      ]
     },
     "execution_count": 119,
     "metadata": {},
     "output_type": "execute_result"
    }
   ],
   "source": [
    "services_df[services_df[\"postcode\"].isna()]"
   ]
  },
  {
   "cell_type": "code",
   "execution_count": 120,
   "metadata": {},
   "outputs": [
    {
     "data": {
      "text/html": [
       "<pre style=\"white-space:pre;overflow-x:auto;line-height:normal;font-family:Menlo,'DejaVu Sans Mono',consolas,'Courier New',monospace\"><span style=\"font-style: italic\">        Dataframe Structure        </span>\n",
       "┏━━━━━━━━━━━━━━━━━━━━━━┳━━━━━━━━━━┓\n",
       "┃<span style=\"font-weight: bold\"> Dataframe Attributes </span>┃<span style=\"font-weight: bold\">    Value </span>┃\n",
       "┡━━━━━━━━━━━━━━━━━━━━━━╇━━━━━━━━━━┩\n",
       "│<span style=\"color: #00ffff; text-decoration-color: #00ffff\"> Dimensions           </span>│<span style=\"color: #ff00ff; text-decoration-color: #ff00ff\">        2 </span>│\n",
       "│<span style=\"color: #00ffff; text-decoration-color: #00ffff\"> Shape                </span>│<span style=\"color: #ff00ff; text-decoration-color: #ff00ff\"> (214, 9) </span>│\n",
       "│<span style=\"color: #00ffff; text-decoration-color: #00ffff\"> Row Count            </span>│<span style=\"color: #ff00ff; text-decoration-color: #ff00ff\">      214 </span>│\n",
       "│<span style=\"color: #00ffff; text-decoration-color: #00ffff\"> Column Count         </span>│<span style=\"color: #ff00ff; text-decoration-color: #ff00ff\">        9 </span>│\n",
       "│<span style=\"color: #00ffff; text-decoration-color: #00ffff\"> Total Datapoints     </span>│<span style=\"color: #ff00ff; text-decoration-color: #ff00ff\">     1926 </span>│\n",
       "│<span style=\"color: #00ffff; text-decoration-color: #00ffff\"> Null Datapoints      </span>│<span style=\"color: #ff00ff; text-decoration-color: #ff00ff\">        0 </span>│\n",
       "│<span style=\"color: #00ffff; text-decoration-color: #00ffff\"> Non-Null Datapoints  </span>│<span style=\"color: #ff00ff; text-decoration-color: #ff00ff\">     1926 </span>│\n",
       "│<span style=\"color: #00ffff; text-decoration-color: #00ffff\"> Total Memory Usage   </span>│<span style=\"color: #ff00ff; text-decoration-color: #ff00ff\">   159204 </span>│\n",
       "│<span style=\"color: #00ffff; text-decoration-color: #00ffff\"> Average Memory Usage </span>│<span style=\"color: #ff00ff; text-decoration-color: #ff00ff\">  15920.0 </span>│\n",
       "└──────────────────────┴──────────┘\n",
       "</pre>\n"
      ],
      "text/plain": [
       "\u001b[3m        Dataframe Structure        \u001b[0m\n",
       "┏━━━━━━━━━━━━━━━━━━━━━━┳━━━━━━━━━━┓\n",
       "┃\u001b[1m \u001b[0m\u001b[1mDataframe Attributes\u001b[0m\u001b[1m \u001b[0m┃\u001b[1m \u001b[0m\u001b[1m   Value\u001b[0m\u001b[1m \u001b[0m┃\n",
       "┡━━━━━━━━━━━━━━━━━━━━━━╇━━━━━━━━━━┩\n",
       "│\u001b[96m \u001b[0m\u001b[96mDimensions          \u001b[0m\u001b[96m \u001b[0m│\u001b[95m \u001b[0m\u001b[95m       2\u001b[0m\u001b[95m \u001b[0m│\n",
       "│\u001b[96m \u001b[0m\u001b[96mShape               \u001b[0m\u001b[96m \u001b[0m│\u001b[95m \u001b[0m\u001b[95m(214, 9)\u001b[0m\u001b[95m \u001b[0m│\n",
       "│\u001b[96m \u001b[0m\u001b[96mRow Count           \u001b[0m\u001b[96m \u001b[0m│\u001b[95m \u001b[0m\u001b[95m     214\u001b[0m\u001b[95m \u001b[0m│\n",
       "│\u001b[96m \u001b[0m\u001b[96mColumn Count        \u001b[0m\u001b[96m \u001b[0m│\u001b[95m \u001b[0m\u001b[95m       9\u001b[0m\u001b[95m \u001b[0m│\n",
       "│\u001b[96m \u001b[0m\u001b[96mTotal Datapoints    \u001b[0m\u001b[96m \u001b[0m│\u001b[95m \u001b[0m\u001b[95m    1926\u001b[0m\u001b[95m \u001b[0m│\n",
       "│\u001b[96m \u001b[0m\u001b[96mNull Datapoints     \u001b[0m\u001b[96m \u001b[0m│\u001b[95m \u001b[0m\u001b[95m       0\u001b[0m\u001b[95m \u001b[0m│\n",
       "│\u001b[96m \u001b[0m\u001b[96mNon-Null Datapoints \u001b[0m\u001b[96m \u001b[0m│\u001b[95m \u001b[0m\u001b[95m    1926\u001b[0m\u001b[95m \u001b[0m│\n",
       "│\u001b[96m \u001b[0m\u001b[96mTotal Memory Usage  \u001b[0m\u001b[96m \u001b[0m│\u001b[95m \u001b[0m\u001b[95m  159204\u001b[0m\u001b[95m \u001b[0m│\n",
       "│\u001b[96m \u001b[0m\u001b[96mAverage Memory Usage\u001b[0m\u001b[96m \u001b[0m│\u001b[95m \u001b[0m\u001b[95m 15920.0\u001b[0m\u001b[95m \u001b[0m│\n",
       "└──────────────────────┴──────────┘\n"
      ]
     },
     "metadata": {},
     "output_type": "display_data"
    }
   ],
   "source": [
    "# Get the dataframe structure details\n",
    "df_structure = dataframe_structure(services_df)\n",
    "print(dict_to_table(df_structure, \"Dataframe Structure\"))"
   ]
  },
  {
   "cell_type": "code",
   "execution_count": 122,
   "metadata": {},
   "outputs": [
    {
     "data": {
      "text/plain": [
       "array(['Miscellaneous', 'Solid waste services, Office',\n",
       "       'Solid waste services',\n",
       "       'Liquid waste services, Industrial waste services',\n",
       "       'Liquid waste services', 'Industrial waste services', 'Office',\n",
       "       'Office, Public Waste Drop-off',\n",
       "       'Solid waste services, Transfer Station', 'Cleanaway Daniels',\n",
       "       'Transfer Station, Office', 'Transfer Station',\n",
       "       'Industrial waste services, Office',\n",
       "       'Solid waste services, Liquid waste services',\n",
       "       'Solid waste services, Industrial waste services',\n",
       "       'Liquid waste services, Office',\n",
       "       'Hazardous Soil Treatment, Industrial Waste Services Depot',\n",
       "       'Transfer Station, Office, Public Waste Drop-off, Commercial Waste Drop-off',\n",
       "       'Liquid waste services, Industrial waste services, Office'],\n",
       "      dtype=object)"
      ]
     },
     "execution_count": 122,
     "metadata": {},
     "output_type": "execute_result"
    }
   ],
   "source": [
    "services_df[\"services_offered\"].unique()"
   ]
  },
  {
   "cell_type": "code",
   "execution_count": 123,
   "metadata": {},
   "outputs": [],
   "source": [
    "custom_index_col = pd.RangeIndex(\n",
    "    start=1000, stop=1000 + len(services_df), step=1, name=\"id\"\n",
    ")\n",
    "\n",
    "services_df.index = custom_index_col\n",
    "\n",
    "services_df.index = \"SVC\" + services_df.index.astype(\"string\")\n",
    "\n",
    "services_df = services_df.reset_index()"
   ]
  },
  {
   "cell_type": "code",
   "execution_count": 124,
   "metadata": {},
   "outputs": [
    {
     "data": {
      "text/html": [
       "<div>\n",
       "<style scoped>\n",
       "    .dataframe tbody tr th:only-of-type {\n",
       "        vertical-align: middle;\n",
       "    }\n",
       "\n",
       "    .dataframe tbody tr th {\n",
       "        vertical-align: top;\n",
       "    }\n",
       "\n",
       "    .dataframe thead th {\n",
       "        text-align: right;\n",
       "    }\n",
       "</style>\n",
       "<table border=\"1\" class=\"dataframe\">\n",
       "  <thead>\n",
       "    <tr style=\"text-align: right;\">\n",
       "      <th></th>\n",
       "      <th>id</th>\n",
       "      <th>service_name</th>\n",
       "      <th>address</th>\n",
       "      <th>latitude</th>\n",
       "      <th>longitude</th>\n",
       "      <th>services_offered</th>\n",
       "      <th>details_url</th>\n",
       "      <th>scrape_ts</th>\n",
       "      <th>state</th>\n",
       "      <th>postcode</th>\n",
       "    </tr>\n",
       "  </thead>\n",
       "  <tbody>\n",
       "    <tr>\n",
       "      <th>0</th>\n",
       "      <td>P1000</td>\n",
       "      <td>Bromelton Energy &amp; Resource Centre</td>\n",
       "      <td>Lot 1 Beaudesert-Boonah Road, Bromelton QLD</td>\n",
       "      <td>-27.975059190727386</td>\n",
       "      <td>152.92509487274305</td>\n",
       "      <td>Miscellaneous</td>\n",
       "      <td>https://www.cleanaway.com.au/location/bromelto...</td>\n",
       "      <td>2024-07-11 14:21:52</td>\n",
       "      <td>QLD</td>\n",
       "      <td>4285</td>\n",
       "    </tr>\n",
       "    <tr>\n",
       "      <th>1</th>\n",
       "      <td>P1001</td>\n",
       "      <td>Albany Material Recovery Facility</td>\n",
       "      <td>2-16 Cuming Road &amp; 37 Maxwell Street, Albany, ...</td>\n",
       "      <td>-35.01078332713777</td>\n",
       "      <td>117.86331638131479</td>\n",
       "      <td>Solid waste services, Office</td>\n",
       "      <td>https://www.cleanaway.com.au/location/albany/</td>\n",
       "      <td>2024-07-11 14:22:03</td>\n",
       "      <td>WA</td>\n",
       "      <td>6330</td>\n",
       "    </tr>\n",
       "    <tr>\n",
       "      <th>2</th>\n",
       "      <td>P1002</td>\n",
       "      <td>Albury-Wodonga Solid Waste Services</td>\n",
       "      <td>26 Reiff St, Lavington, NSW, 2641</td>\n",
       "      <td>-36.037913</td>\n",
       "      <td>146.964581</td>\n",
       "      <td>Solid waste services</td>\n",
       "      <td>https://www.cleanaway.com.au/location/lavington/</td>\n",
       "      <td>2024-07-11 14:22:07</td>\n",
       "      <td>NSW</td>\n",
       "      <td>2641</td>\n",
       "    </tr>\n",
       "    <tr>\n",
       "      <th>3</th>\n",
       "      <td>P1003</td>\n",
       "      <td>Alexandra Solid Waste Services</td>\n",
       "      <td>4-8 Station Street, Alexandra, VIC, 3714</td>\n",
       "      <td>-37.183192</td>\n",
       "      <td>145.712031</td>\n",
       "      <td>Solid waste services</td>\n",
       "      <td>https://www.cleanaway.com.au/location/alexandra/</td>\n",
       "      <td>2024-07-11 14:22:15</td>\n",
       "      <td>VIC</td>\n",
       "      <td>3714</td>\n",
       "    </tr>\n",
       "    <tr>\n",
       "      <th>4</th>\n",
       "      <td>P1004</td>\n",
       "      <td>Cleanaway Alice Springs Solid Waste Depot</td>\n",
       "      <td>6 Wilkinson Street, Ciccone, NT, 0870</td>\n",
       "      <td>-23.700021</td>\n",
       "      <td>133.871345</td>\n",
       "      <td>Solid waste services</td>\n",
       "      <td>https://www.cleanaway.com.au/location/alice-sp...</td>\n",
       "      <td>2024-07-11 14:22:18</td>\n",
       "      <td>NT</td>\n",
       "      <td>0870</td>\n",
       "    </tr>\n",
       "  </tbody>\n",
       "</table>\n",
       "</div>"
      ],
      "text/plain": [
       "      id                               service_name  \\\n",
       "0  P1000         Bromelton Energy & Resource Centre   \n",
       "1  P1001          Albany Material Recovery Facility   \n",
       "2  P1002        Albury-Wodonga Solid Waste Services   \n",
       "3  P1003             Alexandra Solid Waste Services   \n",
       "4  P1004  Cleanaway Alice Springs Solid Waste Depot   \n",
       "\n",
       "                                             address             latitude  \\\n",
       "0        Lot 1 Beaudesert-Boonah Road, Bromelton QLD  -27.975059190727386   \n",
       "1  2-16 Cuming Road & 37 Maxwell Street, Albany, ...   -35.01078332713777   \n",
       "2                  26 Reiff St, Lavington, NSW, 2641           -36.037913   \n",
       "3           4-8 Station Street, Alexandra, VIC, 3714           -37.183192   \n",
       "4              6 Wilkinson Street, Ciccone, NT, 0870           -23.700021   \n",
       "\n",
       "            longitude              services_offered  \\\n",
       "0  152.92509487274305                 Miscellaneous   \n",
       "1  117.86331638131479  Solid waste services, Office   \n",
       "2          146.964581          Solid waste services   \n",
       "3          145.712031          Solid waste services   \n",
       "4          133.871345          Solid waste services   \n",
       "\n",
       "                                         details_url            scrape_ts  \\\n",
       "0  https://www.cleanaway.com.au/location/bromelto...  2024-07-11 14:21:52   \n",
       "1      https://www.cleanaway.com.au/location/albany/  2024-07-11 14:22:03   \n",
       "2   https://www.cleanaway.com.au/location/lavington/  2024-07-11 14:22:07   \n",
       "3   https://www.cleanaway.com.au/location/alexandra/  2024-07-11 14:22:15   \n",
       "4  https://www.cleanaway.com.au/location/alice-sp...  2024-07-11 14:22:18   \n",
       "\n",
       "  state postcode  \n",
       "0   QLD     4285  \n",
       "1    WA     6330  \n",
       "2   NSW     2641  \n",
       "3   VIC     3714  \n",
       "4    NT     0870  "
      ]
     },
     "execution_count": 124,
     "metadata": {},
     "output_type": "execute_result"
    }
   ],
   "source": [
    "services_df.head()"
   ]
  },
  {
   "cell_type": "code",
   "execution_count": 125,
   "metadata": {},
   "outputs": [
    {
     "data": {
      "text/html": [
       "<div>\n",
       "<style scoped>\n",
       "    .dataframe tbody tr th:only-of-type {\n",
       "        vertical-align: middle;\n",
       "    }\n",
       "\n",
       "    .dataframe tbody tr th {\n",
       "        vertical-align: top;\n",
       "    }\n",
       "\n",
       "    .dataframe thead th {\n",
       "        text-align: right;\n",
       "    }\n",
       "</style>\n",
       "<table border=\"1\" class=\"dataframe\">\n",
       "  <thead>\n",
       "    <tr style=\"text-align: right;\">\n",
       "      <th></th>\n",
       "      <th>id</th>\n",
       "      <th>service_name</th>\n",
       "      <th>address</th>\n",
       "      <th>latitude</th>\n",
       "      <th>longitude</th>\n",
       "      <th>services_offered</th>\n",
       "      <th>details_url</th>\n",
       "      <th>scrape_ts</th>\n",
       "      <th>state</th>\n",
       "      <th>postcode</th>\n",
       "    </tr>\n",
       "  </thead>\n",
       "  <tbody>\n",
       "    <tr>\n",
       "      <th>0</th>\n",
       "      <td>P1000</td>\n",
       "      <td>Bromelton Energy &amp; Resource Centre</td>\n",
       "      <td>Lot 1 Beaudesert-Boonah Road, Bromelton QLD</td>\n",
       "      <td>-27.975059190727386</td>\n",
       "      <td>152.92509487274305</td>\n",
       "      <td>[Miscellaneous]</td>\n",
       "      <td>https://www.cleanaway.com.au/location/bromelto...</td>\n",
       "      <td>2024-07-11 14:21:52</td>\n",
       "      <td>QLD</td>\n",
       "      <td>4285</td>\n",
       "    </tr>\n",
       "    <tr>\n",
       "      <th>1</th>\n",
       "      <td>P1001</td>\n",
       "      <td>Albany Material Recovery Facility</td>\n",
       "      <td>2-16 Cuming Road &amp; 37 Maxwell Street, Albany, ...</td>\n",
       "      <td>-35.01078332713777</td>\n",
       "      <td>117.86331638131479</td>\n",
       "      <td>[Solid waste services,  Office]</td>\n",
       "      <td>https://www.cleanaway.com.au/location/albany/</td>\n",
       "      <td>2024-07-11 14:22:03</td>\n",
       "      <td>WA</td>\n",
       "      <td>6330</td>\n",
       "    </tr>\n",
       "    <tr>\n",
       "      <th>2</th>\n",
       "      <td>P1002</td>\n",
       "      <td>Albury-Wodonga Solid Waste Services</td>\n",
       "      <td>26 Reiff St, Lavington, NSW, 2641</td>\n",
       "      <td>-36.037913</td>\n",
       "      <td>146.964581</td>\n",
       "      <td>[Solid waste services]</td>\n",
       "      <td>https://www.cleanaway.com.au/location/lavington/</td>\n",
       "      <td>2024-07-11 14:22:07</td>\n",
       "      <td>NSW</td>\n",
       "      <td>2641</td>\n",
       "    </tr>\n",
       "    <tr>\n",
       "      <th>3</th>\n",
       "      <td>P1003</td>\n",
       "      <td>Alexandra Solid Waste Services</td>\n",
       "      <td>4-8 Station Street, Alexandra, VIC, 3714</td>\n",
       "      <td>-37.183192</td>\n",
       "      <td>145.712031</td>\n",
       "      <td>[Solid waste services]</td>\n",
       "      <td>https://www.cleanaway.com.au/location/alexandra/</td>\n",
       "      <td>2024-07-11 14:22:15</td>\n",
       "      <td>VIC</td>\n",
       "      <td>3714</td>\n",
       "    </tr>\n",
       "    <tr>\n",
       "      <th>4</th>\n",
       "      <td>P1004</td>\n",
       "      <td>Cleanaway Alice Springs Solid Waste Depot</td>\n",
       "      <td>6 Wilkinson Street, Ciccone, NT, 0870</td>\n",
       "      <td>-23.700021</td>\n",
       "      <td>133.871345</td>\n",
       "      <td>[Solid waste services]</td>\n",
       "      <td>https://www.cleanaway.com.au/location/alice-sp...</td>\n",
       "      <td>2024-07-11 14:22:18</td>\n",
       "      <td>NT</td>\n",
       "      <td>0870</td>\n",
       "    </tr>\n",
       "    <tr>\n",
       "      <th>...</th>\n",
       "      <td>...</td>\n",
       "      <td>...</td>\n",
       "      <td>...</td>\n",
       "      <td>...</td>\n",
       "      <td>...</td>\n",
       "      <td>...</td>\n",
       "      <td>...</td>\n",
       "      <td>...</td>\n",
       "      <td>...</td>\n",
       "      <td>...</td>\n",
       "    </tr>\n",
       "    <tr>\n",
       "      <th>209</th>\n",
       "      <td>P1209</td>\n",
       "      <td>Cleanaway Wodonga Industrial Waste Services</td>\n",
       "      <td>2/9 Romet Road, Wodonga, VIC, 3690</td>\n",
       "      <td>-36.11166500739213</td>\n",
       "      <td>146.85815657030102</td>\n",
       "      <td>[Industrial waste services]</td>\n",
       "      <td>https://www.cleanaway.com.au/location/wodonga/</td>\n",
       "      <td>2024-07-11 14:37:46</td>\n",
       "      <td>VIC</td>\n",
       "      <td>3690</td>\n",
       "    </tr>\n",
       "    <tr>\n",
       "      <th>210</th>\n",
       "      <td>P1210</td>\n",
       "      <td>Cleanaway Wyong Solid Waste Depot</td>\n",
       "      <td>1 Amsterdam Circuit, Wyong, NSW, 2259</td>\n",
       "      <td>-33.264526357566275</td>\n",
       "      <td>151.45145710619676</td>\n",
       "      <td>[Solid waste services,  Office]</td>\n",
       "      <td>https://www.cleanaway.com.au/location/wyong/</td>\n",
       "      <td>2024-07-11 14:37:49</td>\n",
       "      <td>NSW</td>\n",
       "      <td>2259</td>\n",
       "    </tr>\n",
       "    <tr>\n",
       "      <th>211</th>\n",
       "      <td>P1211</td>\n",
       "      <td>Cleanaway Yatala Liquid Waste Services</td>\n",
       "      <td>29 Binary St, Yatala, QLD, 4207</td>\n",
       "      <td>-27.757649419169535</td>\n",
       "      <td>153.23397267269092</td>\n",
       "      <td>[Liquid waste services]</td>\n",
       "      <td>https://www.cleanaway.com.au/location/yatala/</td>\n",
       "      <td>2024-07-11 14:37:53</td>\n",
       "      <td>QLD</td>\n",
       "      <td>4207</td>\n",
       "    </tr>\n",
       "    <tr>\n",
       "      <th>212</th>\n",
       "      <td>P1212</td>\n",
       "      <td>Cleanaway Young Solid Waste Services</td>\n",
       "      <td>20 Chillingworks Rd, Young, NSW, 2594</td>\n",
       "      <td>-34.30134824214955</td>\n",
       "      <td>148.2713198766994</td>\n",
       "      <td>[Solid waste services]</td>\n",
       "      <td>https://www.cleanaway.com.au/location/young-nsw/</td>\n",
       "      <td>2024-07-11 14:37:57</td>\n",
       "      <td>NSW</td>\n",
       "      <td>2594</td>\n",
       "    </tr>\n",
       "    <tr>\n",
       "      <th>213</th>\n",
       "      <td>P1213</td>\n",
       "      <td>Melbourne Energy &amp; Resource Centre</td>\n",
       "      <td>510 Summerhill Road, Wollert VIC 3750</td>\n",
       "      <td>-37.57592265294685</td>\n",
       "      <td>144.97817345499203</td>\n",
       "      <td>[Miscellaneous]</td>\n",
       "      <td>https://www.cleanaway.com.au/location/melbourn...</td>\n",
       "      <td>2024-07-11 14:38:01</td>\n",
       "      <td>VIC</td>\n",
       "      <td>3750</td>\n",
       "    </tr>\n",
       "  </tbody>\n",
       "</table>\n",
       "<p>214 rows × 10 columns</p>\n",
       "</div>"
      ],
      "text/plain": [
       "        id                                 service_name  \\\n",
       "0    P1000           Bromelton Energy & Resource Centre   \n",
       "1    P1001            Albany Material Recovery Facility   \n",
       "2    P1002          Albury-Wodonga Solid Waste Services   \n",
       "3    P1003               Alexandra Solid Waste Services   \n",
       "4    P1004    Cleanaway Alice Springs Solid Waste Depot   \n",
       "..     ...                                          ...   \n",
       "209  P1209  Cleanaway Wodonga Industrial Waste Services   \n",
       "210  P1210            Cleanaway Wyong Solid Waste Depot   \n",
       "211  P1211       Cleanaway Yatala Liquid Waste Services   \n",
       "212  P1212         Cleanaway Young Solid Waste Services   \n",
       "213  P1213           Melbourne Energy & Resource Centre   \n",
       "\n",
       "                                               address             latitude  \\\n",
       "0          Lot 1 Beaudesert-Boonah Road, Bromelton QLD  -27.975059190727386   \n",
       "1    2-16 Cuming Road & 37 Maxwell Street, Albany, ...   -35.01078332713777   \n",
       "2                    26 Reiff St, Lavington, NSW, 2641           -36.037913   \n",
       "3             4-8 Station Street, Alexandra, VIC, 3714           -37.183192   \n",
       "4                6 Wilkinson Street, Ciccone, NT, 0870           -23.700021   \n",
       "..                                                 ...                  ...   \n",
       "209                 2/9 Romet Road, Wodonga, VIC, 3690   -36.11166500739213   \n",
       "210              1 Amsterdam Circuit, Wyong, NSW, 2259  -33.264526357566275   \n",
       "211                    29 Binary St, Yatala, QLD, 4207  -27.757649419169535   \n",
       "212              20 Chillingworks Rd, Young, NSW, 2594   -34.30134824214955   \n",
       "213              510 Summerhill Road, Wollert VIC 3750   -37.57592265294685   \n",
       "\n",
       "              longitude                 services_offered  \\\n",
       "0    152.92509487274305                  [Miscellaneous]   \n",
       "1    117.86331638131479  [Solid waste services,  Office]   \n",
       "2            146.964581           [Solid waste services]   \n",
       "3            145.712031           [Solid waste services]   \n",
       "4            133.871345           [Solid waste services]   \n",
       "..                  ...                              ...   \n",
       "209  146.85815657030102      [Industrial waste services]   \n",
       "210  151.45145710619676  [Solid waste services,  Office]   \n",
       "211  153.23397267269092          [Liquid waste services]   \n",
       "212   148.2713198766994           [Solid waste services]   \n",
       "213  144.97817345499203                  [Miscellaneous]   \n",
       "\n",
       "                                           details_url            scrape_ts  \\\n",
       "0    https://www.cleanaway.com.au/location/bromelto...  2024-07-11 14:21:52   \n",
       "1        https://www.cleanaway.com.au/location/albany/  2024-07-11 14:22:03   \n",
       "2     https://www.cleanaway.com.au/location/lavington/  2024-07-11 14:22:07   \n",
       "3     https://www.cleanaway.com.au/location/alexandra/  2024-07-11 14:22:15   \n",
       "4    https://www.cleanaway.com.au/location/alice-sp...  2024-07-11 14:22:18   \n",
       "..                                                 ...                  ...   \n",
       "209     https://www.cleanaway.com.au/location/wodonga/  2024-07-11 14:37:46   \n",
       "210       https://www.cleanaway.com.au/location/wyong/  2024-07-11 14:37:49   \n",
       "211      https://www.cleanaway.com.au/location/yatala/  2024-07-11 14:37:53   \n",
       "212   https://www.cleanaway.com.au/location/young-nsw/  2024-07-11 14:37:57   \n",
       "213  https://www.cleanaway.com.au/location/melbourn...  2024-07-11 14:38:01   \n",
       "\n",
       "    state postcode  \n",
       "0     QLD     4285  \n",
       "1      WA     6330  \n",
       "2     NSW     2641  \n",
       "3     VIC     3714  \n",
       "4      NT     0870  \n",
       "..    ...      ...  \n",
       "209   VIC     3690  \n",
       "210   NSW     2259  \n",
       "211   QLD     4207  \n",
       "212   NSW     2594  \n",
       "213   VIC     3750  \n",
       "\n",
       "[214 rows x 10 columns]"
      ]
     },
     "execution_count": 125,
     "metadata": {},
     "output_type": "execute_result"
    }
   ],
   "source": [
    "services_df[\"services_offered\"] = services_df[\"services_offered\"].str.split(\",\")\n",
    "services_df"
   ]
  },
  {
   "cell_type": "code",
   "execution_count": 127,
   "metadata": {},
   "outputs": [
    {
     "data": {
      "text/html": [
       "<div>\n",
       "<style scoped>\n",
       "    .dataframe tbody tr th:only-of-type {\n",
       "        vertical-align: middle;\n",
       "    }\n",
       "\n",
       "    .dataframe tbody tr th {\n",
       "        vertical-align: top;\n",
       "    }\n",
       "\n",
       "    .dataframe thead th {\n",
       "        text-align: right;\n",
       "    }\n",
       "</style>\n",
       "<table border=\"1\" class=\"dataframe\">\n",
       "  <thead>\n",
       "    <tr style=\"text-align: right;\">\n",
       "      <th></th>\n",
       "      <th>id</th>\n",
       "      <th>service_name</th>\n",
       "      <th>address</th>\n",
       "      <th>latitude</th>\n",
       "      <th>longitude</th>\n",
       "      <th>services_offered</th>\n",
       "      <th>details_url</th>\n",
       "      <th>scrape_ts</th>\n",
       "      <th>state</th>\n",
       "      <th>postcode</th>\n",
       "    </tr>\n",
       "  </thead>\n",
       "  <tbody>\n",
       "    <tr>\n",
       "      <th>0</th>\n",
       "      <td>P1000</td>\n",
       "      <td>Bromelton Energy &amp; Resource Centre</td>\n",
       "      <td>Lot 1 Beaudesert-Boonah Road, Bromelton QLD</td>\n",
       "      <td>-27.975059190727386</td>\n",
       "      <td>152.92509487274305</td>\n",
       "      <td>Miscellaneous</td>\n",
       "      <td>https://www.cleanaway.com.au/location/bromelto...</td>\n",
       "      <td>2024-07-11 14:21:52</td>\n",
       "      <td>QLD</td>\n",
       "      <td>4285</td>\n",
       "    </tr>\n",
       "    <tr>\n",
       "      <th>1</th>\n",
       "      <td>P1001</td>\n",
       "      <td>Albany Material Recovery Facility</td>\n",
       "      <td>2-16 Cuming Road &amp; 37 Maxwell Street, Albany, ...</td>\n",
       "      <td>-35.01078332713777</td>\n",
       "      <td>117.86331638131479</td>\n",
       "      <td>Solid waste services</td>\n",
       "      <td>https://www.cleanaway.com.au/location/albany/</td>\n",
       "      <td>2024-07-11 14:22:03</td>\n",
       "      <td>WA</td>\n",
       "      <td>6330</td>\n",
       "    </tr>\n",
       "    <tr>\n",
       "      <th>1</th>\n",
       "      <td>P1001</td>\n",
       "      <td>Albany Material Recovery Facility</td>\n",
       "      <td>2-16 Cuming Road &amp; 37 Maxwell Street, Albany, ...</td>\n",
       "      <td>-35.01078332713777</td>\n",
       "      <td>117.86331638131479</td>\n",
       "      <td>Office</td>\n",
       "      <td>https://www.cleanaway.com.au/location/albany/</td>\n",
       "      <td>2024-07-11 14:22:03</td>\n",
       "      <td>WA</td>\n",
       "      <td>6330</td>\n",
       "    </tr>\n",
       "    <tr>\n",
       "      <th>2</th>\n",
       "      <td>P1002</td>\n",
       "      <td>Albury-Wodonga Solid Waste Services</td>\n",
       "      <td>26 Reiff St, Lavington, NSW, 2641</td>\n",
       "      <td>-36.037913</td>\n",
       "      <td>146.964581</td>\n",
       "      <td>Solid waste services</td>\n",
       "      <td>https://www.cleanaway.com.au/location/lavington/</td>\n",
       "      <td>2024-07-11 14:22:07</td>\n",
       "      <td>NSW</td>\n",
       "      <td>2641</td>\n",
       "    </tr>\n",
       "    <tr>\n",
       "      <th>3</th>\n",
       "      <td>P1003</td>\n",
       "      <td>Alexandra Solid Waste Services</td>\n",
       "      <td>4-8 Station Street, Alexandra, VIC, 3714</td>\n",
       "      <td>-37.183192</td>\n",
       "      <td>145.712031</td>\n",
       "      <td>Solid waste services</td>\n",
       "      <td>https://www.cleanaway.com.au/location/alexandra/</td>\n",
       "      <td>2024-07-11 14:22:15</td>\n",
       "      <td>VIC</td>\n",
       "      <td>3714</td>\n",
       "    </tr>\n",
       "  </tbody>\n",
       "</table>\n",
       "</div>"
      ],
      "text/plain": [
       "      id                         service_name  \\\n",
       "0  P1000   Bromelton Energy & Resource Centre   \n",
       "1  P1001    Albany Material Recovery Facility   \n",
       "1  P1001    Albany Material Recovery Facility   \n",
       "2  P1002  Albury-Wodonga Solid Waste Services   \n",
       "3  P1003       Alexandra Solid Waste Services   \n",
       "\n",
       "                                             address             latitude  \\\n",
       "0        Lot 1 Beaudesert-Boonah Road, Bromelton QLD  -27.975059190727386   \n",
       "1  2-16 Cuming Road & 37 Maxwell Street, Albany, ...   -35.01078332713777   \n",
       "1  2-16 Cuming Road & 37 Maxwell Street, Albany, ...   -35.01078332713777   \n",
       "2                  26 Reiff St, Lavington, NSW, 2641           -36.037913   \n",
       "3           4-8 Station Street, Alexandra, VIC, 3714           -37.183192   \n",
       "\n",
       "            longitude      services_offered  \\\n",
       "0  152.92509487274305         Miscellaneous   \n",
       "1  117.86331638131479  Solid waste services   \n",
       "1  117.86331638131479                Office   \n",
       "2          146.964581  Solid waste services   \n",
       "3          145.712031  Solid waste services   \n",
       "\n",
       "                                         details_url            scrape_ts  \\\n",
       "0  https://www.cleanaway.com.au/location/bromelto...  2024-07-11 14:21:52   \n",
       "1      https://www.cleanaway.com.au/location/albany/  2024-07-11 14:22:03   \n",
       "1      https://www.cleanaway.com.au/location/albany/  2024-07-11 14:22:03   \n",
       "2   https://www.cleanaway.com.au/location/lavington/  2024-07-11 14:22:07   \n",
       "3   https://www.cleanaway.com.au/location/alexandra/  2024-07-11 14:22:15   \n",
       "\n",
       "  state postcode  \n",
       "0   QLD     4285  \n",
       "1    WA     6330  \n",
       "1    WA     6330  \n",
       "2   NSW     2641  \n",
       "3   VIC     3714  "
      ]
     },
     "execution_count": 127,
     "metadata": {},
     "output_type": "execute_result"
    }
   ],
   "source": [
    "df_exploded = services_df.explode(\"services_offered\")\n",
    "df_exploded.head()"
   ]
  },
  {
   "cell_type": "code",
   "execution_count": 129,
   "metadata": {},
   "outputs": [
    {
     "data": {
      "text/plain": [
       "array(['Miscellaneous', 'Solid waste services', ' Office',\n",
       "       'Liquid waste services', ' Industrial waste services',\n",
       "       'Industrial waste services', 'Office', ' Public Waste Drop-off',\n",
       "       ' Transfer Station', 'Cleanaway Daniels', 'Transfer Station',\n",
       "       ' Liquid waste services', 'Hazardous Soil Treatment',\n",
       "       ' Industrial Waste Services Depot', ' Commercial Waste Drop-off'],\n",
       "      dtype=object)"
      ]
     },
     "execution_count": 129,
     "metadata": {},
     "output_type": "execute_result"
    }
   ],
   "source": [
    "df_exploded[\"services_offered\"].unique()"
   ]
  },
  {
   "cell_type": "code",
   "execution_count": 130,
   "metadata": {},
   "outputs": [],
   "source": [
    "df_exploded[\"services_offered\"] = df_exploded[\"services_offered\"].str.strip()"
   ]
  },
  {
   "cell_type": "code",
   "execution_count": 131,
   "metadata": {},
   "outputs": [
    {
     "data": {
      "text/plain": [
       "array(['Miscellaneous', 'Solid waste services', 'Office',\n",
       "       'Liquid waste services', 'Industrial waste services',\n",
       "       'Public Waste Drop-off', 'Transfer Station', 'Cleanaway Daniels',\n",
       "       'Hazardous Soil Treatment', 'Industrial Waste Services Depot',\n",
       "       'Commercial Waste Drop-off'], dtype=object)"
      ]
     },
     "execution_count": 131,
     "metadata": {},
     "output_type": "execute_result"
    }
   ],
   "source": [
    "df_exploded[\"services_offered\"].unique()"
   ]
  },
  {
   "cell_type": "code",
   "execution_count": 134,
   "metadata": {},
   "outputs": [],
   "source": [
    "df_exploded[\"latitude\"] = pd.to_numeric(df_exploded[\"latitude\"], errors=\"coerce\")\n",
    "df_exploded[\"longitude\"] = pd.to_numeric(df_exploded[\"longitude\"], errors=\"coerce\")\n",
    "df_exploded[\"scrape_ts\"] = pd.to_datetime(df_exploded[\"scrape_ts\"])"
   ]
  },
  {
   "cell_type": "code",
   "execution_count": 135,
   "metadata": {},
   "outputs": [
    {
     "name": "stdout",
     "output_type": "stream",
     "text": [
      "<class 'pandas.core.frame.DataFrame'>\n",
      "Index: 249 entries, 0 to 213\n",
      "Data columns (total 10 columns):\n",
      " #   Column            Non-Null Count  Dtype         \n",
      "---  ------            --------------  -----         \n",
      " 0   id                249 non-null    string        \n",
      " 1   service_name      249 non-null    object        \n",
      " 2   address           249 non-null    object        \n",
      " 3   latitude          249 non-null    float64       \n",
      " 4   longitude         249 non-null    float64       \n",
      " 5   services_offered  249 non-null    object        \n",
      " 6   details_url       249 non-null    object        \n",
      " 7   scrape_ts         249 non-null    datetime64[ns]\n",
      " 8   state             249 non-null    object        \n",
      " 9   postcode          249 non-null    object        \n",
      "dtypes: datetime64[ns](1), float64(2), object(6), string(1)\n",
      "memory usage: 21.4+ KB\n"
     ]
    }
   ],
   "source": [
    "df_exploded.info()"
   ]
  },
  {
   "cell_type": "code",
   "execution_count": 136,
   "metadata": {},
   "outputs": [],
   "source": [
    "# check duplicates\n",
    "# rearrange columns\n",
    "# add description to the notebook"
   ]
  }
 ],
 "metadata": {
  "kernelspec": {
   "display_name": ".venv",
   "language": "python",
   "name": "python3"
  },
  "language_info": {
   "codemirror_mode": {
    "name": "ipython",
    "version": 3
   },
   "file_extension": ".py",
   "mimetype": "text/x-python",
   "name": "python",
   "nbconvert_exporter": "python",
   "pygments_lexer": "ipython3",
   "version": "3.10.11"
  }
 },
 "nbformat": 4,
 "nbformat_minor": 2
}
