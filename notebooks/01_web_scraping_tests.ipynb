{
 "cells": [
  {
   "cell_type": "markdown",
   "metadata": {},
   "source": [
    "# Web Scraping Tests"
   ]
  },
  {
   "cell_type": "code",
   "execution_count": 54,
   "metadata": {},
   "outputs": [],
   "source": [
    "import httpx\n",
    "from selectolax.parser import HTMLParser\n",
    "from rich import print\n",
    "import re\n",
    "from urllib.parse import urljoin"
   ]
  },
  {
   "cell_type": "code",
   "execution_count": 5,
   "metadata": {},
   "outputs": [],
   "source": [
    "# setting up constants\n",
    "ROOT_URL = \"https://www.cleanaway.com.au/contact-us/our-locations/\"\n",
    "USER_AGENT = (\n",
    "    \"Mozilla/5.0 (X11; Ubuntu; Linux x86_64; rv:109.0) Gecko/20100101 Firefox/117.0\"\n",
    ")\n",
    "HEADERS = {\"User-Agent\": USER_AGENT, \"accept-language\": \"en-US\"}\n",
    "TIMEOUT = 100"
   ]
  },
  {
   "cell_type": "code",
   "execution_count": 7,
   "metadata": {},
   "outputs": [
    {
     "data": {
      "text/html": [
       "<pre style=\"white-space:pre;overflow-x:auto;line-height:normal;font-family:Menlo,'DejaVu Sans Mono',consolas,'Courier New',monospace\">The status code returned by the website is: <span style=\"color: #008080; text-decoration-color: #008080; font-weight: bold\">200</span>\n",
       "</pre>\n"
      ],
      "text/plain": [
       "The status code returned by the website is: \u001b[1;36m200\u001b[0m\n"
      ]
     },
     "metadata": {},
     "output_type": "display_data"
    }
   ],
   "source": [
    "# get website response\n",
    "response = httpx.get(ROOT_URL, headers=HEADERS, timeout=TIMEOUT)\n",
    "print(f\"The status code returned by the website is: {response.status_code}\")"
   ]
  },
  {
   "cell_type": "code",
   "execution_count": 10,
   "metadata": {},
   "outputs": [
    {
     "data": {
      "text/html": [
       "<pre style=\"white-space:pre;overflow-x:auto;line-height:normal;font-family:Menlo,'DejaVu Sans Mono',consolas,'Courier New',monospace\">The object returned is: <span style=\"font-weight: bold\">&lt;</span><span style=\"color: #ff00ff; text-decoration-color: #ff00ff; font-weight: bold\">HTMLParser</span><span style=\"color: #000000; text-decoration-color: #000000\"> </span><span style=\"color: #808000; text-decoration-color: #808000\">chars</span><span style=\"color: #000000; text-decoration-color: #000000\">=</span><span style=\"color: #008080; text-decoration-color: #008080; font-weight: bold\">293506</span><span style=\"font-weight: bold\">&gt;</span>\n",
       "</pre>\n"
      ],
      "text/plain": [
       "The object returned is: \u001b[1m<\u001b[0m\u001b[1;95mHTMLParser\u001b[0m\u001b[39m \u001b[0m\u001b[33mchars\u001b[0m\u001b[39m=\u001b[0m\u001b[1;36m293506\u001b[0m\u001b[1m>\u001b[0m\n"
      ]
     },
     "metadata": {},
     "output_type": "display_data"
    },
    {
     "data": {
      "text/html": [
       "<pre style=\"white-space:pre;overflow-x:auto;line-height:normal;font-family:Menlo,'DejaVu Sans Mono',consolas,'Courier New',monospace\">The type of the content is: <span style=\"font-weight: bold\">&lt;</span><span style=\"color: #ff00ff; text-decoration-color: #ff00ff; font-weight: bold\">class</span><span style=\"color: #000000; text-decoration-color: #000000\"> </span><span style=\"color: #008000; text-decoration-color: #008000\">'selectolax.parser.HTMLParser'</span><span style=\"font-weight: bold\">&gt;</span>\n",
       "</pre>\n"
      ],
      "text/plain": [
       "The type of the content is: \u001b[1m<\u001b[0m\u001b[1;95mclass\u001b[0m\u001b[39m \u001b[0m\u001b[32m'selectolax.parser.HTMLParser'\u001b[0m\u001b[1m>\u001b[0m\n"
      ]
     },
     "metadata": {},
     "output_type": "display_data"
    }
   ],
   "source": [
    "parsed_html = HTMLParser(response.text)\n",
    "print(f\"The object returned is: {parsed_html}\")\n",
    "print(f\"The type of the content is: {type(parsed_html)}\")"
   ]
  },
  {
   "cell_type": "code",
   "execution_count": 14,
   "metadata": {},
   "outputs": [
    {
     "data": {
      "text/html": [
       "<pre style=\"white-space:pre;overflow-x:auto;line-height:normal;font-family:Menlo,'DejaVu Sans Mono',consolas,'Courier New',monospace\">Number of services listed on the first page: <span style=\"color: #008080; text-decoration-color: #008080; font-weight: bold\">9</span>\n",
       "</pre>\n"
      ],
      "text/plain": [
       "Number of services listed on the first page: \u001b[1;36m9\u001b[0m\n"
      ]
     },
     "metadata": {},
     "output_type": "display_data"
    }
   ],
   "source": [
    "service_links = parsed_html.css(\"div.white-box > a\")\n",
    "print(f\"Number of services listed on the first page: {len(service_links)}\")"
   ]
  },
  {
   "cell_type": "code",
   "execution_count": 26,
   "metadata": {},
   "outputs": [
    {
     "data": {
      "text/html": [
       "<pre style=\"white-space:pre;overflow-x:auto;line-height:normal;font-family:Menlo,'DejaVu Sans Mono',consolas,'Courier New',monospace\"><span style=\"color: #008000; text-decoration-color: #008000; font-weight: bold; text-decoration: underline\">https://www.cleanaway.com.au/location/bromelton-energy-and-resource-centre/</span>\n",
       "</pre>\n"
      ],
      "text/plain": [
       "\u001b[1;4;32mhttps://www.cleanaway.com.au/location/bromelton-energy-and-resource-centre/\u001b[0m\n"
      ]
     },
     "metadata": {},
     "output_type": "display_data"
    },
    {
     "data": {
      "text/html": [
       "<pre style=\"white-space:pre;overflow-x:auto;line-height:normal;font-family:Menlo,'DejaVu Sans Mono',consolas,'Courier New',monospace\"><span style=\"color: #008000; text-decoration-color: #008000; font-weight: bold; text-decoration: underline\">https://www.cleanaway.com.au/location/albany/</span>\n",
       "</pre>\n"
      ],
      "text/plain": [
       "\u001b[1;4;32mhttps://www.cleanaway.com.au/location/albany/\u001b[0m\n"
      ]
     },
     "metadata": {},
     "output_type": "display_data"
    },
    {
     "data": {
      "text/html": [
       "<pre style=\"white-space:pre;overflow-x:auto;line-height:normal;font-family:Menlo,'DejaVu Sans Mono',consolas,'Courier New',monospace\"><span style=\"color: #008000; text-decoration-color: #008000; font-weight: bold; text-decoration: underline\">https://www.cleanaway.com.au/location/lavington/</span>\n",
       "</pre>\n"
      ],
      "text/plain": [
       "\u001b[1;4;32mhttps://www.cleanaway.com.au/location/lavington/\u001b[0m\n"
      ]
     },
     "metadata": {},
     "output_type": "display_data"
    },
    {
     "data": {
      "text/html": [
       "<pre style=\"white-space:pre;overflow-x:auto;line-height:normal;font-family:Menlo,'DejaVu Sans Mono',consolas,'Courier New',monospace\"><span style=\"color: #008000; text-decoration-color: #008000; font-weight: bold; text-decoration: underline\">https://www.cleanaway.com.au/location/alexandra/</span>\n",
       "</pre>\n"
      ],
      "text/plain": [
       "\u001b[1;4;32mhttps://www.cleanaway.com.au/location/alexandra/\u001b[0m\n"
      ]
     },
     "metadata": {},
     "output_type": "display_data"
    },
    {
     "data": {
      "text/html": [
       "<pre style=\"white-space:pre;overflow-x:auto;line-height:normal;font-family:Menlo,'DejaVu Sans Mono',consolas,'Courier New',monospace\"><span style=\"color: #008000; text-decoration-color: #008000; font-weight: bold; text-decoration: underline\">https://www.cleanaway.com.au/location/alice-springs/</span>\n",
       "</pre>\n"
      ],
      "text/plain": [
       "\u001b[1;4;32mhttps://www.cleanaway.com.au/location/alice-springs/\u001b[0m\n"
      ]
     },
     "metadata": {},
     "output_type": "display_data"
    },
    {
     "data": {
      "text/html": [
       "<pre style=\"white-space:pre;overflow-x:auto;line-height:normal;font-family:Menlo,'DejaVu Sans Mono',consolas,'Courier New',monospace\"><span style=\"color: #008000; text-decoration-color: #008000; font-weight: bold; text-decoration: underline\">https://www.cleanaway.com.au/location/albany-2/</span>\n",
       "</pre>\n"
      ],
      "text/plain": [
       "\u001b[1;4;32mhttps://www.cleanaway.com.au/location/albany-2/\u001b[0m\n"
      ]
     },
     "metadata": {},
     "output_type": "display_data"
    },
    {
     "data": {
      "text/html": [
       "<pre style=\"white-space:pre;overflow-x:auto;line-height:normal;font-family:Menlo,'DejaVu Sans Mono',consolas,'Courier New',monospace\"><span style=\"color: #008000; text-decoration-color: #008000; font-weight: bold; text-decoration: underline\">https://www.cleanaway.com.au/location/altona/</span>\n",
       "</pre>\n"
      ],
      "text/plain": [
       "\u001b[1;4;32mhttps://www.cleanaway.com.au/location/altona/\u001b[0m\n"
      ]
     },
     "metadata": {},
     "output_type": "display_data"
    },
    {
     "data": {
      "text/html": [
       "<pre style=\"white-space:pre;overflow-x:auto;line-height:normal;font-family:Menlo,'DejaVu Sans Mono',consolas,'Courier New',monospace\"><span style=\"color: #008000; text-decoration-color: #008000; font-weight: bold; text-decoration: underline\">https://www.cleanaway.com.au/location/armidale/</span>\n",
       "</pre>\n"
      ],
      "text/plain": [
       "\u001b[1;4;32mhttps://www.cleanaway.com.au/location/armidale/\u001b[0m\n"
      ]
     },
     "metadata": {},
     "output_type": "display_data"
    },
    {
     "data": {
      "text/html": [
       "<pre style=\"white-space:pre;overflow-x:auto;line-height:normal;font-family:Menlo,'DejaVu Sans Mono',consolas,'Courier New',monospace\"><span style=\"color: #008000; text-decoration-color: #008000; font-weight: bold; text-decoration: underline\">https://www.cleanaway.com.au/location/cleanaway-artarmon-resource-recovery-centre/</span>\n",
       "</pre>\n"
      ],
      "text/plain": [
       "\u001b[1;4;32mhttps://www.cleanaway.com.au/location/cleanaway-artarmon-resource-recovery-centre/\u001b[0m\n"
      ]
     },
     "metadata": {},
     "output_type": "display_data"
    }
   ],
   "source": [
    "# fetch URLS\n",
    "for service in service_links:\n",
    "    service_url = service.attrs[\"href\"]\n",
    "    print(f\"[bold green]{service_url}[/]\")"
   ]
  },
  {
   "cell_type": "markdown",
   "metadata": {},
   "source": [
    "## Fetch Service Info"
   ]
  },
  {
   "cell_type": "code",
   "execution_count": 32,
   "metadata": {},
   "outputs": [
    {
     "data": {
      "text/html": [
       "<pre style=\"white-space:pre;overflow-x:auto;line-height:normal;font-family:Menlo,'DejaVu Sans Mono',consolas,'Courier New',monospace\"><span style=\"color: #008000; text-decoration-color: #008000; font-weight: bold; text-decoration: underline\">https://www.cleanaway.com.au/location/albany/</span>\n",
       "</pre>\n"
      ],
      "text/plain": [
       "\u001b[1;4;32mhttps://www.cleanaway.com.au/location/albany/\u001b[0m\n"
      ]
     },
     "metadata": {},
     "output_type": "display_data"
    }
   ],
   "source": [
    "service = service_links[1]\n",
    "\n",
    "service_url = service.attrs[\"href\"]\n",
    "print(f\"[green bold]{service_url}[/]\")"
   ]
  },
  {
   "cell_type": "code",
   "execution_count": 33,
   "metadata": {},
   "outputs": [
    {
     "data": {
      "text/html": [
       "<pre style=\"white-space:pre;overflow-x:auto;line-height:normal;font-family:Menlo,'DejaVu Sans Mono',consolas,'Courier New',monospace\"><span style=\"color: #008080; text-decoration-color: #008080; font-weight: bold\">200</span>\n",
       "</pre>\n"
      ],
      "text/plain": [
       "\u001b[1;36m200\u001b[0m\n"
      ]
     },
     "metadata": {},
     "output_type": "display_data"
    }
   ],
   "source": [
    "# get response from product url\n",
    "service_response = httpx.get(service_url, headers=HEADERS, timeout=TIMEOUT)\n",
    "print(service_response.status_code)"
   ]
  },
  {
   "cell_type": "code",
   "execution_count": 34,
   "metadata": {},
   "outputs": [
    {
     "data": {
      "text/plain": [
       "<HTMLParser chars=279374>"
      ]
     },
     "execution_count": 34,
     "metadata": {},
     "output_type": "execute_result"
    }
   ],
   "source": [
    "svc_html = HTMLParser(service_response.text)\n",
    "svc_html"
   ]
  },
  {
   "cell_type": "code",
   "execution_count": 41,
   "metadata": {},
   "outputs": [
    {
     "data": {
      "text/plain": [
       "'Albany Transfer Station & MRF'"
      ]
     },
     "execution_count": 41,
     "metadata": {},
     "output_type": "execute_result"
    }
   ],
   "source": [
    "service_name = svc_html.css_first(\"div.location-box h1\").text(strip=True)\n",
    "service_name"
   ]
  },
  {
   "cell_type": "code",
   "execution_count": 42,
   "metadata": {},
   "outputs": [
    {
     "data": {
      "text/plain": [
       "'2-16 Cuming Road & 37 Maxwell Street, Albany, WA, 6330'"
      ]
     },
     "execution_count": 42,
     "metadata": {},
     "output_type": "execute_result"
    }
   ],
   "source": [
    "address = svc_html.css_first(\"div.location-box div.info-block:first-of-type p a\").text(\n",
    "    strip=True\n",
    ")\n",
    "address"
   ]
  },
  {
   "cell_type": "code",
   "execution_count": 43,
   "metadata": {},
   "outputs": [
    {
     "data": {
      "text/plain": [
       "'http://maps.google.com/maps/place/?q=-35.01078332713777,117.86331638131479'"
      ]
     },
     "execution_count": 43,
     "metadata": {},
     "output_type": "execute_result"
    }
   ],
   "source": [
    "address_url = svc_html.css_first(\n",
    "    \"div.location-box div.info-block:first-of-type p a\"\n",
    ").attrs[\"href\"]\n",
    "address_url"
   ]
  },
  {
   "cell_type": "code",
   "execution_count": 49,
   "metadata": {},
   "outputs": [
    {
     "data": {
      "text/html": [
       "<pre style=\"white-space:pre;overflow-x:auto;line-height:normal;font-family:Menlo,'DejaVu Sans Mono',consolas,'Courier New',monospace\">Solid waste services, Office\n",
       "</pre>\n"
      ],
      "text/plain": [
       "Solid waste services, Office\n"
      ]
     },
     "metadata": {},
     "output_type": "display_data"
    }
   ],
   "source": [
    "if (\n",
    "    \"services\"\n",
    "    in svc_html.css_first(\n",
    "        \"div.location-box div.info-block:last-of-type div.info-block__title\"\n",
    "    )\n",
    "    .text(strip=True)\n",
    "    .lower()\n",
    "):\n",
    "    services = svc_html.css_first(\n",
    "        \"div.location-box div.info-block:last-of-type div.info-block__desc p\"\n",
    "    ).text(strip=True)\n",
    "else:\n",
    "    services = \"Miscellaneous\"\n",
    "\n",
    "print(services)"
   ]
  },
  {
   "cell_type": "code",
   "execution_count": 52,
   "metadata": {},
   "outputs": [
    {
     "data": {
      "text/html": [
       "<pre style=\"white-space:pre;overflow-x:auto;line-height:normal;font-family:Menlo,'DejaVu Sans Mono',consolas,'Courier New',monospace\"><span style=\"color: #008080; text-decoration-color: #008080; font-weight: bold\">-35.01078332713777</span> <span style=\"color: #008080; text-decoration-color: #008080; font-weight: bold\">117.86331638131479</span>\n",
       "</pre>\n"
      ],
      "text/plain": [
       "\u001b[1;36m-35.01078332713777\u001b[0m \u001b[1;36m117.86331638131479\u001b[0m\n"
      ]
     },
     "metadata": {},
     "output_type": "display_data"
    }
   ],
   "source": [
    "lat_long_pattern = re.compile(r\".*\\?q=(.*)\\,(.*)\")\n",
    "lat_long_matches = lat_long_pattern.match(address_url)\n",
    "\n",
    "latitude = lat_long_matches.group(1)\n",
    "longitude = lat_long_matches.group(2)\n",
    "\n",
    "print(latitude, longitude)"
   ]
  },
  {
   "cell_type": "code",
   "execution_count": 55,
   "metadata": {},
   "outputs": [
    {
     "data": {
      "text/plain": [
       "'https://www.cleanaway.com.au/contact-us/our-locations/?pg=2'"
      ]
     },
     "execution_count": 55,
     "metadata": {},
     "output_type": "execute_result"
    }
   ],
   "source": [
    "next_page_url = parsed_html.css_first(\"li.location-pagination__next a\").attrs[\"href\"]\n",
    "next_page_url_link = urljoin(ROOT_URL, next_page_url)\n",
    "\n",
    "next_page_url_link"
   ]
  },
  {
   "cell_type": "code",
   "execution_count": 1,
   "metadata": {},
   "outputs": [],
   "source": [
    "from fake_useragent import UserAgent"
   ]
  },
  {
   "cell_type": "code",
   "execution_count": 32,
   "metadata": {},
   "outputs": [
    {
     "name": "stdout",
     "output_type": "stream",
     "text": [
      "Mozilla/5.0 (X11; Ubuntu; Linux x86_64) AppleWebKit/605.1.15 (KHTML, like Gecko) Version/17.0 Safari/605.1.15\n",
      "<class 'str'>\n",
      "Mozilla/5.0 (X11; Linux x86_64; rv:123.0) Gecko/20100101 Firefox/123.0 \n",
      "<class 'str'>\n",
      "Mozilla/5.0 (X11; Ubuntu; Linux x86_64) AppleWebKit/605.1.15 (KHTML, like Gecko) Version/17.0 Safari/605.1.15\n",
      "<class 'str'>\n",
      "Mozilla/5.0 (X11; Linux x86_64; rv:123.0) Gecko/20100101 Firefox/123.0 \n",
      "<class 'str'>\n",
      "Mozilla/5.0 (X11; Linux x86_64; rv:123.0) Gecko/20100101 Firefox/123.0 \n",
      "<class 'str'>\n"
     ]
    }
   ],
   "source": [
    "user_agent = UserAgent(platforms=\"pc\")\n",
    "for _ in range(5):\n",
    "    ua = user_agent.random\n",
    "    print(ua)\n",
    "    print(type(ua))"
   ]
  },
  {
   "cell_type": "code",
   "execution_count": null,
   "metadata": {},
   "outputs": [],
   "source": [
    "Mozilla/5.0 (Windows NT 10.0; Win64; x64) AppleWebKit/537.36 (KHTML, like Gecko) Chrome/121.0.0.0 Safari/537.36 Edg/121.0.0.0"
   ]
  }
 ],
 "metadata": {
  "kernelspec": {
   "display_name": ".venv",
   "language": "python",
   "name": "python3"
  },
  "language_info": {
   "codemirror_mode": {
    "name": "ipython",
    "version": 3
   },
   "file_extension": ".py",
   "mimetype": "text/x-python",
   "name": "python",
   "nbconvert_exporter": "python",
   "pygments_lexer": "ipython3",
   "version": "3.10.11"
  }
 },
 "nbformat": 4,
 "nbformat_minor": 2
}
